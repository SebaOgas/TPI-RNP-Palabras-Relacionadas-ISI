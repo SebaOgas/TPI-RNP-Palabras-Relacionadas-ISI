{
 "cells": [
  {
   "cell_type": "markdown",
   "metadata": {},
   "source": [
    "# Visualizar Embeddings\n",
    "Utiliza este notebook para generar embeddings de dimensionalidad reducida (2D o 3D) para poder graficarlos."
   ]
  },
  {
   "cell_type": "code",
   "execution_count": 1,
   "metadata": {},
   "outputs": [
    {
     "name": "stdout",
     "output_type": "stream",
     "text": [
      "/home/mrbeast/TPI-RNP-Palabras-Relacionadas-ISI\n"
     ]
    }
   ],
   "source": [
    "import os\n",
    "from os import listdir\n",
    "from os.path import isfile, join\n",
    "import pathlib\n",
    "import torch\n",
    "from sklearn.manifold import TSNE\n",
    "import numpy as np\n",
    "\n",
    "# Seteo el path al root del proyecto\n",
    "dev_folder = 'dev'\n",
    "folders = os.getcwd().split('/')\n",
    "if (len(folders) == 1):\n",
    "    folders = folders[0].split('\\\\')\n",
    "if(folders[-1] == dev_folder):\n",
    "    os.chdir('../')\n",
    "print(os.getcwd())"
   ]
  },
  {
   "cell_type": "code",
   "execution_count": 2,
   "metadata": {},
   "outputs": [],
   "source": [
    "from torch import nn\n",
    "\n",
    "class SkipGram(nn.Module):\n",
    "    def __init__(self, vocabulary, embed_size):\n",
    "        super().__init__()\n",
    "        self.central_embedding = nn.Embedding(num_embeddings=len(vocabulary)+1,\n",
    "                                embedding_dim=embed_size, padding_idx=len(vocabulary))\n",
    "        self.context_embedding = nn.Embedding(num_embeddings=len(vocabulary)+1,\n",
    "                                embedding_dim=embed_size, padding_idx=len(vocabulary))\n",
    "\n",
    "    def forward(self, center, contexts_and_negatives):\n",
    "        v = self.central_embedding(center)\n",
    "        u = self.context_embedding(contexts_and_negatives)\n",
    "        pred = torch.bmm(v, u.permute(0, 2, 1))\n",
    "        return pred"
   ]
  },
  {
   "cell_type": "code",
   "execution_count": 3,
   "metadata": {},
   "outputs": [],
   "source": [
    "import ast\n",
    "\n",
    "def get_vocabulary(vocabularies_path, vocabulary):\n",
    "    with open(vocabularies_path + \"/\" + vocabulary + \".txt\", \"rb\") as cf:\n",
    "        lines = cf.read().decode(\"utf-8\").split(\"\\n\")\n",
    "        return [ast.literal_eval(l) for l in lines]"
   ]
  },
  {
   "cell_type": "code",
   "execution_count": 11,
   "metadata": {},
   "outputs": [],
   "source": [
    "def get_embeddings_reduct(vocabulary, skip_gram, dim_key, embeddings_path):\n",
    "    if not dim_key in [\"2d\", \"3d\"]:\n",
    "        print(\"dim_key Format Error: dim_key must be either 2d or 3d\")\n",
    "    dims = { \"2d\": 2, \"3d\": 3 }\n",
    "\n",
    "    embeddings_weight = skip_gram.central_embedding.weight.data\n",
    "    print(embeddings_weight.size())\n",
    "    tsne = TSNE(dims[dim_key])\n",
    "\n",
    "    vocab_emb_red = tsne.fit_transform(embeddings_weight[0:len(vocabulary)])\n",
    "    data = np.insert(vocab_emb_red, [0], [[i] for i in range(len(vocab_emb_red))], axis=1)\n",
    "    print(data[100])\n",
    "    np.savetxt(f\"{embeddings_path}/embeddings-{dim_key}.csv\", data, delimiter=',')\n"
   ]
  },
  {
   "cell_type": "code",
   "execution_count": 12,
   "metadata": {},
   "outputs": [
    {
     "name": "stdout",
     "output_type": "stream",
     "text": [
      "441\n",
      "torch.Size([442, 256])\n",
      "[100.        -15.111571    5.8227644]\n",
      "torch.Size([442, 256])\n",
      "[100.         6.772122  22.009706  62.66788 ]\n"
     ]
    }
   ],
   "source": [
    "# Filenames for vocab and model\n",
    "selected_vocabulary = \"vocab_0\"\n",
    "selected_model = \"dataset-100-256-256.pt\"\n",
    "\n",
    "# Folders for vocab, model and embeddings\n",
    "vocabularies_path = \"./data/vocabularies\"\n",
    "models_path = \"./data/models\"\n",
    "out_embeddings_path = \"./data/embeddings\"\n",
    "\n",
    "vocabulary = get_vocabulary(vocabularies_path, selected_vocabulary)\n",
    "print(len(vocabulary))\n",
    "isinet = SkipGram(vocabulary, 256)\n",
    "isinet.load_state_dict(torch.load(models_path + \"/\" + selected_model, weights_only=True))\n",
    "\n",
    "get_embeddings_reduct(vocabulary, isinet, \"2d\", out_embeddings_path)\n",
    "get_embeddings_reduct(vocabulary, isinet, \"3d\", out_embeddings_path)"
   ]
  },
  {
   "cell_type": "code",
   "execution_count": 6,
   "metadata": {},
   "outputs": [
    {
     "name": "stdout",
     "output_type": "stream",
     "text": [
      "('buenas',) ('buenas', 'tardes')\n",
      "not here buddy\n"
     ]
    }
   ],
   "source": [
    "labels = [(\"hola\", \"mundo\"), (\"buenas\", \"tardes\"), (\"buenas\")]\n",
    "search_for = \"buenas\"\n",
    "terms = tuple([word.strip() for word in search_for.split(',')])\n",
    "print(terms, labels[1])\n",
    "\n",
    "try:\n",
    "    concept = tuple(terms)\n",
    "    search_idx = labels.index(concept)\n",
    "    print(search_idx)\n",
    "except ValueError:\n",
    "    print(\"not here buddy\")\n"
   ]
  },
  {
   "cell_type": "code",
   "execution_count": 7,
   "metadata": {},
   "outputs": [
    {
     "data": {
      "text/plain": [
       "('arquitectura',)"
      ]
     },
     "execution_count": 7,
     "metadata": {},
     "output_type": "execute_result"
    }
   ],
   "source": [
    "import ast\n",
    "def idx_to_label(idx):\n",
    "    file = \"./data/vocabularies/vocab_0.txt\"\n",
    "    with open(file, \"rb\") as cf:\n",
    "        lines = cf.read().decode(\"utf-8\").split(\"\\n\")\n",
    "        vocabulary = [ast.literal_eval(l) for l in lines]\n",
    "    return vocabulary[idx]\n",
    "\n",
    "idx_to_label(0)"
   ]
  },
  {
   "cell_type": "code",
   "execution_count": 9,
   "metadata": {},
   "outputs": [
    {
     "name": "stdout",
     "output_type": "stream",
     "text": [
      "441 FUCKING PRINT 442\n"
     ]
    },
    {
     "ename": "IndexError",
     "evalue": "list index out of range",
     "output_type": "error",
     "traceback": [
      "\u001b[31m---------------------------------------------------------------------------\u001b[39m",
      "\u001b[31mIndexError\u001b[39m                                Traceback (most recent call last)",
      "\u001b[36mCell\u001b[39m\u001b[36m \u001b[39m\u001b[32mIn[9]\u001b[39m\u001b[32m, line 6\u001b[39m\n\u001b[32m      4\u001b[39m \u001b[38;5;28mprint\u001b[39m(\u001b[38;5;28mlen\u001b[39m(vocabulary), \u001b[33m\"\u001b[39m\u001b[33mFUCKING PRINT\u001b[39m\u001b[33m\"\u001b[39m,\u001b[38;5;28mlen\u001b[39m(data))\n\u001b[32m      5\u001b[39m \u001b[38;5;66;03m# first index of each row contains the label\u001b[39;00m\n\u001b[32m----> \u001b[39m\u001b[32m6\u001b[39m labels = [\u001b[43midx_to_label\u001b[49m\u001b[43m(\u001b[49m\u001b[38;5;28;43mint\u001b[39;49m\u001b[43m(\u001b[49m\u001b[43md\u001b[49m\u001b[43m[\u001b[49m\u001b[32;43m0\u001b[39;49m\u001b[43m]\u001b[49m\u001b[43m)\u001b[49m\u001b[43m)\u001b[49m \u001b[38;5;28;01mfor\u001b[39;00m d \u001b[38;5;129;01min\u001b[39;00m data]\n\u001b[32m      7\u001b[39m data = np.array([d[\u001b[32m1\u001b[39m:] \u001b[38;5;28;01mfor\u001b[39;00m d \u001b[38;5;129;01min\u001b[39;00m data])\n\u001b[32m      8\u001b[39m \u001b[38;5;28mprint\u001b[39m(last_idx)\n",
      "\u001b[36mCell\u001b[39m\u001b[36m \u001b[39m\u001b[32mIn[7]\u001b[39m\u001b[32m, line 7\u001b[39m, in \u001b[36midx_to_label\u001b[39m\u001b[34m(idx)\u001b[39m\n\u001b[32m      5\u001b[39m     lines = cf.read().decode(\u001b[33m\"\u001b[39m\u001b[33mutf-8\u001b[39m\u001b[33m\"\u001b[39m).split(\u001b[33m\"\u001b[39m\u001b[38;5;130;01m\\n\u001b[39;00m\u001b[33m\"\u001b[39m)\n\u001b[32m      6\u001b[39m     vocabulary = [ast.literal_eval(l) \u001b[38;5;28;01mfor\u001b[39;00m l \u001b[38;5;129;01min\u001b[39;00m lines]\n\u001b[32m----> \u001b[39m\u001b[32m7\u001b[39m \u001b[38;5;28;01mreturn\u001b[39;00m \u001b[43mvocabulary\u001b[49m\u001b[43m[\u001b[49m\u001b[43midx\u001b[49m\u001b[43m]\u001b[49m\n",
      "\u001b[31mIndexError\u001b[39m: list index out of range"
     ]
    }
   ],
   "source": [
    "file = f\"./data/embeddings/embeddings-3d.csv\"\n",
    "data = np.loadtxt(file, delimiter=\",\").tolist()\n",
    "last_idx = int(data[-1][0])\n",
    "print(len(vocabulary), \"FUCKING PRINT\",len(data))\n",
    "# first index of each row contains the label\n",
    "labels = [idx_to_label(int(d[0])) for d in data]\n",
    "data = np.array([d[1:] for d in data])\n",
    "print(last_idx)\n",
    "print(labels[-1], idx_to_label(last_idx))"
   ]
  }
 ],
 "metadata": {
  "kernelspec": {
   "display_name": "venv",
   "language": "python",
   "name": "python3"
  },
  "language_info": {
   "codemirror_mode": {
    "name": "ipython",
    "version": 3
   },
   "file_extension": ".py",
   "mimetype": "text/x-python",
   "name": "python",
   "nbconvert_exporter": "python",
   "pygments_lexer": "ipython3",
   "version": "3.12.3"
  }
 },
 "nbformat": 4,
 "nbformat_minor": 2
}
