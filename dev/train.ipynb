{
 "cells": [
  {
   "cell_type": "markdown",
   "metadata": {
    "id": "xmh3bN-o6LYh"
   },
   "source": [
    "# Palabras Relacionadas - Dataset\n",
    "\n",
    "En el presente notebook se documenta el preprocesamiento y creación del dataset del proyecto.\n",
    "## Preprocesamiento documentos\n",
    "- **Documentos a procesar:** son pertenecientes a las distintas materias, según lo especificado en el [plan de Ingeniería en Sistemas de Información 2023, UTN - FRM](https://www.lamanuelsavio.org/wp-content/uploads/2024/02/Plan-Sistemas.pdf).\n",
    "- **Ubicación de los documentos a procesar:** desde el root del proyecto `/data/raw`.\n",
    "- **Ubicación de los documentos procesados:** desde el root en `/data/plain`\n",
    "- **Nombre de los documentos:** consta de la siguiente sintaxis `<nivel materia> - <abreviatura materia> - <título del material>`\n",
    "    - `<nivel materia>`: año (entero) de cursado según plan de estudios. Ej. `5` para quinto año\n",
    "    - `<abreviatura materia>`: abreviatura del nombre de la materia. Ej. `SO` para Sistemas Operativos\n",
    "    - `<título del material>`: nombre original significativo del pdf\n",
    "\n",
    "Los **documentos a procesar están en formato .pdf**, por lo que se utiliza la librería [pypdf](https://pypdf.readthedocs.io/en/stable/)."
   ]
  },
  {
   "cell_type": "code",
   "execution_count": 30,
   "metadata": {
    "colab": {
     "base_uri": "https://localhost:8080/"
    },
    "executionInfo": {
     "elapsed": 3630,
     "status": "ok",
     "timestamp": 1749157967269,
     "user": {
      "displayName": "Seba O",
      "userId": "01825810927577519836"
     },
     "user_tz": 180
    },
    "id": "8LOgWv-f8Ems",
    "outputId": "ed04fe33-eec5-43ee-d047-ee224073420f"
   },
   "outputs": [
    {
     "name": "stdout",
     "output_type": "stream",
     "text": [
      "Collecting pymupdf\n",
      "  Downloading pymupdf-1.26.0-cp39-abi3-manylinux2014_x86_64.manylinux_2_17_x86_64.whl.metadata (3.4 kB)\n",
      "Downloading pymupdf-1.26.0-cp39-abi3-manylinux2014_x86_64.manylinux_2_17_x86_64.whl (24.1 MB)\n",
      "\u001b[2K   \u001b[90m━━━━━━━━━━━━━━━━━━━━━━━━━━━━━━━━━━━━━━━━\u001b[0m \u001b[32m24.1/24.1 MB\u001b[0m \u001b[31m38.0 MB/s\u001b[0m eta \u001b[36m0:00:00\u001b[0m00:01\u001b[0m00:01\u001b[0m\n",
      "\u001b[?25hInstalling collected packages: pymupdf\n",
      "Successfully installed pymupdf-1.26.0\n"
     ]
    }
   ],
   "source": [
    "!pip install pymupdf"
   ]
  },
  {
   "cell_type": "code",
   "execution_count": 33,
   "metadata": {},
   "outputs": [
    {
     "name": "stdout",
     "output_type": "stream",
     "text": [
      "/home/mrbeast/TPI-RNP-Palabras-Relacionadas-ISI\n"
     ]
    }
   ],
   "source": [
    "import fitz\n",
    "import os\n",
    "from os import listdir\n",
    "from os.path import isfile, join\n",
    "\n",
    "# Seteo el path al root del proyecto\n",
    "dev_folder = 'dev'\n",
    "if(os.getcwd().split('/')[-1] == dev_folder):\n",
    "    os.chdir('../')\n",
    "print(os.getcwd()) # debugging, debe imprimir el path al root del proyecto"
   ]
  },
  {
   "cell_type": "markdown",
   "metadata": {},
   "source": [
    "Creamos el método `raw_to_plain` que dados:\n",
    "- `raw_path`: path de los archivos a procesar\n",
    "- `plain_path`: path de los archivos procesados \n",
    " \n",
    "Crea un archivo de texto plano (`.txt`) por cada archivo procesado y lo guarda en el `plain_path`."
   ]
  },
  {
   "cell_type": "code",
   "execution_count": 34,
   "metadata": {
    "colab": {
     "base_uri": "https://localhost:8080/"
    },
    "executionInfo": {
     "elapsed": 894532,
     "status": "ok",
     "timestamp": 1749159253392,
     "user": {
      "displayName": "Seba O",
      "userId": "01825810927577519836"
     },
     "user_tz": 180
    },
    "id": "OUVAxYUy7vN7",
    "outputId": "142c1885-aac0-4f81-d7e9-dc816eade658"
   },
   "outputs": [],
   "source": [
    "def raw_to_plain(raw_path, plain_path):\n",
    "    \"\"\"Convert PDF files to plain text using PyMuPDF.\n",
    "    \n",
    "    Args:\n",
    "        raw_path (str): Directory containing PDF files\n",
    "        plain_path (str): Directory where to save plain text files\n",
    "    \"\"\"\n",
    "    raw_files = [os.path.splitext(f)[0] for f in listdir(raw_path) if isfile(join(raw_path, f))]\n",
    "    \n",
    "    for file in raw_files:\n",
    "        print(\"\\033[94mConvirtiendo archivo: \" + file + \"\\033[0m\")\n",
    "        \n",
    "        try:\n",
    "            # Open PDF with PyMuPDF\n",
    "            doc = fitz.open(f'{raw_path}/{file}.pdf')\n",
    "            \n",
    "            # Process each page\n",
    "            with open(f'{plain_path}/{file}.txt', 'w', encoding='utf-8') as plain_file:\n",
    "                for page in doc:\n",
    "                    # Extract text with better line breaks\n",
    "                    text = page.get_text(\"text\")  # \"text\" mode preserves reading order\n",
    "                    plain_file.write(text)\n",
    "                    \n",
    "            doc.close()\n",
    "            \n",
    "        except Exception as e:\n",
    "            print(f\"\\033[91mError processing {file}: {str(e)}\\033[0m\")\n"
   ]
  },
  {
   "cell_type": "code",
   "execution_count": 35,
   "metadata": {},
   "outputs": [
    {
     "name": "stdout",
     "output_type": "stream",
     "text": [
      "\u001b[94mConvirtiendo archivo: 4 - AS - Implementación de un Data Center\u001b[0m\n",
      "\u001b[94mConvirtiendo archivo: 4 - RD - Kurose-Ross\u001b[0m\n",
      "\u001b[94mConvirtiendo archivo: 5 - SSI - guia_ciberseguridad_gestion_riesgos_metad\u001b[0m\n",
      "\u001b[94mConvirtiendo archivo: 4 - AS - Sniffers_y_escaneo_de_puertos\u001b[0m\n",
      "\u001b[94mConvirtiendo archivo: 4 - AS - Backups_raids\u001b[0m\n",
      "\u001b[94mConvirtiendo archivo: 4 - IO - Breve Resumen ANALISIS SENSIBILIDAD\u001b[0m\n",
      "\u001b[94mConvirtiendo archivo: 1 - SyO - Resumen SyO U5\u001b[0m\n",
      "\u001b[94mConvirtiendo archivo: 5 - SSI - Magerit_v3_libro1_metodo\u001b[0m\n",
      "\u001b[94mConvirtiendo archivo: 3 - AP - AdProy_2_Trabajo en Equipo_2022\u001b[0m\n",
      "\u001b[94mConvirtiendo archivo: 5 - SSI - DE641-2021_Anexo\u001b[0m\n",
      "\u001b[94mConvirtiendo archivo: 1 - SyO - 2)Recopilacion de la informacion\u001b[0m\n",
      "\u001b[94mConvirtiendo archivo: 1 - SyO - 05 Arquitectura_empresarial_que_es_y_para_q\u001b[0m\n",
      "\u001b[94mConvirtiendo archivo: 3 - CD - sistemas-de-comunicaciones-electronicas-tomasi-4ta-edicion\u001b[0m\n",
      "\u001b[94mConvirtiendo archivo: 5 - SSI - Resumen U2 - Disposición ONTI 1 2015\u001b[0m\n",
      "\u001b[94mConvirtiendo archivo: 3 - BD - caselli_manual-de-base-de-datos-2019\u001b[0m\n",
      "\u001b[94mConvirtiendo archivo: 2 - SO - Stallings\u001b[0m\n",
      "\u001b[94mConvirtiendo archivo: 5 - SSI - Disposicion 1-2015_PSI\u001b[0m\n",
      "\u001b[94mConvirtiendo archivo: 1 - AyED - cpp según yo\u001b[0m\n",
      "\u001b[94mConvirtiendo archivo: 1 - AyED - cpp según yo pero en pedo\u001b[0m\n",
      "\u001b[94mConvirtiendo archivo: 2 - SO - Tanenbaum\u001b[0m\n",
      "\u001b[94mConvirtiendo archivo: 3 - DS - MerFNConceptos\u001b[0m\n",
      "\u001b[94mConvirtiendo archivo: 3 - CD - capitulo2\u001b[0m\n",
      "\u001b[94mConvirtiendo archivo: 1 - SyO - Gutierrez Gomez - Teoría general de sistemas\u001b[0m\n",
      "\u001b[94mConvirtiendo archivo: 2 - AS - U8 Metodologías Agiles parte a \u001b[0m\n",
      "\u001b[94mConvirtiendo archivo: 4 - AS - WLAN TT\u001b[0m\n",
      "\u001b[94mConvirtiendo archivo: 4 - AS - Resumen Global Administración de Sistemas de Información\u001b[0m\n",
      "\u001b[94mConvirtiendo archivo: 4 - AS - Teletrabajo-4k10\u001b[0m\n",
      "\u001b[94mConvirtiendo archivo: 4 - AS - Ergonomía 4k10\u001b[0m\n",
      "\u001b[94mConvirtiendo archivo: 1 - SyO - Resumen SyO U2\u001b[0m\n",
      "\u001b[94mConvirtiendo archivo: 1 - AyED - Unidades 1 y 2 (cód. fotoc. 7928)\u001b[0m\n",
      "\u001b[94mConvirtiendo archivo: 4 - AS - SNIFFERS Y ESCANEO DE PUERTOS\u001b[0m\n",
      "\u001b[94mConvirtiendo archivo: 1 - AC - LibroArquitecturadeComputadorasSantiagoPerez090321\u001b[0m\n",
      "\u001b[94mConvirtiendo archivo: 4 - ICS - Preguntas Unidad 3 Ingeniería y Calidad de Software\u001b[0m\n",
      "\u001b[94mConvirtiendo archivo: 5 - GG - Resumen Parcial 26-5\u001b[0m\n",
      "\u001b[94mConvirtiendo archivo: 3 - BD - Guía 1\u001b[0m\n",
      "\u001b[94mConvirtiendo archivo: 4 - AS - Teletrabajo-4k9\u001b[0m\n",
      "\u001b[94mConvirtiendo archivo: 4 - ICS - Preguntas 1er Parcial Ingeniería y Calidad de Software\u001b[0m\n",
      "\u001b[94mConvirtiendo archivo: 1 - SyO - BPMN 2.0 Manual de referencia\u001b[0m\n",
      "\u001b[94mConvirtiendo archivo: 1 - SyO - Analisis FODA\u001b[0m\n",
      "\u001b[94mConvirtiendo archivo: 4 - RD - Tanenbaum\u001b[0m\n",
      "\u001b[94mConvirtiendo archivo: 4 - AS - Analisis PEST\u001b[0m\n",
      "\u001b[94mConvirtiendo archivo: 3 - DS - Libro UML y Patrones - Larman\u001b[0m\n",
      "\u001b[94mConvirtiendo archivo: 4 - AS - Gestión CPD\u001b[0m\n",
      "\u001b[94mConvirtiendo archivo: 4 - AS - Comportamiento_organizacional._La_dina_mica_en_las_organizaciones.\u001b[0m\n",
      "\u001b[94mConvirtiendo archivo: 1 - AyED - Unidad4 (7930)\u001b[0m\n",
      "\u001b[94mConvirtiendo archivo: 1 - SyO - 04 gestion-por-procesos\u001b[0m\n",
      "\u001b[94mConvirtiendo archivo: 2 - AS - Scrum Manager - Historias de Usuario\u001b[0m\n",
      "\u001b[94mConvirtiendo archivo: 3 - DS - Actor. Definicion. Clasificacion (1)\u001b[0m\n",
      "\u001b[94mConvirtiendo archivo: 1 - SyO - 1)La Información en la Empresa\u001b[0m\n",
      "\u001b[94mConvirtiendo archivo: 3 - BD - Guía 2\u001b[0m\n",
      "\u001b[94mConvirtiendo archivo: 4 - AS - Ingeniería Social 4k9\u001b[0m\n",
      "\u001b[94mConvirtiendo archivo: 4 - AS - Planes-de-Contingencia\u001b[0m\n",
      "\u001b[94mConvirtiendo archivo: 4 - ICS - 2020-Scrum-Guide-Spanish-Latin-South-American\u001b[0m\n",
      "\u001b[94mConvirtiendo archivo: 4 - IO - U6_1-GESTION DE INVENTARIOS\u001b[0m\n",
      "\u001b[94mConvirtiendo archivo: 1 - MD - Matemáticas discretas by Ramóne Espinosa Armenta (z-lib.org)\u001b[0m\n",
      "\u001b[94mConvirtiendo archivo: 1 - SyO - Bertoglio - Teoria de sistemas\u001b[0m\n",
      "\u001b[94mConvirtiendo archivo: 4 - ICS - 2.-principiosingenieriasoftware\u001b[0m\n",
      "\u001b[94mConvirtiendo archivo: 5 - SSI - Clase U2-3 Disposicion ONTI 2015\u001b[0m\n",
      "\u001b[94mConvirtiendo archivo: 4 - RD - Resumen Redes de Datos\u001b[0m\n",
      "\u001b[94mConvirtiendo archivo: 1 - SyO - Resumen SyO U1\u001b[0m\n",
      "\u001b[94mConvirtiendo archivo: 4 - AS - Elaboracion_de_programas_de_capacitacion\u001b[0m\n",
      "\u001b[94mConvirtiendo archivo: 4 - IO - U6_2_1-INVENTARIO - Introduccion ANALISIS ABC\u001b[0m\n",
      "\u001b[94mConvirtiendo archivo: 4 - ICS - SoftwareDesign_PrincipiosyPatrones-Autentia\u001b[0m\n",
      "\u001b[94mConvirtiendo archivo: 3 - CD - Comunicaciones y Redes de Computadores,7ma Edición - William Stallings\u001b[0m\n",
      "\u001b[94mConvirtiendo archivo: 4 - AS - Ingeniería Social\u001b[0m\n",
      "\u001b[94mConvirtiendo archivo: 1 - SyO - Resumen SyO U3\u001b[0m\n",
      "\u001b[94mConvirtiendo archivo: 4 - AS - EL PROCESO ADMINISTRATIVO\u001b[0m\n",
      "\u001b[94mConvirtiendo archivo: 2 - AS - AS Presentación de UML (a)\u001b[0m\n",
      "\u001b[94mConvirtiendo archivo: 5 - SSI - Magerit_v3_libro2_catálogo de elementos\u001b[0m\n",
      "\u001b[94mConvirtiendo archivo: 3 - AP - respuestas\u001b[0m\n",
      "\u001b[94mConvirtiendo archivo: 5 - SSI - M5-Privacidad\u001b[0m\n",
      "\u001b[94mConvirtiendo archivo: 2 - AS - scrum_manager\u001b[0m\n",
      "\u001b[94mConvirtiendo archivo: 4 - AS - Ergonomia - 4°9°\u001b[0m\n",
      "\u001b[94mConvirtiendo archivo: 1 - AyED - Unidad3 (7929)\u001b[0m\n",
      "\u001b[94mConvirtiendo archivo: 4 - ICS - Facu_MiniParcial 2_U 4 y 5.1.docx\u001b[0m\n",
      "\u001b[94mConvirtiendo archivo: 1 - SyO - Teoria de sistemas\u001b[0m\n",
      "\u001b[94mConvirtiendo archivo: 4 - AS - Inteligencia Emocional - 4°9°\u001b[0m\n",
      "\u001b[94mConvirtiendo archivo: 5 - GG - Resumen Cambio Organizacional\u001b[0m\n",
      "\u001b[94mConvirtiendo archivo: 1 - SyO - 03 Gestion por procesos, indicaroes y estandares para unidades de informacion - Cap 1 y 2\u001b[0m\n",
      "\u001b[94mConvirtiendo archivo: 1 - SyO - La organizacion como sistema abierto- Cap 5\u001b[0m\n",
      "\u001b[94mConvirtiendo archivo: 1 - SyO - 02 Gestion por procesos UNCuyo\u001b[0m\n",
      "\u001b[94mConvirtiendo archivo: 5 - SSI - Magerit_v3_libro3_guía de técnicas\u001b[0m\n",
      "\u001b[94mConvirtiendo archivo: 4 - TA - Guía 1. Sistemas de control automático\u001b[0m\n",
      "\u001b[94mConvirtiendo archivo: 4 - AS - WLAN\u001b[0m\n",
      "\u001b[94mConvirtiendo archivo: 4 - AS - Benchmark en Tecnología\u001b[0m\n",
      "\u001b[94mConvirtiendo archivo: 4 - AS - Benchmark\u001b[0m\n",
      "\u001b[94mConvirtiendo archivo: 4 - AS - chiavenato-cap9\u001b[0m\n",
      "\u001b[94mConvirtiendo archivo: 4 - AS - Chiavenato-cap8\u001b[0m\n",
      "\u001b[94mConvirtiendo archivo: 1 - SyO - Resumen SyO U4\u001b[0m\n",
      "\u001b[94mConvirtiendo archivo: 5 - SSI - Resolución Nº RESOL-2022-87-APN-SIGEN - Normas de Control Interno para Tecnología de la Información\u001b[0m\n",
      "\u001b[94mConvirtiendo archivo: 4 - S - Resumen 2do Parcial\u001b[0m\n",
      "\u001b[94mConvirtiendo archivo: 4 - AS - Habilidades Blandas 4k9\u001b[0m\n",
      "\u001b[94mConvirtiendo archivo: 2 - SO - ResumenSO\u001b[0m\n",
      "\u001b[94mConvirtiendo archivo: 4 - IO - U6_2_2-INVENTARIO - Articulo ANALISIS ABC\u001b[0m\n",
      "\u001b[94mConvirtiendo archivo: 5 - SSI - Guia_apoyo_SGSI\u001b[0m\n",
      "\u001b[94mConvirtiendo archivo: 1 - SyO - 01 Evolucion de las estructuras\u001b[0m\n",
      "\u001b[94mConvirtiendo archivo: 5 - SSI - 2012_Magerit_v3_libro2_catalogo-de-elementos_es_NIPO_630-12-171-8\u001b[0m\n",
      "\u001b[94mConvirtiendo archivo: 4 - AS - Inteligencia Emocional - 4°10°\u001b[0m\n",
      "\u001b[94mConvirtiendo archivo: 5 - SSI - Metodologia GR compatible Disposición 1-2015 ONTI\u001b[0m\n",
      "\u001b[94mConvirtiendo archivo: 1 - SyO - Ponce - FODA\u001b[0m\n",
      "\u001b[94mConvirtiendo archivo: 4 - IO - U5 - ADMINISTRACION DE PROYECTOS\u001b[0m\n",
      "\u001b[94mConvirtiendo archivo: 4 - AS - Trello-4°9°\u001b[0m\n",
      "\u001b[94mConvirtiendo archivo: 1 - SyO - Kendall y Kendall pag. 1 - 13\u001b[0m\n",
      "\u001b[94mConvirtiendo archivo: 3 - DS - Eje 1. Metodología y conceptos teóricos aplicados\u001b[0m\n",
      "\u001b[94mConvirtiendo archivo: 4 - UXUI - Diseño UX UNIDAD 1\u001b[0m\n"
     ]
    }
   ],
   "source": [
    "raw_path = \"./data/raw\"\n",
    "plain_path = \"./data/plain\"\n",
    "\n",
    "raw_to_plain(raw_path, plain_path)"
   ]
  },
  {
   "cell_type": "code",
   "execution_count": 37,
   "metadata": {
    "jupyter": {
     "source_hidden": true
    },
    "tags": [
     "parameters",
     "hide_code"
    ]
   },
   "outputs": [
    {
     "name": "stdout",
     "output_type": "stream",
     "text": [
      "Año 1:\n",
      "\tMateria: AyED - 0.07MB\n",
      "\tMateria: SyO - 1.16MB\n",
      "\tMateria: MD - 0.71MB\n",
      "\tMateria: AC - 0.44MB\n",
      "Año 4:\n",
      "\tMateria: ICS - 0.24MB\n",
      "\tMateria: AS - 2.36MB\n",
      "\tMateria: TA - 0.06MB\n",
      "\tMateria: UXUI - 0.11MB\n",
      "\tMateria: IO - 0.03MB\n",
      "\tMateria: RD - 5.17MB\n",
      "\tMateria: S - 0.02MB\n",
      "Año 3:\n",
      "\tMateria: DS - 1.28MB\n",
      "\tMateria: BD - 0.26MB\n",
      "\tMateria: AP - 0.14MB\n",
      "\tMateria: CD - 4.85MB\n",
      "Año 2:\n",
      "\tMateria: SO - 5.8MB\n",
      "\tMateria: AS - 0.59MB\n",
      "Año 5:\n",
      "\tMateria: SSI - 1.47MB\n",
      "\tMateria: GG - 0.01MB\n"
     ]
    }
   ],
   "source": [
    "def get_metrics(plain_path, split_char='-'):\n",
    "    metrics = {}\n",
    "\n",
    "    plain_files = [os.path.splitext(f)[0] for f in listdir(plain_path) if isfile(join(plain_path, f))]\n",
    "\n",
    "    for file in plain_files:\n",
    "\n",
    "        sf = file.split(split_char)\n",
    "        anio = sf[0].strip()\n",
    "        materia = sf[1].strip()\n",
    "\n",
    "        if(not anio in metrics):\n",
    "            metrics[anio] = {}\n",
    "        if(not materia in metrics[anio]):\n",
    "            metrics[anio][materia] = 0\n",
    "        metrics[anio][materia] += os.path.getsize(f'{plain_path}/{file}.txt')\n",
    "    \n",
    "    return metrics\n",
    "\n",
    "def print_metrics(metrics):\n",
    "    for anio, materias in metrics.items():\n",
    "        print(f\"Año {anio}:\")\n",
    "        for materia, tamano in materias.items():\n",
    "            print(f\"\\tMateria: {materia} - {str(round(tamano/1000000,2))}MB\")\n",
    "            # TODO: tal vez mostrar la sumatoria de los tamaños\n",
    "            \n",
    "print_metrics(get_metrics(plain_path))"
   ]
  },
  {
   "cell_type": "markdown",
   "metadata": {
    "id": "m1Oh3rLH97OW"
   },
   "source": [
    "## Tokenización\n",
    "A continuación se tokenizan los documentos procesados planos `.txt`, generando un nuevo archivo por cada documento procesado fuente, donde cada línea representa un token. \n",
    "\n",
    "Para ello se utiliza la librería [spacy](https://spacy.io/), la cual tomará un rol importante para obtención de tokens, filtrado y transformación de los mismos."
   ]
  },
  {
   "cell_type": "code",
   "execution_count": 23,
   "metadata": {
    "colab": {
     "base_uri": "https://localhost:8080/"
    },
    "executionInfo": {
     "elapsed": 22248,
     "status": "ok",
     "timestamp": 1749159426548,
     "user": {
      "displayName": "Seba O",
      "userId": "01825810927577519836"
     },
     "user_tz": 180
    },
    "id": "8dxbA4r29x02",
    "outputId": "ebbd9d1e-009c-491b-c147-e44856e84623"
   },
   "outputs": [
    {
     "name": "stdout",
     "output_type": "stream",
     "text": [
      "Requirement already satisfied: spacy in ./venv/lib/python3.12/site-packages (3.8.7)\n",
      "Requirement already satisfied: spacy-legacy<3.1.0,>=3.0.11 in ./venv/lib/python3.12/site-packages (from spacy) (3.0.12)\n",
      "Requirement already satisfied: spacy-loggers<2.0.0,>=1.0.0 in ./venv/lib/python3.12/site-packages (from spacy) (1.0.5)\n",
      "Requirement already satisfied: murmurhash<1.1.0,>=0.28.0 in ./venv/lib/python3.12/site-packages (from spacy) (1.0.13)\n",
      "Requirement already satisfied: cymem<2.1.0,>=2.0.2 in ./venv/lib/python3.12/site-packages (from spacy) (2.0.11)\n",
      "Requirement already satisfied: preshed<3.1.0,>=3.0.2 in ./venv/lib/python3.12/site-packages (from spacy) (3.0.10)\n",
      "Requirement already satisfied: thinc<8.4.0,>=8.3.4 in ./venv/lib/python3.12/site-packages (from spacy) (8.3.6)\n",
      "Requirement already satisfied: wasabi<1.2.0,>=0.9.1 in ./venv/lib/python3.12/site-packages (from spacy) (1.1.3)\n",
      "Requirement already satisfied: srsly<3.0.0,>=2.4.3 in ./venv/lib/python3.12/site-packages (from spacy) (2.5.1)\n",
      "Requirement already satisfied: catalogue<2.1.0,>=2.0.6 in ./venv/lib/python3.12/site-packages (from spacy) (2.0.10)\n",
      "Requirement already satisfied: weasel<0.5.0,>=0.1.0 in ./venv/lib/python3.12/site-packages (from spacy) (0.4.1)\n",
      "Requirement already satisfied: typer<1.0.0,>=0.3.0 in ./venv/lib/python3.12/site-packages (from spacy) (0.16.0)\n",
      "Requirement already satisfied: tqdm<5.0.0,>=4.38.0 in ./venv/lib/python3.12/site-packages (from spacy) (4.67.1)\n",
      "Requirement already satisfied: numpy>=1.19.0 in ./venv/lib/python3.12/site-packages (from spacy) (2.2.6)\n",
      "Requirement already satisfied: requests<3.0.0,>=2.13.0 in ./venv/lib/python3.12/site-packages (from spacy) (2.32.3)\n",
      "Requirement already satisfied: pydantic!=1.8,!=1.8.1,<3.0.0,>=1.7.4 in ./venv/lib/python3.12/site-packages (from spacy) (2.11.5)\n",
      "Requirement already satisfied: jinja2 in ./venv/lib/python3.12/site-packages (from spacy) (3.1.6)\n",
      "Requirement already satisfied: setuptools in ./venv/lib/python3.12/site-packages (from spacy) (80.9.0)\n",
      "Requirement already satisfied: packaging>=20.0 in ./venv/lib/python3.12/site-packages (from spacy) (25.0)\n",
      "Requirement already satisfied: langcodes<4.0.0,>=3.2.0 in ./venv/lib/python3.12/site-packages (from spacy) (3.5.0)\n",
      "Requirement already satisfied: language-data>=1.2 in ./venv/lib/python3.12/site-packages (from langcodes<4.0.0,>=3.2.0->spacy) (1.3.0)\n",
      "Requirement already satisfied: annotated-types>=0.6.0 in ./venv/lib/python3.12/site-packages (from pydantic!=1.8,!=1.8.1,<3.0.0,>=1.7.4->spacy) (0.7.0)\n",
      "Requirement already satisfied: pydantic-core==2.33.2 in ./venv/lib/python3.12/site-packages (from pydantic!=1.8,!=1.8.1,<3.0.0,>=1.7.4->spacy) (2.33.2)\n",
      "Requirement already satisfied: typing-extensions>=4.12.2 in ./venv/lib/python3.12/site-packages (from pydantic!=1.8,!=1.8.1,<3.0.0,>=1.7.4->spacy) (4.14.0)\n",
      "Requirement already satisfied: typing-inspection>=0.4.0 in ./venv/lib/python3.12/site-packages (from pydantic!=1.8,!=1.8.1,<3.0.0,>=1.7.4->spacy) (0.4.1)\n",
      "Requirement already satisfied: charset-normalizer<4,>=2 in ./venv/lib/python3.12/site-packages (from requests<3.0.0,>=2.13.0->spacy) (3.4.2)\n",
      "Requirement already satisfied: idna<4,>=2.5 in ./venv/lib/python3.12/site-packages (from requests<3.0.0,>=2.13.0->spacy) (3.10)\n",
      "Requirement already satisfied: urllib3<3,>=1.21.1 in ./venv/lib/python3.12/site-packages (from requests<3.0.0,>=2.13.0->spacy) (2.4.0)\n",
      "Requirement already satisfied: certifi>=2017.4.17 in ./venv/lib/python3.12/site-packages (from requests<3.0.0,>=2.13.0->spacy) (2025.4.26)\n",
      "Requirement already satisfied: blis<1.4.0,>=1.3.0 in ./venv/lib/python3.12/site-packages (from thinc<8.4.0,>=8.3.4->spacy) (1.3.0)\n",
      "Requirement already satisfied: confection<1.0.0,>=0.0.1 in ./venv/lib/python3.12/site-packages (from thinc<8.4.0,>=8.3.4->spacy) (0.1.5)\n",
      "Requirement already satisfied: click>=8.0.0 in ./venv/lib/python3.12/site-packages (from typer<1.0.0,>=0.3.0->spacy) (8.2.1)\n",
      "Requirement already satisfied: shellingham>=1.3.0 in ./venv/lib/python3.12/site-packages (from typer<1.0.0,>=0.3.0->spacy) (1.5.4)\n",
      "Requirement already satisfied: rich>=10.11.0 in ./venv/lib/python3.12/site-packages (from typer<1.0.0,>=0.3.0->spacy) (14.0.0)\n",
      "Requirement already satisfied: cloudpathlib<1.0.0,>=0.7.0 in ./venv/lib/python3.12/site-packages (from weasel<0.5.0,>=0.1.0->spacy) (0.21.1)\n",
      "Requirement already satisfied: smart-open<8.0.0,>=5.2.1 in ./venv/lib/python3.12/site-packages (from weasel<0.5.0,>=0.1.0->spacy) (7.1.0)\n",
      "Requirement already satisfied: wrapt in ./venv/lib/python3.12/site-packages (from smart-open<8.0.0,>=5.2.1->weasel<0.5.0,>=0.1.0->spacy) (1.17.2)\n",
      "Requirement already satisfied: marisa-trie>=1.1.0 in ./venv/lib/python3.12/site-packages (from language-data>=1.2->langcodes<4.0.0,>=3.2.0->spacy) (1.2.1)\n",
      "Requirement already satisfied: markdown-it-py>=2.2.0 in ./venv/lib/python3.12/site-packages (from rich>=10.11.0->typer<1.0.0,>=0.3.0->spacy) (3.0.0)\n",
      "Requirement already satisfied: pygments<3.0.0,>=2.13.0 in ./venv/lib/python3.12/site-packages (from rich>=10.11.0->typer<1.0.0,>=0.3.0->spacy) (2.19.1)\n",
      "Requirement already satisfied: mdurl~=0.1 in ./venv/lib/python3.12/site-packages (from markdown-it-py>=2.2.0->rich>=10.11.0->typer<1.0.0,>=0.3.0->spacy) (0.1.2)\n",
      "Requirement already satisfied: MarkupSafe>=2.0 in ./venv/lib/python3.12/site-packages (from jinja2->spacy) (3.0.2)\n",
      "Collecting es-core-news-sm==3.8.0\n",
      "  Downloading https://github.com/explosion/spacy-models/releases/download/es_core_news_sm-3.8.0/es_core_news_sm-3.8.0-py3-none-any.whl (12.9 MB)\n",
      "\u001b[2K     \u001b[90m━━━━━━━━━━━━━━━━━━━━━━━━━━━━━━━━━━━━━━━━\u001b[0m \u001b[32m12.9/12.9 MB\u001b[0m \u001b[31m36.3 MB/s\u001b[0m eta \u001b[36m0:00:00\u001b[0m00:01\u001b[0m0:01\u001b[0m\n",
      "\u001b[?25h\u001b[38;5;2m✔ Download and installation successful\u001b[0m\n",
      "You can now load the package via spacy.load('es_core_news_sm')\n"
     ]
    }
   ],
   "source": [
    "!pip install spacy\n",
    "!python -m spacy download es_core_news_sm"
   ]
  },
  {
   "cell_type": "code",
   "execution_count": 38,
   "metadata": {},
   "outputs": [],
   "source": [
    "import spacy\n",
    "import re\n",
    "\n",
    "esp = spacy.load(\"es_core_news_sm\")"
   ]
  },
  {
   "cell_type": "code",
   "execution_count": 39,
   "metadata": {
    "id": "9mpV1K6D5H0n"
   },
   "outputs": [],
   "source": [
    "def tokenize_files(plain_path, tokens_path, banned_tokens):\n",
    "    raw_files = [os.path.splitext(f)[0] for f in listdir(plain_path) if isfile(join(plain_path, f))]\n",
    "\n",
    "    def is_clean_token(token):\n",
    "        return not (\n",
    "            token.is_punct or\n",
    "            token.is_space or\n",
    "            token.is_stop or\n",
    "            len(token.text) == 1 or\n",
    "            token.text in banned_tokens or \n",
    "            bool(re.search(r'(^[0-9\\.\\,]+$)|(-$)|(^.\\.$)', token.text)))\n",
    "\n",
    "    for f in raw_files:\n",
    "        print(\"\\033[94mTokenizando archivo: \" + f + \"\\033[0m\")\n",
    "\n",
    "        with open(f\"{plain_path}/{f}.txt\", \"rb\") as pf:\n",
    "            txt = pf.read().decode(\"utf-8\")\n",
    "            tokens = esp.tokenizer(txt)\n",
    "            with open(f\"{tokens_path}/{f}.txt\", \"wb\") as tf:\n",
    "                for token in tokens:\n",
    "                    if (is_clean_token(token)):\n",
    "                        tf.write((token.text + \"\\n\").encode(\"utf-8\"))"
   ]
  },
  {
   "cell_type": "code",
   "execution_count": 40,
   "metadata": {},
   "outputs": [
    {
     "name": "stdout",
     "output_type": "stream",
     "text": [
      "\u001b[94mTokenizando archivo: 1 - AyED - Unidades 1 y 2 (cód. fotoc. 7928)\u001b[0m\n",
      "\u001b[94mTokenizando archivo: 1 - SyO - Resumen SyO U3\u001b[0m\n",
      "\u001b[94mTokenizando archivo: 4 - ICS - 2.-principiosingenieriasoftware\u001b[0m\n",
      "\u001b[94mTokenizando archivo: 3 - DS - MerFNConceptos\u001b[0m\n",
      "\u001b[94mTokenizando archivo: 2 - SO - ResumenSO\u001b[0m\n",
      "\u001b[94mTokenizando archivo: 1 - AyED - Unidad4 (7930)\u001b[0m\n",
      "\u001b[94mTokenizando archivo: 2 - AS - U8 Metodologías Agiles parte a \u001b[0m\n",
      "\u001b[94mTokenizando archivo: 3 - DS - Libro UML y Patrones - Larman\u001b[0m\n",
      "\u001b[94mTokenizando archivo: 4 - AS - Teletrabajo-4k9\u001b[0m\n",
      "\u001b[94mTokenizando archivo: 4 - ICS - SoftwareDesign_PrincipiosyPatrones-Autentia\u001b[0m\n",
      "\u001b[94mTokenizando archivo: 4 - TA - Guía 1. Sistemas de control automático\u001b[0m\n",
      "\u001b[94mTokenizando archivo: 1 - SyO - 04 gestion-por-procesos\u001b[0m\n",
      "\u001b[94mTokenizando archivo: 1 - AyED - Unidad3 (7929)\u001b[0m\n",
      "\u001b[94mTokenizando archivo: 4 - AS - Gestión CPD\u001b[0m\n",
      "\u001b[94mTokenizando archivo: 5 - SSI - M5-Privacidad\u001b[0m\n",
      "\u001b[94mTokenizando archivo: 3 - BD - caselli_manual-de-base-de-datos-2019\u001b[0m\n",
      "\u001b[94mTokenizando archivo: 4 - UXUI - Diseño UX UNIDAD 1\u001b[0m\n",
      "\u001b[94mTokenizando archivo: 4 - AS - Teletrabajo-4k10\u001b[0m\n",
      "\u001b[94mTokenizando archivo: 4 - AS - Inteligencia Emocional - 4°9°\u001b[0m\n",
      "\u001b[94mTokenizando archivo: 5 - SSI - Disposicion 1-2015_PSI\u001b[0m\n",
      "\u001b[94mTokenizando archivo: 5 - SSI - 2012_Magerit_v3_libro2_catalogo-de-elementos_es_NIPO_630-12-171-8\u001b[0m\n",
      "\u001b[94mTokenizando archivo: 4 - IO - Breve Resumen ANALISIS SENSIBILIDAD\u001b[0m\n",
      "\u001b[94mTokenizando archivo: 4 - IO - U6_2_2-INVENTARIO - Articulo ANALISIS ABC\u001b[0m\n",
      "\u001b[94mTokenizando archivo: 5 - GG - Resumen Parcial 26-5\u001b[0m\n",
      "\u001b[94mTokenizando archivo: 4 - ICS - 2020-Scrum-Guide-Spanish-Latin-South-American\u001b[0m\n",
      "\u001b[94mTokenizando archivo: 3 - DS - Eje 1. Metodología y conceptos teóricos aplicados\u001b[0m\n",
      "\u001b[94mTokenizando archivo: 3 - BD - Guía 1\u001b[0m\n",
      "\u001b[94mTokenizando archivo: 4 - AS - Ergonomía 4k10\u001b[0m\n",
      "\u001b[94mTokenizando archivo: 1 - SyO - 05 Arquitectura_empresarial_que_es_y_para_q\u001b[0m\n",
      "\u001b[94mTokenizando archivo: 4 - AS - chiavenato-cap9\u001b[0m\n",
      "\u001b[94mTokenizando archivo: 1 - SyO - Teoria de sistemas\u001b[0m\n",
      "\u001b[94mTokenizando archivo: 4 - AS - Analisis PEST\u001b[0m\n",
      "\u001b[94mTokenizando archivo: 3 - AP - respuestas\u001b[0m\n",
      "\u001b[94mTokenizando archivo: 1 - SyO - 01 Evolucion de las estructuras\u001b[0m\n",
      "\u001b[94mTokenizando archivo: 4 - ICS - Facu_MiniParcial 2_U 4 y 5.1.docx\u001b[0m\n",
      "\u001b[94mTokenizando archivo: 1 - MD - Matemáticas discretas by Ramóne Espinosa Armenta (z-lib.org)\u001b[0m\n",
      "\u001b[94mTokenizando archivo: 1 - SyO - 02 Gestion por procesos UNCuyo\u001b[0m\n",
      "\u001b[94mTokenizando archivo: 5 - SSI - Magerit_v3_libro3_guía de técnicas\u001b[0m\n",
      "\u001b[94mTokenizando archivo: 4 - RD - Kurose-Ross\u001b[0m\n",
      "\u001b[94mTokenizando archivo: 1 - SyO - La organizacion como sistema abierto- Cap 5\u001b[0m\n",
      "\u001b[94mTokenizando archivo: 3 - CD - Comunicaciones y Redes de Computadores,7ma Edición - William Stallings\u001b[0m\n",
      "\u001b[94mTokenizando archivo: 1 - SyO - 2)Recopilacion de la informacion\u001b[0m\n",
      "\u001b[94mTokenizando archivo: 4 - S - Resumen 2do Parcial\u001b[0m\n",
      "\u001b[94mTokenizando archivo: 4 - AS - WLAN TT\u001b[0m\n",
      "\u001b[94mTokenizando archivo: 4 - AS - Ingeniería Social 4k9\u001b[0m\n",
      "\u001b[94mTokenizando archivo: 4 - IO - U6_1-GESTION DE INVENTARIOS\u001b[0m\n",
      "\u001b[94mTokenizando archivo: 4 - AS - WLAN\u001b[0m\n",
      "\u001b[94mTokenizando archivo: 5 - GG - Resumen Cambio Organizacional\u001b[0m\n",
      "\u001b[94mTokenizando archivo: 5 - SSI - Guia_apoyo_SGSI\u001b[0m\n",
      "\u001b[94mTokenizando archivo: 4 - AS - Ingeniería Social\u001b[0m\n",
      "\u001b[94mTokenizando archivo: 1 - SyO - Kendall y Kendall pag. 1 - 13\u001b[0m\n",
      "\u001b[94mTokenizando archivo: 4 - AS - Trello-4°9°\u001b[0m\n",
      "\u001b[94mTokenizando archivo: 4 - AS - Habilidades Blandas 4k9\u001b[0m\n",
      "\u001b[94mTokenizando archivo: 2 - SO - Stallings\u001b[0m\n",
      "\u001b[94mTokenizando archivo: 4 - IO - U5 - ADMINISTRACION DE PROYECTOS\u001b[0m\n",
      "\u001b[94mTokenizando archivo: 3 - CD - sistemas-de-comunicaciones-electronicas-tomasi-4ta-edicion\u001b[0m\n",
      "\u001b[94mTokenizando archivo: 4 - AS - Inteligencia Emocional - 4°10°\u001b[0m\n",
      "\u001b[94mTokenizando archivo: 4 - AS - Sniffers_y_escaneo_de_puertos\u001b[0m\n",
      "\u001b[94mTokenizando archivo: 1 - SyO - Resumen SyO U4\u001b[0m\n",
      "\u001b[94mTokenizando archivo: 4 - AS - Comportamiento_organizacional._La_dina_mica_en_las_organizaciones.\u001b[0m\n",
      "\u001b[94mTokenizando archivo: 4 - AS - Chiavenato-cap8\u001b[0m\n",
      "\u001b[94mTokenizando archivo: 4 - ICS - Preguntas Unidad 3 Ingeniería y Calidad de Software\u001b[0m\n",
      "\u001b[94mTokenizando archivo: 4 - AS - Backups_raids\u001b[0m\n",
      "\u001b[94mTokenizando archivo: 3 - CD - capitulo2\u001b[0m\n",
      "\u001b[94mTokenizando archivo: 4 - AS - Elaboracion_de_programas_de_capacitacion\u001b[0m\n",
      "\u001b[94mTokenizando archivo: 5 - SSI - Metodologia GR compatible Disposición 1-2015 ONTI\u001b[0m\n",
      "\u001b[94mTokenizando archivo: 1 - SyO - Resumen SyO U1\u001b[0m\n",
      "\u001b[94mTokenizando archivo: 5 - SSI - Clase U2-3 Disposicion ONTI 2015\u001b[0m\n",
      "\u001b[94mTokenizando archivo: 3 - AP - AdProy_2_Trabajo en Equipo_2022\u001b[0m\n",
      "\u001b[94mTokenizando archivo: 1 - SyO - Resumen SyO U2\u001b[0m\n",
      "\u001b[94mTokenizando archivo: 2 - AS - scrum_manager\u001b[0m\n",
      "\u001b[94mTokenizando archivo: 1 - AC - LibroArquitecturadeComputadorasSantiagoPerez090321\u001b[0m\n",
      "\u001b[94mTokenizando archivo: 4 - RD - Resumen Redes de Datos\u001b[0m\n",
      "\u001b[94mTokenizando archivo: 4 - RD - Tanenbaum\u001b[0m\n",
      "\u001b[94mTokenizando archivo: 4 - AS - Benchmark\u001b[0m\n",
      "\u001b[94mTokenizando archivo: 4 - AS - Resumen Global Administración de Sistemas de Información\u001b[0m\n",
      "\u001b[94mTokenizando archivo: 4 - AS - SNIFFERS Y ESCANEO DE PUERTOS\u001b[0m\n",
      "\u001b[94mTokenizando archivo: 1 - AyED - cpp según yo\u001b[0m\n",
      "\u001b[94mTokenizando archivo: 2 - AS - Scrum Manager - Historias de Usuario\u001b[0m\n",
      "\u001b[94mTokenizando archivo: 1 - SyO - Gutierrez Gomez - Teoría general de sistemas\u001b[0m\n",
      "\u001b[94mTokenizando archivo: 4 - AS - Planes-de-Contingencia\u001b[0m\n",
      "\u001b[94mTokenizando archivo: 5 - SSI - DE641-2021_Anexo\u001b[0m\n",
      "\u001b[94mTokenizando archivo: 1 - AyED - cpp según yo pero en pedo\u001b[0m\n",
      "\u001b[94mTokenizando archivo: 5 - SSI - Magerit_v3_libro2_catálogo de elementos\u001b[0m\n",
      "\u001b[94mTokenizando archivo: 2 - SO - Tanenbaum\u001b[0m\n",
      "\u001b[94mTokenizando archivo: 4 - AS - Benchmark en Tecnología\u001b[0m\n",
      "\u001b[94mTokenizando archivo: 5 - SSI - Resumen U2 - Disposición ONTI 1 2015\u001b[0m\n",
      "\u001b[94mTokenizando archivo: 3 - BD - Guía 2\u001b[0m\n",
      "\u001b[94mTokenizando archivo: 4 - IO - U6_2_1-INVENTARIO - Introduccion ANALISIS ABC\u001b[0m\n",
      "\u001b[94mTokenizando archivo: 4 - AS - EL PROCESO ADMINISTRATIVO\u001b[0m\n",
      "\u001b[94mTokenizando archivo: 1 - SyO - BPMN 2.0 Manual de referencia\u001b[0m\n",
      "\u001b[94mTokenizando archivo: 4 - AS - Implementación de un Data Center\u001b[0m\n",
      "\u001b[94mTokenizando archivo: 1 - SyO - Bertoglio - Teoria de sistemas\u001b[0m\n",
      "\u001b[94mTokenizando archivo: 1 - SyO - 03 Gestion por procesos, indicaroes y estandares para unidades de informacion - Cap 1 y 2\u001b[0m\n",
      "\u001b[94mTokenizando archivo: 4 - ICS - Preguntas 1er Parcial Ingeniería y Calidad de Software\u001b[0m\n",
      "\u001b[94mTokenizando archivo: 5 - SSI - guia_ciberseguridad_gestion_riesgos_metad\u001b[0m\n",
      "\u001b[94mTokenizando archivo: 5 - SSI - Resolución Nº RESOL-2022-87-APN-SIGEN - Normas de Control Interno para Tecnología de la Información\u001b[0m\n",
      "\u001b[94mTokenizando archivo: 5 - SSI - Magerit_v3_libro1_metodo\u001b[0m\n",
      "\u001b[94mTokenizando archivo: 1 - SyO - 1)La Información en la Empresa\u001b[0m\n",
      "\u001b[94mTokenizando archivo: 2 - AS - AS Presentación de UML (a)\u001b[0m\n",
      "\u001b[94mTokenizando archivo: 1 - SyO - Ponce - FODA\u001b[0m\n",
      "\u001b[94mTokenizando archivo: 3 - DS - Actor. Definicion. Clasificacion (1)\u001b[0m\n",
      "\u001b[94mTokenizando archivo: 1 - SyO - Resumen SyO U5\u001b[0m\n",
      "\u001b[94mTokenizando archivo: 1 - SyO - Analisis FODA\u001b[0m\n",
      "\u001b[94mTokenizando archivo: 4 - AS - Ergonomia - 4°9°\u001b[0m\n"
     ]
    }
   ],
   "source": [
    "tokens_path = \"./data/tokens\"\n",
    "banned_tokens = set([\"capítulo\", \"página\", \"figura\", \"cap\", \"ejemplo\", \"catedra\", \"mendoza\", \"argentina\", \"muñoz\", \"facchini\", \"cesari\", \"xsd\", \"infoleg\"])\n",
    "tokenize_files(plain_path, tokens_path, banned_tokens)"
   ]
  },
  {
   "cell_type": "markdown",
   "metadata": {
    "id": "eh5kn_mP_qZF"
   },
   "source": [
    "### Tokenización con ventana deslizante\n",
    "Una vez que se tienen los archivos con los tokens, deseamos **detectar conceptos adicionales**. Aquellos conceptos que adquieren significado con la combinación de palabras.\n",
    "\n",
    "Para ello se utilizará un **algoritmo de ventana deslizante** con un `window_size = 4`. Lo que buscamos es dada una secuencia de tokens `[\"sistemas\", \"operativos\", \"distribuídos\"]`formar los siguientes conceptos: `\"sistemas operativos\"`, `\"sistemas operativos distribuídos\"`."
   ]
  },
  {
   "cell_type": "code",
   "execution_count": 3,
   "metadata": {
    "executionInfo": {
     "elapsed": 50,
     "status": "ok",
     "timestamp": 1749163391436,
     "user": {
      "displayName": "Seba O",
      "userId": "01825810927577519836"
     },
     "user_tz": 180
    },
    "id": "8mWFXJbSQq5F"
   },
   "outputs": [],
   "source": [
    "from itertools import combinations\n",
    "\n",
    "window_size = 4"
   ]
  },
  {
   "cell_type": "code",
   "execution_count": null,
   "metadata": {
    "id": "fMtkg6yC_5o4"
   },
   "outputs": [
    {
     "name": "stdout",
     "output_type": "stream",
     "text": [
      "\u001b[94mDetectando conceptos en archivo: 1 - AC - LibroArquitecturadeComputadorasSantiagoPerez090321\u001b[0m\n",
      "\u001b[94mDetectando conceptos en archivo: 1 - AyED - cpp según yo pero en pedo\u001b[0m\n",
      "\u001b[94mDetectando conceptos en archivo: 1 - AyED - cpp según yo\u001b[0m\n",
      "\u001b[94mDetectando conceptos en archivo: 1 - AyED - Unidad3 (7929)\u001b[0m\n",
      "\u001b[94mDetectando conceptos en archivo: 1 - AyED - Unidad4 (7930)\u001b[0m\n",
      "\u001b[94mDetectando conceptos en archivo: 1 - AyED - Unidades 1 y 2 (cód. fotoc. 7928)\u001b[0m\n",
      "\u001b[94mDetectando conceptos en archivo: 1 - MD - Matemáticas discretas by Ramóne Espinosa Armenta (z-lib.org)\u001b[0m\n",
      "\u001b[94mDetectando conceptos en archivo: 1 - SyO - 01 Evolucion de las estructuras\u001b[0m\n",
      "\u001b[94mDetectando conceptos en archivo: 1 - SyO - 02 Gestion por procesos UNCuyo\u001b[0m\n",
      "\u001b[94mDetectando conceptos en archivo: 1 - SyO - 03 Gestion por procesos, indicaroes y estandares para unidades de informacion - Cap 1 y 2\u001b[0m\n",
      "\u001b[94mDetectando conceptos en archivo: 1 - SyO - 04 gestion-por-procesos\u001b[0m\n",
      "\u001b[94mDetectando conceptos en archivo: 1 - SyO - 05 Arquitectura_empresarial_que_es_y_para_q\u001b[0m\n",
      "\u001b[94mDetectando conceptos en archivo: 1 - SyO - 1)La Información en la Empresa\u001b[0m\n",
      "\u001b[94mDetectando conceptos en archivo: 1 - SyO - 2)Recopilacion de la informacion\u001b[0m\n",
      "\u001b[94mDetectando conceptos en archivo: 1 - SyO - Analisis FODA\u001b[0m\n",
      "\u001b[94mDetectando conceptos en archivo: 1 - SyO - Bertoglio - Teoria de sistemas\u001b[0m\n",
      "\u001b[94mDetectando conceptos en archivo: 1 - SyO - BPMN 2.0 Manual de referencia\u001b[0m\n",
      "\u001b[94mDetectando conceptos en archivo: 1 - SyO - Gutierrez Gomez - Teoría general de sistemas\u001b[0m\n",
      "\u001b[94mDetectando conceptos en archivo: 1 - SyO - Kendall y Kendall pag. 1 - 13\u001b[0m\n",
      "\u001b[94mDetectando conceptos en archivo: 1 - SyO - La organizacion como sistema abierto- Cap 5\u001b[0m\n",
      "\u001b[94mDetectando conceptos en archivo: 1 - SyO - Ponce - FODA\u001b[0m\n",
      "\u001b[94mDetectando conceptos en archivo: 1 - SyO - Resumen SyO U1\u001b[0m\n",
      "\u001b[94mDetectando conceptos en archivo: 1 - SyO - Resumen SyO U2\u001b[0m\n",
      "\u001b[94mDetectando conceptos en archivo: 1 - SyO - Resumen SyO U3\u001b[0m\n",
      "\u001b[94mDetectando conceptos en archivo: 1 - SyO - Resumen SyO U4\u001b[0m\n",
      "\u001b[94mDetectando conceptos en archivo: 1 - SyO - Resumen SyO U5\u001b[0m\n",
      "\u001b[94mDetectando conceptos en archivo: 1 - SyO - Teoria de sistemas\u001b[0m\n",
      "\u001b[94mDetectando conceptos en archivo: 2 - AS - AS Presentación de UML (a)\u001b[0m\n",
      "\u001b[94mDetectando conceptos en archivo: 2 - AS - Scrum Manager - Historias de Usuario\u001b[0m\n",
      "\u001b[94mDetectando conceptos en archivo: 2 - AS - scrum_manager\u001b[0m\n",
      "\u001b[94mDetectando conceptos en archivo: 2 - AS - U8 Metodologías Agiles parte a \u001b[0m\n",
      "\u001b[94mDetectando conceptos en archivo: 2 - SO - ResumenSO\u001b[0m\n",
      "\u001b[94mDetectando conceptos en archivo: 2 - SO - Stallings\u001b[0m\n",
      "\u001b[94mDetectando conceptos en archivo: 2 - SO - Tanenbaum\u001b[0m\n",
      "\u001b[94mDetectando conceptos en archivo: 3 - AP - AdProy_2_Trabajo en Equipo_2022\u001b[0m\n",
      "\u001b[94mDetectando conceptos en archivo: 3 - AP - respuestas\u001b[0m\n",
      "\u001b[94mDetectando conceptos en archivo: 3 - BD - caselli_manual-de-base-de-datos-2019\u001b[0m\n",
      "\u001b[94mDetectando conceptos en archivo: 3 - BD - Guía 1\u001b[0m\n",
      "\u001b[94mDetectando conceptos en archivo: 3 - BD - Guía 2\u001b[0m\n",
      "\u001b[94mDetectando conceptos en archivo: 3 - CD - capitulo2\u001b[0m\n",
      "\u001b[94mDetectando conceptos en archivo: 3 - CD - Comunicaciones y Redes de Computadores,7ma Edición - William Stallings\u001b[0m\n",
      "\u001b[94mDetectando conceptos en archivo: 3 - CD - sistemas-de-comunicaciones-electronicas-tomasi-4ta-edicion\u001b[0m\n",
      "\u001b[94mDetectando conceptos en archivo: 3 - DS - Actor. Definicion. Clasificacion (1)\u001b[0m\n",
      "\u001b[94mDetectando conceptos en archivo: 3 - DS - Eje 1. Metodología y conceptos teóricos aplicados\u001b[0m\n",
      "\u001b[94mDetectando conceptos en archivo: 3 - DS - Libro UML y Patrones - Larman\u001b[0m\n",
      "\u001b[94mDetectando conceptos en archivo: 3 - DS - MerFNConceptos\u001b[0m\n",
      "\u001b[94mDetectando conceptos en archivo: 4 - AS - Analisis PEST\u001b[0m\n",
      "\u001b[94mDetectando conceptos en archivo: 4 - AS - Backups_raids\u001b[0m\n",
      "\u001b[94mDetectando conceptos en archivo: 4 - AS - Benchmark en Tecnología\u001b[0m\n",
      "\u001b[94mDetectando conceptos en archivo: 4 - AS - Benchmark\u001b[0m\n",
      "\u001b[94mDetectando conceptos en archivo: 4 - AS - Chiavenato-cap8\u001b[0m\n",
      "\u001b[94mDetectando conceptos en archivo: 4 - AS - chiavenato-cap9\u001b[0m\n",
      "\u001b[94mDetectando conceptos en archivo: 4 - AS - Comportamiento_organizacional._La_dina_mica_en_las_organizaciones.\u001b[0m\n",
      "\u001b[94mDetectando conceptos en archivo: 4 - AS - EL PROCESO ADMINISTRATIVO\u001b[0m\n",
      "\u001b[94mDetectando conceptos en archivo: 4 - AS - Elaboracion_de_programas_de_capacitacion\u001b[0m\n",
      "\u001b[94mDetectando conceptos en archivo: 4 - AS - Ergonomia - 4°9°\u001b[0m\n",
      "\u001b[94mDetectando conceptos en archivo: 4 - AS - Ergonomía 4k10\u001b[0m\n",
      "\u001b[94mDetectando conceptos en archivo: 4 - AS - Gestión CPD\u001b[0m\n",
      "\u001b[94mDetectando conceptos en archivo: 4 - AS - Habilidades Blandas 4k9\u001b[0m\n",
      "\u001b[94mDetectando conceptos en archivo: 4 - AS - Implementación de un Data Center\u001b[0m\n",
      "\u001b[94mDetectando conceptos en archivo: 4 - AS - Ingeniería Social 4k9\u001b[0m\n",
      "\u001b[94mDetectando conceptos en archivo: 4 - AS - Ingeniería Social\u001b[0m\n",
      "\u001b[94mDetectando conceptos en archivo: 4 - AS - Inteligencia Emocional - 4°10°\u001b[0m\n",
      "\u001b[94mDetectando conceptos en archivo: 4 - AS - Inteligencia Emocional - 4°9°\u001b[0m\n",
      "\u001b[94mDetectando conceptos en archivo: 4 - AS - Planes-de-Contingencia\u001b[0m\n",
      "\u001b[94mDetectando conceptos en archivo: 4 - AS - Resumen Global Administración de Sistemas de Información\u001b[0m\n",
      "\u001b[94mDetectando conceptos en archivo: 4 - AS - SNIFFERS Y ESCANEO DE PUERTOS\u001b[0m\n",
      "\u001b[94mDetectando conceptos en archivo: 4 - AS - Sniffers_y_escaneo_de_puertos\u001b[0m\n",
      "\u001b[94mDetectando conceptos en archivo: 4 - AS - Teletrabajo-4k10\u001b[0m\n",
      "\u001b[94mDetectando conceptos en archivo: 4 - AS - Teletrabajo-4k9\u001b[0m\n",
      "\u001b[94mDetectando conceptos en archivo: 4 - AS - Trello-4°9°\u001b[0m\n",
      "\u001b[94mDetectando conceptos en archivo: 4 - AS - WLAN TT\u001b[0m\n",
      "\u001b[94mDetectando conceptos en archivo: 4 - AS - WLAN\u001b[0m\n",
      "\u001b[94mDetectando conceptos en archivo: 4 - ICS - 2.-principiosingenieriasoftware\u001b[0m\n",
      "\u001b[94mDetectando conceptos en archivo: 4 - ICS - 2020-Scrum-Guide-Spanish-Latin-South-American\u001b[0m\n",
      "\u001b[94mDetectando conceptos en archivo: 4 - ICS - Facu_MiniParcial 2_U 4 y 5.1.docx\u001b[0m\n",
      "\u001b[94mDetectando conceptos en archivo: 4 - ICS - Preguntas 1er Parcial Ingeniería y Calidad de Software\u001b[0m\n",
      "\u001b[94mDetectando conceptos en archivo: 4 - ICS - Preguntas Unidad 3 Ingeniería y Calidad de Software\u001b[0m\n",
      "\u001b[94mDetectando conceptos en archivo: 4 - ICS - SoftwareDesign_PrincipiosyPatrones-Autentia\u001b[0m\n",
      "\u001b[94mDetectando conceptos en archivo: 4 - IO - Breve Resumen ANALISIS SENSIBILIDAD\u001b[0m\n",
      "\u001b[94mDetectando conceptos en archivo: 4 - IO - U5 - ADMINISTRACION DE PROYECTOS\u001b[0m\n",
      "\u001b[94mDetectando conceptos en archivo: 4 - IO - U6_1-GESTION DE INVENTARIOS\u001b[0m\n",
      "\u001b[94mDetectando conceptos en archivo: 4 - IO - U6_2_1-INVENTARIO - Introduccion ANALISIS ABC\u001b[0m\n",
      "\u001b[94mDetectando conceptos en archivo: 4 - IO - U6_2_2-INVENTARIO - Articulo ANALISIS ABC\u001b[0m\n",
      "\u001b[94mDetectando conceptos en archivo: 4 - RD - Kurose-Ross\u001b[0m\n",
      "\u001b[94mDetectando conceptos en archivo: 4 - RD - Resumen Redes de Datos\u001b[0m\n",
      "\u001b[94mDetectando conceptos en archivo: 4 - RD - Tanenbaum\u001b[0m\n",
      "\u001b[94mDetectando conceptos en archivo: 4 - S - Resumen 2do Parcial\u001b[0m\n",
      "\u001b[94mDetectando conceptos en archivo: 4 - TA - Guía 1. Sistemas de control automático\u001b[0m\n",
      "\u001b[94mDetectando conceptos en archivo: 4 - UXUI - Diseño UX UNIDAD 1\u001b[0m\n",
      "\u001b[94mDetectando conceptos en archivo: 5 - GG - Resumen Cambio Organizacional\u001b[0m\n",
      "\u001b[94mDetectando conceptos en archivo: 5 - GG - Resumen Parcial 26-5\u001b[0m\n",
      "\u001b[94mDetectando conceptos en archivo: 5 - SSI - 2012_Magerit_v3_libro2_catalogo-de-elementos_es_NIPO_630-12-171-8\u001b[0m\n",
      "\u001b[94mDetectando conceptos en archivo: 5 - SSI - Clase U2-3 Disposicion ONTI 2015\u001b[0m\n",
      "\u001b[94mDetectando conceptos en archivo: 5 - SSI - DE641-2021_Anexo\u001b[0m\n",
      "\u001b[94mDetectando conceptos en archivo: 5 - SSI - Disposicion 1-2015_PSI\u001b[0m\n",
      "\u001b[94mDetectando conceptos en archivo: 5 - SSI - Guia_apoyo_SGSI\u001b[0m\n",
      "\u001b[94mDetectando conceptos en archivo: 5 - SSI - guia_ciberseguridad_gestion_riesgos_metad\u001b[0m\n",
      "\u001b[94mDetectando conceptos en archivo: 5 - SSI - M5-Privacidad\u001b[0m\n",
      "\u001b[94mDetectando conceptos en archivo: 5 - SSI - Magerit_v3_libro1_metodo\u001b[0m\n",
      "\u001b[94mDetectando conceptos en archivo: 5 - SSI - Magerit_v3_libro2_catálogo de elementos\u001b[0m\n",
      "\u001b[94mDetectando conceptos en archivo: 5 - SSI - Magerit_v3_libro3_guía de técnicas\u001b[0m\n",
      "\u001b[94mDetectando conceptos en archivo: 5 - SSI - Metodologia GR compatible Disposición 1-2015 ONTI\u001b[0m\n",
      "\u001b[94mDetectando conceptos en archivo: 5 - SSI - Resolución Nº RESOL-2022-87-APN-SIGEN - Normas de Control Interno para Tecnología de la Información\u001b[0m\n",
      "\u001b[94mDetectando conceptos en archivo: 5 - SSI - Resumen U2 - Disposición ONTI 1 2015\u001b[0m\n",
      "\u001b[92mCantidad de conceptos candidatos:7516024\u001b[0m\n"
     ]
    }
   ],
   "source": [
    "related_table = {}\n",
    "\n",
    "for f in raw_files:\n",
    "    print(\"\\033[94mDetectando conceptos en archivo: \" + f + \"\\033[0m\")\n",
    "\n",
    "    tokens = []\n",
    "\n",
    "    with open(f\"{tokens_path}/{f}.txt\", \"rb\") as tf:\n",
    "        tokens = tf.read().decode(\"utf-8\").split(\"\\n\")\n",
    "\n",
    "    for i in range(len(tokens) - window_size):\n",
    "        window = tokens[i:i+window_size]\n",
    "\n",
    "        def get_subarrays(arr):\n",
    "            result = []\n",
    "            n = len(arr)\n",
    "            for r in range(1, n+1):  # sizes from 1 to n\n",
    "                for indices in combinations(range(n), r):\n",
    "                    subarray = [arr[i] for i in indices]\n",
    "\n",
    "                    result.append(subarray)\n",
    "            return result\n",
    "        \n",
    "        arrays = get_subarrays(window[1:])\n",
    "\n",
    "        # arrays.insert(0, []) # Permite formar conceptos de una sola palabra\n",
    "\n",
    "        for arr in arrays:\n",
    "            arr.insert(0, window[0])\n",
    "            arr = [s.lower() for s in arr]\n",
    "\n",
    "            if any(re.search(r'(^[0-9\\.\\,]+$)|(-$)|(^.\\.$)', s) for s in arr):\n",
    "                continue\n",
    "\n",
    "            if len(arr) != len(set(arr)):\n",
    "                continue\n",
    "            # TODO: refactor this\n",
    "\n",
    "            arr.sort()\n",
    "            \n",
    "            t = tuple(arr)\n",
    "            if (not t in related_table):\n",
    "                related_table[t] = 0\n",
    "            related_table[t] += 1\n",
    "\n",
    "print(\"\\033[92mCantidad de conceptos candidatos:\" + str(len(related_table)) + \"\\033[0m\")"
   ]
  },
  {
   "cell_type": "markdown",
   "metadata": {
    "id": "qhn-HksfDhKN"
   },
   "source": [
    "### Creación Vocabulario\n",
    "Para crear el vocabulario, se realizará un filtro al diccionario `related_table` resultante de los pasos anteriores. Definimos los parámetros `min_freq` y `max_freq` para ello."
   ]
  },
  {
   "cell_type": "code",
   "execution_count": 23,
   "metadata": {},
   "outputs": [],
   "source": [
    "def token_iterator(tokens_path):\n",
    "    for file in os.listdir(tokens_path):\n",
    "        with open(f\"{tokens_path}/{file}\", \"rb\") as tf:\n",
    "            tokens = tf.read().decode(\"utf-8\").split(\"\\n\")\n",
    "            yield tokens"
   ]
  },
  {
   "cell_type": "code",
   "execution_count": 25,
   "metadata": {},
   "outputs": [],
   "source": [
    "from collections import Counter\n",
    "from typing import Iterator\n",
    "\n",
    "class Vocab:\n",
    "    def __init__(self, tokens, min_freq=50, max_freq=100, reserved_tokens = []):\n",
    "\n",
    "        counter = Counter()\n",
    "        if isinstance(tokens, Iterator):\n",
    "            for token_batch in tokens:\n",
    "                counter.update(token_batch)\n",
    "        else:\n",
    "            counter.update(tokens)\n",
    "\n",
    "        self.token_freqs = sorted(counter.items(), key=lambda x:x[1], reverse=True)\n",
    "\n",
    "        self.idx_to_token = list(sorted(set(['<unk>'] + reserved_tokens + [\n",
    "            token for token, freq in self.token_freqs if freq >= min_freq and freq <= max_freq])))\n",
    "\n",
    "        self.token_to_idx = {token: idx\n",
    "                            for idx, token in enumerate(self.idx_to_token)}\n",
    "        \n",
    "    def __len__(self):\n",
    "        return len(self.idx_to_token)\n",
    "    \n",
    "    def __getitem__(self, tokens):\n",
    "        if not isinstance(tokens, (list, tuple)):\n",
    "            return self.token_to_idx.get(tokens, self.unk)\n",
    "        return [self.__getitem__(token) for token in tokens]\n",
    "    \n",
    "    def to_tokens(self, indexes):\n",
    "        if hasattr(indexes, '__len__') and len(indexes) > 1:\n",
    "            return [self.idx_to_token[int(index)] for index in indexes]\n",
    "        return self.idx_to_token(indexes)\n",
    "    \n",
    "    @property\n",
    "    def unk(self):\n",
    "        return self.token_to_idx['<unk>']"
   ]
  },
  {
   "cell_type": "code",
   "execution_count": 29,
   "metadata": {},
   "outputs": [
    {
     "name": "stdout",
     "output_type": "stream",
     "text": [
      "\u001b[92mTamaño del vocabulario: 2575\u001b[0m\n"
     ]
    }
   ],
   "source": [
    "tokens_path = \"./data/tokens\"\n",
    "vocabulary = Vocab(token_iterator(tokens_path), min_freq=50, max_freq=100)\n",
    "print(\"\\033[92mTamaño del vocabulario: \" + str(len(vocabulary)) + \"\\033[0m\")"
   ]
  },
  {
   "cell_type": "markdown",
   "metadata": {
    "id": "waCeLFNPFJbO"
   },
   "source": [
    "En este punto, ya hemos seleccionado conjuntos de tokens que suelen aparecer cerca.\n",
    "\n",
    "Estos conjuntos serán los conceptos, y pasarán a formar nuestro vocabulario.\n",
    "\n",
    "Ahora, se debe tokenizar nuevamente los textos planos, utilizando los conceptos.\n",
    "\n",
    "Para esto, se recorrerá cada archivo de /data/plain mediante una ventana deslizante del mismo tamaño utilizado para detectar conceptos, separando en palabras siempre y cuando no se encuentre dentro de la ventana las palabras de un concepto.\n",
    "\n",
    "Se generarán nuevos tokens, siendo estos numéricos (/data/tokens_num). LLos positivos (o 0) corresponden al índice de un concepto en el vocabulario, mientras que los negativos indican la cantidad de tokens no reconocidos (\\<unk\\>). Esto se realizó de esta forma para ahorrar espacio y tiempo de procesamiento.\n",
    "\n",
    "Si en una ventana se detectara más de un concepto, se agregarán todos los que se encuentre. Debido al procesamiento que se realizará más adelante, no debería importar el orden."
   ]
  },
  {
   "cell_type": "code",
   "execution_count": 4,
   "metadata": {},
   "outputs": [
    {
     "name": "stdout",
     "output_type": "stream",
     "text": [
      "\u001b[92mTamaño del vocabulario:2726\u001b[0m\n"
     ]
    }
   ],
   "source": [
    "import ast\n",
    "\n",
    "concepts_file = \"./data/vocabulary.txt\"\n",
    "vocabulary = []\n",
    "\n",
    "with open(concepts_file, \"rb\") as cf:\n",
    "    lines = cf.read().decode(\"utf-8\").split(\"\\n\")[:-1]\n",
    "    vocabulary = [ast.literal_eval(l) for l in lines]\n",
    "\n",
    "print(\"\\033[92mTamaño del vocabulario:\" + str(len(vocabulary)) + \"\\033[0m\")"
   ]
  },
  {
   "cell_type": "code",
   "execution_count": 9,
   "metadata": {
    "id": "RQzvFvNPHcfL"
   },
   "outputs": [
    {
     "name": "stdout",
     "output_type": "stream",
     "text": [
      "\u001b[Tokenizando archivo por conceptos: 3 - AP - AdProy_2_Trabajo en Equipo_2022\u001b[0m\n",
      "\u001b[Tokenizando archivo por conceptos: 3 - AP - respuestas\u001b[0m\n",
      "\u001b[Tokenizando archivo por conceptos: 3 - BD - caselli_manual-de-base-de-datos-2019\u001b[0m\n",
      "\u001b[Tokenizando archivo por conceptos: 3 - BD - Guía 1\u001b[0m\n",
      "\u001b[Tokenizando archivo por conceptos: 3 - BD - Guía 2\u001b[0m\n",
      "\u001b[Tokenizando archivo por conceptos: 3 - CD - capitulo2\u001b[0m\n",
      "\u001b[Tokenizando archivo por conceptos: 3 - CD - Comunicaciones y Redes de Computadores,7ma Edición - William Stallings\u001b[0m\n",
      "\u001b[Tokenizando archivo por conceptos: 3 - CD - sistemas-de-comunicaciones-electronicas-tomasi-4ta-edicion\u001b[0m\n",
      "\u001b[Tokenizando archivo por conceptos: 3 - DS - Actor. Definicion. Clasificacion (1)\u001b[0m\n",
      "\u001b[Tokenizando archivo por conceptos: 3 - DS - Eje 1. Metodología y conceptos teóricos aplicados\u001b[0m\n",
      "\u001b[Tokenizando archivo por conceptos: 3 - DS - Libro UML y Patrones - Larman\u001b[0m\n",
      "\u001b[Tokenizando archivo por conceptos: 3 - DS - MerFNConceptos\u001b[0m\n",
      "\u001b[Tokenizando archivo por conceptos: 4 - AS - Analisis PEST\u001b[0m\n",
      "\u001b[Tokenizando archivo por conceptos: 4 - AS - Backups_raids\u001b[0m\n",
      "\u001b[Tokenizando archivo por conceptos: 4 - AS - Benchmark en Tecnología\u001b[0m\n",
      "\u001b[Tokenizando archivo por conceptos: 4 - AS - Benchmark\u001b[0m\n",
      "\u001b[Tokenizando archivo por conceptos: 4 - AS - Chiavenato-cap8\u001b[0m\n",
      "\u001b[Tokenizando archivo por conceptos: 4 - AS - chiavenato-cap9\u001b[0m\n",
      "\u001b[Tokenizando archivo por conceptos: 4 - AS - Comportamiento_organizacional._La_dina_mica_en_las_organizaciones.\u001b[0m\n",
      "\u001b[Tokenizando archivo por conceptos: 4 - AS - EL PROCESO ADMINISTRATIVO\u001b[0m\n",
      "\u001b[Tokenizando archivo por conceptos: 4 - AS - Elaboracion_de_programas_de_capacitacion\u001b[0m\n",
      "\u001b[Tokenizando archivo por conceptos: 4 - AS - Ergonomia - 4°9°\u001b[0m\n",
      "\u001b[Tokenizando archivo por conceptos: 4 - AS - Ergonomía 4k10\u001b[0m\n",
      "\u001b[Tokenizando archivo por conceptos: 4 - AS - Gestión CPD\u001b[0m\n",
      "\u001b[Tokenizando archivo por conceptos: 4 - AS - Habilidades Blandas 4k9\u001b[0m\n",
      "\u001b[Tokenizando archivo por conceptos: 4 - AS - Implementación de un Data Center\u001b[0m\n",
      "\u001b[Tokenizando archivo por conceptos: 4 - AS - Ingeniería Social 4k9\u001b[0m\n",
      "\u001b[Tokenizando archivo por conceptos: 4 - AS - Ingeniería Social\u001b[0m\n",
      "\u001b[Tokenizando archivo por conceptos: 4 - AS - Inteligencia Emocional - 4°10°\u001b[0m\n",
      "\u001b[Tokenizando archivo por conceptos: 4 - AS - Inteligencia Emocional - 4°9°\u001b[0m\n",
      "\u001b[Tokenizando archivo por conceptos: 4 - AS - Planes-de-Contingencia\u001b[0m\n",
      "\u001b[Tokenizando archivo por conceptos: 4 - AS - Resumen Global Administración de Sistemas de Información\u001b[0m\n",
      "\u001b[Tokenizando archivo por conceptos: 4 - AS - SNIFFERS Y ESCANEO DE PUERTOS\u001b[0m\n",
      "\u001b[Tokenizando archivo por conceptos: 4 - AS - Sniffers_y_escaneo_de_puertos\u001b[0m\n",
      "\u001b[Tokenizando archivo por conceptos: 4 - AS - Teletrabajo-4k10\u001b[0m\n",
      "\u001b[Tokenizando archivo por conceptos: 4 - AS - Teletrabajo-4k9\u001b[0m\n",
      "\u001b[Tokenizando archivo por conceptos: 4 - AS - Trello-4°9°\u001b[0m\n",
      "\u001b[Tokenizando archivo por conceptos: 4 - AS - WLAN TT\u001b[0m\n",
      "\u001b[Tokenizando archivo por conceptos: 4 - AS - WLAN\u001b[0m\n",
      "\u001b[Tokenizando archivo por conceptos: 4 - ICS - 2.-principiosingenieriasoftware\u001b[0m\n",
      "\u001b[Tokenizando archivo por conceptos: 4 - ICS - 2020-Scrum-Guide-Spanish-Latin-South-American\u001b[0m\n",
      "\u001b[Tokenizando archivo por conceptos: 4 - ICS - Facu_MiniParcial 2_U 4 y 5.1.docx\u001b[0m\n",
      "\u001b[Tokenizando archivo por conceptos: 4 - ICS - Preguntas 1er Parcial Ingeniería y Calidad de Software\u001b[0m\n",
      "\u001b[Tokenizando archivo por conceptos: 4 - ICS - Preguntas Unidad 3 Ingeniería y Calidad de Software\u001b[0m\n",
      "\u001b[Tokenizando archivo por conceptos: 4 - ICS - SoftwareDesign_PrincipiosyPatrones-Autentia\u001b[0m\n",
      "\u001b[Tokenizando archivo por conceptos: 4 - IO - Breve Resumen ANALISIS SENSIBILIDAD\u001b[0m\n",
      "\u001b[Tokenizando archivo por conceptos: 4 - IO - U5 - ADMINISTRACION DE PROYECTOS\u001b[0m\n",
      "\u001b[Tokenizando archivo por conceptos: 4 - IO - U6_1-GESTION DE INVENTARIOS\u001b[0m\n",
      "\u001b[Tokenizando archivo por conceptos: 4 - IO - U6_2_1-INVENTARIO - Introduccion ANALISIS ABC\u001b[0m\n",
      "\u001b[Tokenizando archivo por conceptos: 4 - IO - U6_2_2-INVENTARIO - Articulo ANALISIS ABC\u001b[0m\n",
      "\u001b[Tokenizando archivo por conceptos: 4 - RD - Kurose-Ross\u001b[0m\n",
      "\u001b[Tokenizando archivo por conceptos: 4 - RD - Resumen Redes de Datos\u001b[0m\n",
      "\u001b[Tokenizando archivo por conceptos: 4 - RD - Tanenbaum\u001b[0m\n",
      "\u001b[Tokenizando archivo por conceptos: 4 - S - Resumen 2do Parcial\u001b[0m\n",
      "\u001b[Tokenizando archivo por conceptos: 4 - TA - Guía 1. Sistemas de control automático\u001b[0m\n",
      "\u001b[Tokenizando archivo por conceptos: 4 - UXUI - Diseño UX UNIDAD 1\u001b[0m\n",
      "\u001b[Tokenizando archivo por conceptos: 5 - GG - Resumen Cambio Organizacional\u001b[0m\n",
      "\u001b[Tokenizando archivo por conceptos: 5 - GG - Resumen Parcial 26-5\u001b[0m\n",
      "\u001b[Tokenizando archivo por conceptos: 5 - SSI - 2012_Magerit_v3_libro2_catalogo-de-elementos_es_NIPO_630-12-171-8\u001b[0m\n",
      "\u001b[Tokenizando archivo por conceptos: 5 - SSI - Clase U2-3 Disposicion ONTI 2015\u001b[0m\n",
      "\u001b[Tokenizando archivo por conceptos: 5 - SSI - DE641-2021_Anexo\u001b[0m\n",
      "\u001b[Tokenizando archivo por conceptos: 5 - SSI - Disposicion 1-2015_PSI\u001b[0m\n",
      "\u001b[Tokenizando archivo por conceptos: 5 - SSI - Guia_apoyo_SGSI\u001b[0m\n",
      "\u001b[Tokenizando archivo por conceptos: 5 - SSI - guia_ciberseguridad_gestion_riesgos_metad\u001b[0m\n",
      "\u001b[Tokenizando archivo por conceptos: 5 - SSI - M5-Privacidad\u001b[0m\n",
      "\u001b[Tokenizando archivo por conceptos: 5 - SSI - Magerit_v3_libro1_metodo\u001b[0m\n",
      "\u001b[Tokenizando archivo por conceptos: 5 - SSI - Magerit_v3_libro2_catálogo de elementos\u001b[0m\n",
      "\u001b[Tokenizando archivo por conceptos: 5 - SSI - Magerit_v3_libro3_guía de técnicas\u001b[0m\n",
      "\u001b[Tokenizando archivo por conceptos: 5 - SSI - Metodologia GR compatible Disposición 1-2015 ONTI\u001b[0m\n",
      "\u001b[Tokenizando archivo por conceptos: 5 - SSI - Resolución Nº RESOL-2022-87-APN-SIGEN - Normas de Control Interno para Tecnología de la Información\u001b[0m\n",
      "\u001b[Tokenizando archivo por conceptos: 5 - SSI - Resumen U2 - Disposición ONTI 1 2015\u001b[0m\n"
     ]
    }
   ],
   "source": [
    "import math\n",
    "\n",
    "tokens_conceptos_path = \"./data/tokens_conceptos\"\n",
    "\n",
    "metrics_2 = {}\n",
    "\n",
    "window_size_concept_tokenization = window_size * 3\n",
    "\n",
    "for f in raw_files:\n",
    "    print(\"\\033[Tokenizando archivo por conceptos: \" + f + \"\\033[0m\")\n",
    "    metrics_2[f] = {}\n",
    "    found_concepts = 0\n",
    "\n",
    "    recent_concepts = {}\n",
    "\n",
    "    with open(plain_path + \"/\" + f + \".txt\", \"rb\") as pf:\n",
    "        txt = pf.read().decode(\"utf-8\")\n",
    "        tokens = [t.text for t in esp.tokenizer(txt)]\n",
    "\n",
    "        metrics_2[f][\"tokens\"] = len(tokens)\n",
    "\n",
    "        with open(tokens_conceptos_path + \"/\" + f + \".txt\", \"wb\") as tnf:\n",
    "\n",
    "            unks = 0\n",
    "\n",
    "            for i in range(len(tokens) - window_size_concept_tokenization):\n",
    "                window = tokens[i:i+window_size_concept_tokenization]\n",
    "                for k, v in recent_concepts.items():\n",
    "                    if v > 0:\n",
    "                        recent_concepts[k] -= 1\n",
    "\n",
    "                unks += 1\n",
    "            \n",
    "                for ix, concept in enumerate(vocabulary):\n",
    "                    if all(word in window for word in concept) and (not ix in recent_concepts or recent_concepts[ix] == 0):\n",
    "                        tnf.write((\"-\" + str((unks-1)) + \" \" + str(ix) + \" \").encode(\"utf-8\"))\n",
    "                        unks = 0\n",
    "                        recent_concepts[ix] = window_size_concept_tokenization\n",
    "                        found_concepts += 1\n",
    "\n",
    "                    \n",
    "    metrics_2[f][\"concepts\"] = found_concepts"
   ]
  },
  {
   "cell_type": "code",
   "execution_count": 10,
   "metadata": {},
   "outputs": [
    {
     "name": "stdout",
     "output_type": "stream",
     "text": [
      "\u001b[92m\n",
      "Archivo 3 - AP - AdProy_2_Trabajo en Equipo_2022:\n",
      "\ttokens: 27662\n",
      "\tconcepts: 275\n",
      "Archivo 3 - AP - respuestas:\n",
      "\ttokens: 0\n",
      "\tconcepts: 0\n",
      "Archivo 3 - BD - caselli_manual-de-base-de-datos-2019:\n",
      "\ttokens: 28732\n",
      "\tconcepts: 388\n",
      "Archivo 3 - BD - Guía 1:\n",
      "\ttokens: 11365\n",
      "\tconcepts: 390\n",
      "Archivo 3 - BD - Guía 2:\n",
      "\ttokens: 9548\n",
      "\tconcepts: 143\n",
      "Archivo 3 - CD - capitulo2:\n",
      "\ttokens: 10412\n",
      "\tconcepts: 236\n",
      "Archivo 3 - CD - Comunicaciones y Redes de Computadores,7ma Edición - William Stallings:\n",
      "\ttokens: 455695\n",
      "\tconcepts: 17102\n",
      "Archivo 3 - CD - sistemas-de-comunicaciones-electronicas-tomasi-4ta-edicion:\n",
      "\ttokens: 530998\n",
      "\tconcepts: 19677\n",
      "Archivo 3 - DS - Actor. Definicion. Clasificacion (1):\n",
      "\ttokens: 1490\n",
      "\tconcepts: 33\n",
      "Archivo 3 - DS - Eje 1. Metodología y conceptos teóricos aplicados:\n",
      "\ttokens: 4415\n",
      "\tconcepts: 41\n",
      "Archivo 3 - DS - Libro UML y Patrones - Larman:\n",
      "\ttokens: 253057\n",
      "\tconcepts: 3868\n",
      "Archivo 3 - DS - MerFNConceptos:\n",
      "\ttokens: 2342\n",
      "\tconcepts: 42\n",
      "Archivo 4 - AS - Analisis PEST:\n",
      "\ttokens: 1004\n",
      "\tconcepts: 4\n",
      "Archivo 4 - AS - Backups_raids:\n",
      "\ttokens: 1576\n",
      "\tconcepts: 31\n",
      "Archivo 4 - AS - Benchmark en Tecnología:\n",
      "\ttokens: 279\n",
      "\tconcepts: 0\n",
      "Archivo 4 - AS - Benchmark:\n",
      "\ttokens: 1543\n",
      "\tconcepts: 25\n",
      "Archivo 4 - AS - Chiavenato-cap8:\n",
      "\ttokens: 11040\n",
      "\tconcepts: 121\n",
      "Archivo 4 - AS - chiavenato-cap9:\n",
      "\ttokens: 29412\n",
      "\tconcepts: 323\n",
      "Archivo 4 - AS - Comportamiento_organizacional._La_dina_mica_en_las_organizaciones.:\n",
      "\ttokens: 355693\n",
      "\tconcepts: 4712\n",
      "Archivo 4 - AS - EL PROCESO ADMINISTRATIVO:\n",
      "\ttokens: 1645\n",
      "\tconcepts: 17\n",
      "Archivo 4 - AS - Elaboracion_de_programas_de_capacitacion:\n",
      "\ttokens: 9854\n",
      "\tconcepts: 47\n",
      "Archivo 4 - AS - Ergonomia - 4°9°:\n",
      "\ttokens: 796\n",
      "\tconcepts: 0\n",
      "Archivo 4 - AS - Ergonomía 4k10:\n",
      "\ttokens: 735\n",
      "\tconcepts: 0\n",
      "Archivo 4 - AS - Gestión CPD:\n",
      "\ttokens: 849\n",
      "\tconcepts: 4\n",
      "Archivo 4 - AS - Habilidades Blandas 4k9:\n",
      "\ttokens: 1335\n",
      "\tconcepts: 6\n",
      "Archivo 4 - AS - Implementación de un Data Center:\n",
      "\ttokens: 1719\n",
      "\tconcepts: 7\n",
      "Archivo 4 - AS - Ingeniería Social 4k9:\n",
      "\ttokens: 967\n",
      "\tconcepts: 7\n",
      "Archivo 4 - AS - Ingeniería Social:\n",
      "\ttokens: 989\n",
      "\tconcepts: 5\n",
      "Archivo 4 - AS - Inteligencia Emocional - 4°10°:\n",
      "\ttokens: 2950\n",
      "\tconcepts: 12\n",
      "Archivo 4 - AS - Inteligencia Emocional - 4°9°:\n",
      "\ttokens: 1809\n",
      "\tconcepts: 8\n",
      "Archivo 4 - AS - Planes-de-Contingencia:\n",
      "\ttokens: 971\n",
      "\tconcepts: 0\n",
      "Archivo 4 - AS - Resumen Global Administración de Sistemas de Información:\n",
      "\ttokens: 2950\n",
      "\tconcepts: 33\n",
      "Archivo 4 - AS - SNIFFERS Y ESCANEO DE PUERTOS:\n",
      "\ttokens: 938\n",
      "\tconcepts: 0\n",
      "Archivo 4 - AS - Sniffers_y_escaneo_de_puertos:\n",
      "\ttokens: 828\n",
      "\tconcepts: 0\n",
      "Archivo 4 - AS - Teletrabajo-4k10:\n",
      "\ttokens: 729\n",
      "\tconcepts: 0\n",
      "Archivo 4 - AS - Teletrabajo-4k9:\n",
      "\ttokens: 795\n",
      "\tconcepts: 6\n",
      "Archivo 4 - AS - Trello-4°9°:\n",
      "\ttokens: 897\n",
      "\tconcepts: 0\n",
      "Archivo 4 - AS - WLAN TT:\n",
      "\ttokens: 677\n",
      "\tconcepts: 0\n",
      "Archivo 4 - AS - WLAN:\n",
      "\ttokens: 1353\n",
      "\tconcepts: 1\n",
      "Archivo 4 - ICS - 2.-principiosingenieriasoftware:\n",
      "\ttokens: 4371\n",
      "\tconcepts: 68\n",
      "Archivo 4 - ICS - 2020-Scrum-Guide-Spanish-Latin-South-American:\n",
      "\ttokens: 10449\n",
      "\tconcepts: 28\n",
      "Archivo 4 - ICS - Facu_MiniParcial 2_U 4 y 5.1.docx:\n",
      "\ttokens: 1838\n",
      "\tconcepts: 0\n",
      "Archivo 4 - ICS - Preguntas 1er Parcial Ingeniería y Calidad de Software:\n",
      "\ttokens: 10348\n",
      "\tconcepts: 127\n",
      "Archivo 4 - ICS - Preguntas Unidad 3 Ingeniería y Calidad de Software:\n",
      "\ttokens: 1275\n",
      "\tconcepts: 16\n",
      "Archivo 4 - ICS - SoftwareDesign_PrincipiosyPatrones-Autentia:\n",
      "\ttokens: 11515\n",
      "\tconcepts: 101\n",
      "Archivo 4 - IO - Breve Resumen ANALISIS SENSIBILIDAD:\n",
      "\ttokens: 651\n",
      "\tconcepts: 0\n",
      "Archivo 4 - IO - U5 - ADMINISTRACION DE PROYECTOS:\n",
      "\ttokens: 3256\n",
      "\tconcepts: 44\n",
      "Archivo 4 - IO - U6_1-GESTION DE INVENTARIOS:\n",
      "\ttokens: 1884\n",
      "\tconcepts: 9\n",
      "Archivo 4 - IO - U6_2_1-INVENTARIO - Introduccion ANALISIS ABC:\n",
      "\ttokens: 712\n",
      "\tconcepts: 3\n",
      "Archivo 4 - IO - U6_2_2-INVENTARIO - Articulo ANALISIS ABC:\n",
      "\ttokens: 0\n",
      "\tconcepts: 0\n",
      "Archivo 4 - RD - Kurose-Ross:\n",
      "\ttokens: 514636\n",
      "\tconcepts: 18855\n",
      "Archivo 4 - RD - Resumen Redes de Datos:\n",
      "\ttokens: 21439\n",
      "\tconcepts: 898\n",
      "Archivo 4 - RD - Tanenbaum:\n",
      "\ttokens: 526547\n",
      "\tconcepts: 11978\n",
      "Archivo 4 - S - Resumen 2do Parcial:\n",
      "\ttokens: 3044\n",
      "\tconcepts: 29\n",
      "Archivo 4 - TA - Guía 1. Sistemas de control automático:\n",
      "\ttokens: 11294\n",
      "\tconcepts: 286\n",
      "Archivo 4 - UXUI - Diseño UX UNIDAD 1:\n",
      "\ttokens: 23304\n",
      "\tconcepts: 447\n",
      "Archivo 5 - GG - Resumen Cambio Organizacional:\n",
      "\ttokens: 415\n",
      "\tconcepts: 2\n",
      "Archivo 5 - GG - Resumen Parcial 26-5:\n",
      "\ttokens: 1588\n",
      "\tconcepts: 17\n",
      "Archivo 5 - SSI - 2012_Magerit_v3_libro2_catalogo-de-elementos_es_NIPO_630-12-171-8:\n",
      "\ttokens: 23621\n",
      "\tconcepts: 502\n",
      "Archivo 5 - SSI - Clase U2-3 Disposicion ONTI 2015:\n",
      "\ttokens: 6023\n",
      "\tconcepts: 191\n",
      "Archivo 5 - SSI - DE641-2021_Anexo:\n",
      "\ttokens: 4845\n",
      "\tconcepts: 137\n",
      "Archivo 5 - SSI - Disposicion 1-2015_PSI:\n",
      "\ttokens: 54786\n",
      "\tconcepts: 1488\n",
      "Archivo 5 - SSI - Guia_apoyo_SGSI:\n",
      "\ttokens: 13025\n",
      "\tconcepts: 247\n",
      "Archivo 5 - SSI - guia_ciberseguridad_gestion_riesgos_metad:\n",
      "\ttokens: 8180\n",
      "\tconcepts: 200\n",
      "Archivo 5 - SSI - M5-Privacidad:\n",
      "\ttokens: 23502\n",
      "\tconcepts: 703\n",
      "Archivo 5 - SSI - Magerit_v3_libro1_metodo:\n",
      "\ttokens: 61717\n",
      "\tconcepts: 1461\n",
      "Archivo 5 - SSI - Magerit_v3_libro2_catálogo de elementos:\n",
      "\ttokens: 23621\n",
      "\tconcepts: 502\n",
      "Archivo 5 - SSI - Magerit_v3_libro3_guía de técnicas:\n",
      "\ttokens: 17946\n",
      "\tconcepts: 303\n",
      "Archivo 5 - SSI - Metodologia GR compatible Disposición 1-2015 ONTI:\n",
      "\ttokens: 6089\n",
      "\tconcepts: 97\n",
      "Archivo 5 - SSI - Resolución Nº RESOL-2022-87-APN-SIGEN - Normas de Control Interno para Tecnología de la Información:\n",
      "\ttokens: 10286\n",
      "\tconcepts: 331\n",
      "Archivo 5 - SSI - Resumen U2 - Disposición ONTI 1 2015:\n",
      "\ttokens: 4017\n",
      "\tconcepts: 168\n",
      "\u001b[0m\n"
     ]
    }
   ],
   "source": [
    "print(\"\\033[92m\")\n",
    "for archivo, item in metrics_2.items():\n",
    "    print(\"Archivo \" + archivo + \":\")\n",
    "    for nombre, valor in item.items():\n",
    "        print(\"\\t\" + nombre + \": \" + str(valor))\n",
    "print(\"\\033[0m\")"
   ]
  },
  {
   "cell_type": "markdown",
   "metadata": {
    "id": "GyqXH3y2IKST"
   },
   "source": [
    "A partir de los tokens numéricos, se iterará por cada secuencia de token con un nuevo tamaño de ventana, mayor, tratando de distinguir conceptos relacionados.\n",
    "\n",
    "Esta ventana se centrará en cada token (no -1), almacenando en un diccionario el token central, los tokens en el contexto y ejemplos negativos (para evitar que la red neuronal, al entrenar, aprenda que todos los tokens siempre están relacionados)."
   ]
  },
  {
   "cell_type": "code",
   "execution_count": null,
   "metadata": {
    "id": "1JampbY-K6fZ"
   },
   "outputs": [],
   "source": [
    "class ConceptDataset(Dataset):\n",
    "    def __init__(self, tokens_path, vocab_size, window_size=5, negative_samples=5):\n",
    "        self.tokens_path = tokens_path\n",
    "        self.window_size = window_size\n",
    "        self.negative_samples = negative_samples\n",
    "        self.vocab_size = vocab_size\n",
    "\n",
    "        self.sequences = []\n",
    "        for file in os.listdir(self.tokens_path):\n",
    "            if not file.endswith(\".txt\"):\n",
    "                continue\n",
    "            with open(f\"{self.tokens_path}/{file}\", \"rb\") as tf:\n",
    "                sequence = []\n",
    "                for token in f.read.strip().split():\n",
    "                    if token.startswith(\"-\"):\n",
    "                        # skip unkown tokens\n",
    "                        continue\n",
    "                    sequence.append(int(token))\n",
    "                self.sequences.append(sequence)\n",
    "\n",
    "            self.flat_sequences = [item for sublist in self.sequences for item in sublist]\n",
    "            self.length = len(self.flat_sequences)\n",
    "\n",
    "\n",
    "\n",
    "    def __len__(self):\n",
    "        return self.le\n",
    "    \n",
    "    def __getitem__(self, idx):\n",
    "        with open(f\"{self.plain_path}/{idx}.txt\", \"rb\") as pf:\n",
    "            txt = pf.read().decode(\"utf-8\")\n",
    "            tokens = spacy.tokenizer(txt)\n",
    "            with open(f\"{self.tokens_path}/{idx}.txt\", \"wb\") as tf:\n",
    "                for token in tokens:\n",
    "                    if (is_clean_token(token)):\n",
    "                        tf.write((token.text + \"\\n\").encode(\"utf-8\"))\n",
    "\n",
    "    def is_clean_token(token):\n",
    "        return not (\n",
    "            token.is_punct or\n",
    "            token.is_space or\n",
    "            token.is_stop or\n",
    "            len(token.text) == 1)\n",
    "\n",
    "    for f in raw_files:\n",
    "        print(\"\\033[94mTokenizando archivo: \" + f + \"\\033[0m\")\n",
    "\n",
    "        with open(f\"{plain_path}/{f}.txt\", \"rb\") as pf:\n",
    "            txt = pf.read().decode(\"utf-8\")\n",
    "            tokens = spacy.tokenizer(txt)\n",
    "            with open(f\"{tokens_path}/{f}.txt\", \"wb\") as tf:\n",
    "                for token in tokens:\n",
    "                    if (is_clean_token(token)):\n",
    "                        tf.write((token.text + \"\\n\").encode(\"utf-8\"))"
   ]
  },
  {
   "cell_type": "markdown",
   "metadata": {
    "id": "n-QSj_DQK63i"
   },
   "source": [
    "Hecho esto, podemos finalmente armar nuestro dataset. El mismo retornará (mediante get_item()) un centro, su contexto y sus ejemplos negativos.\n",
    "\n",
    "A partir de este Dataset, a su vez, se generará un DataLoader."
   ]
  },
  {
   "cell_type": "code",
   "execution_count": null,
   "metadata": {
    "id": "nBaNJdUJNp_7"
   },
   "outputs": [],
   "source": [
    "import torch"
   ]
  },
  {
   "cell_type": "code",
   "execution_count": null,
   "metadata": {
    "id": "ec-elIZ3LhXY"
   },
   "outputs": [],
   "source": []
  },
  {
   "cell_type": "markdown",
   "metadata": {
    "id": "-u6Gf_hIMYnm"
   },
   "source": [
    "A continuación, se armará la estructura de la red neuronal mediante skipgram, utilizando capas Embedding de pytorch."
   ]
  },
  {
   "cell_type": "code",
   "execution_count": null,
   "metadata": {
    "id": "VjNlBeIxM1my"
   },
   "outputs": [],
   "source": []
  },
  {
   "cell_type": "markdown",
   "metadata": {
    "id": "NOVN22WTM1-j"
   },
   "source": [
    "Como función de pérdida, se utilizará entropía cruzada binaria (Sigmoidea). Esto es así pues requerimos clasificar dos conceptos según si están o no relacionado."
   ]
  },
  {
   "cell_type": "code",
   "execution_count": null,
   "metadata": {
    "id": "Dcyjlt4YND8Q"
   },
   "outputs": [],
   "source": []
  },
  {
   "cell_type": "markdown",
   "metadata": {
    "id": "B0f_w07NNEZ9"
   },
   "source": [
    "Se optó por abarcar todo el entrenamiento en una misma función. La misma incluye la inicialización de variables y el ciclo de entrenamiento en sí."
   ]
  },
  {
   "cell_type": "code",
   "execution_count": null,
   "metadata": {
    "id": "E3vBgobNNbKZ"
   },
   "outputs": [],
   "source": []
  },
  {
   "cell_type": "markdown",
   "metadata": {
    "id": "hLUJawwxNbkC"
   },
   "source": [
    "Se generó una función auxiliar para el entrenamiento por medio de GPU, en caso de estar disponible."
   ]
  },
  {
   "cell_type": "code",
   "execution_count": null,
   "metadata": {
    "id": "S_yUK2giNmTR"
   },
   "outputs": [],
   "source": [
    "def try_gpu(i=0):\n",
    "    if torch.cuda.device_count() >= i + 1:\n",
    "        return torch.device(f'cuda:{i}')\n",
    "    return torch.device('cpu')"
   ]
  },
  {
   "cell_type": "markdown",
   "metadata": {
    "id": "o86EEabpNsqR"
   },
   "source": [
    "Finalmente, se realizó el entrenamiento:"
   ]
  },
  {
   "cell_type": "code",
   "execution_count": null,
   "metadata": {
    "id": "1QimpOHcN2XJ"
   },
   "outputs": [],
   "source": []
  },
  {
   "cell_type": "markdown",
   "metadata": {
    "id": "FATzuHy4N5Bo"
   },
   "source": [
    "Para verificar la funcionalidad final que buscamos en el proyecto, se planteó la siguiente función:"
   ]
  },
  {
   "cell_type": "code",
   "execution_count": null,
   "metadata": {
    "id": "mUEb4ATSOFNs"
   },
   "outputs": [],
   "source": []
  },
  {
   "cell_type": "markdown",
   "metadata": {
    "id": "3U7YBaVVOGVX"
   },
   "source": [
    "Algunos ejemplos de la misma serían:"
   ]
  },
  {
   "cell_type": "code",
   "execution_count": null,
   "metadata": {
    "id": "adehXDcCOF_D"
   },
   "outputs": [],
   "source": []
  }
 ],
 "metadata": {
  "colab": {
   "authorship_tag": "ABX9TyPkOFf8bDH8q9ApCjhlpGB6",
   "provenance": []
  },
  "kernelspec": {
   "display_name": "venv",
   "language": "python",
   "name": "python3"
  },
  "language_info": {
   "codemirror_mode": {
    "name": "ipython",
    "version": 3
   },
   "file_extension": ".py",
   "mimetype": "text/x-python",
   "name": "python",
   "nbconvert_exporter": "python",
   "pygments_lexer": "ipython3",
   "version": "3.12.3"
  }
 },
 "nbformat": 4,
 "nbformat_minor": 4
}
