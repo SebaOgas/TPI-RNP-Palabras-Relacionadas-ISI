{
 "cells": [
  {
   "cell_type": "markdown",
   "metadata": {
    "id": "xmh3bN-o6LYh"
   },
   "source": [
    "# Palabras Relacionadas - Dataset\n",
    "\n",
    "En este notebook se explica en detalle el dataset y el procesamiento que requirió para dejarlo listo para la siguiente etapa del proyecto."
   ]
  },
  {
   "cell_type": "markdown",
   "metadata": {
    "id": "bvtlyAkk6eWY"
   },
   "source": [
    "En primer lugar, se buscó y seleccionó múltiples textos en formato PDF pertenencientes a distintas materias de la carrera Ingeniería en Sistemas de Información, Universidad Tecnológica Nacional Facultad Regional Mendoza.\n",
    "\n",
    "Estos, fueron cargados en la carpeta /data/raw.\n",
    "\n",
    "Se siguió como convención para los nombres el número del año de la materia, seguido de un guión, una abreviatura del nombre de la materia, otro guión y el nombre original del material."
   ]
  },
  {
   "cell_type": "markdown",
   "metadata": {
    "id": "VD7CLB8c7yZu"
   },
   "source": [
    "Utilizando algunas librerías de python, se convirtió cada archivo PDF en un archivo txt con su contenido, en /data/plain"
   ]
  },
  {
   "cell_type": "code",
   "execution_count": null,
   "metadata": {
    "colab": {
     "base_uri": "https://localhost:8080/"
    },
    "executionInfo": {
     "elapsed": 3630,
     "status": "ok",
     "timestamp": 1749157967269,
     "user": {
      "displayName": "Seba O",
      "userId": "01825810927577519836"
     },
     "user_tz": 180
    },
    "id": "8LOgWv-f8Ems",
    "outputId": "ed04fe33-eec5-43ee-d047-ee224073420f"
   },
   "outputs": [],
   "source": [
    "!pip install pypdf"
   ]
  },
  {
   "cell_type": "code",
   "execution_count": 2,
   "metadata": {},
   "outputs": [],
   "source": [
    "from pypdf import PdfReader\n",
    "import os\n",
    "from os import listdir\n",
    "from os.path import isfile, join\n",
    "\n",
    "os.chdir('C:\\\\Users\\\\saoga\\\\OneDrive\\\\Escritorio\\\\Repos\\\\TPI-RNP-Palabras-Relacionadas-ISI')"
   ]
  },
  {
   "cell_type": "code",
   "execution_count": 5,
   "metadata": {},
   "outputs": [],
   "source": [
    "raw_path = \"./data/raw\"\n",
    "plain_path = \"./data/plain\"\n",
    "\n",
    "# Arreglo con los nombres de los archivos PDF\n",
    "raw_files = [os.path.splitext(f)[0] for f in listdir(raw_path) if isfile(join(raw_path, f))]"
   ]
  },
  {
   "cell_type": "code",
   "execution_count": null,
   "metadata": {
    "colab": {
     "base_uri": "https://localhost:8080/"
    },
    "executionInfo": {
     "elapsed": 894532,
     "status": "ok",
     "timestamp": 1749159253392,
     "user": {
      "displayName": "Seba O",
      "userId": "01825810927577519836"
     },
     "user_tz": 180
    },
    "id": "OUVAxYUy7vN7",
    "outputId": "142c1885-aac0-4f81-d7e9-dc816eade658"
   },
   "outputs": [
    {
     "name": "stdout",
     "output_type": "stream",
     "text": [
      "\u001b[94mConvirtiendo archivo: 1 - AC - LibroArquitecturadeComputadorasSantiagoPerez090321\u001b[0m\n",
      "\u001b[94mConvirtiendo archivo: 1 - AyED - cpp según yo pero en pedo\u001b[0m\n",
      "\u001b[94mConvirtiendo archivo: 1 - AyED - cpp según yo\u001b[0m\n",
      "\u001b[94mConvirtiendo archivo: 1 - AyED - Unidad3 (7929)\u001b[0m\n",
      "\u001b[94mConvirtiendo archivo: 1 - AyED - Unidad4 (7930)\u001b[0m\n",
      "\u001b[94mConvirtiendo archivo: 1 - AyED - Unidades 1 y 2 (cód. fotoc. 7928)\u001b[0m\n",
      "\u001b[94mConvirtiendo archivo: 1 - MD - Matemáticas discretas by Ramóne Espinosa Armenta (z-lib.org)\u001b[0m\n",
      "\u001b[94mConvirtiendo archivo: 1 - SyO - 01 Evolucion de las estructuras\u001b[0m\n",
      "\u001b[94mConvirtiendo archivo: 1 - SyO - 02 Gestion por procesos UNCuyo\u001b[0m\n",
      "\u001b[94mConvirtiendo archivo: 1 - SyO - 03 Gestion por procesos, indicaroes y estandares para unidades de informacion - Cap 1 y 2\u001b[0m\n",
      "\u001b[94mConvirtiendo archivo: 1 - SyO - 04 gestion-por-procesos\u001b[0m\n",
      "\u001b[94mConvirtiendo archivo: 1 - SyO - 05 Arquitectura_empresarial_que_es_y_para_q\u001b[0m\n",
      "\u001b[94mConvirtiendo archivo: 1 - SyO - 1)La Información en la Empresa\u001b[0m\n",
      "\u001b[94mConvirtiendo archivo: 1 - SyO - 2)Recopilacion de la informacion\u001b[0m\n",
      "\u001b[94mConvirtiendo archivo: 1 - SyO - Analisis FODA\u001b[0m\n",
      "\u001b[94mConvirtiendo archivo: 1 - SyO - Bertoglio - Teoria de sistemas\u001b[0m\n",
      "\u001b[94mConvirtiendo archivo: 1 - SyO - BPMN 2.0 Manual de referencia\u001b[0m\n",
      "\u001b[94mConvirtiendo archivo: 1 - SyO - Gutierrez Gomez - Teoría general de sistemas\u001b[0m\n",
      "\u001b[94mConvirtiendo archivo: 1 - SyO - Kendall y Kendall pag. 1 - 13\u001b[0m\n",
      "\u001b[94mConvirtiendo archivo: 1 - SyO - La organizacion como sistema abierto- Cap 5\u001b[0m\n",
      "\u001b[94mConvirtiendo archivo: 1 - SyO - Ponce - FODA\u001b[0m\n",
      "\u001b[94mConvirtiendo archivo: 1 - SyO - Resumen SyO U1\u001b[0m\n",
      "\u001b[94mConvirtiendo archivo: 1 - SyO - Resumen SyO U2\u001b[0m\n",
      "\u001b[94mConvirtiendo archivo: 1 - SyO - Resumen SyO U3\u001b[0m\n",
      "\u001b[94mConvirtiendo archivo: 1 - SyO - Resumen SyO U4\u001b[0m\n",
      "\u001b[94mConvirtiendo archivo: 1 - SyO - Resumen SyO U5\u001b[0m\n",
      "\u001b[94mConvirtiendo archivo: 1 - SyO - Teoria de sistemas\u001b[0m\n",
      "\u001b[94mConvirtiendo archivo: 2 - AS - AS Presentación de UML (a)\u001b[0m\n",
      "\u001b[94mConvirtiendo archivo: 2 - AS - Scrum Manager - Historias de Usuario\u001b[0m\n",
      "\u001b[94mConvirtiendo archivo: 2 - AS - scrum_manager\u001b[0m\n",
      "\u001b[94mConvirtiendo archivo: 2 - AS - U8 Metodologías Agiles parte a \u001b[0m\n",
      "\u001b[94mConvirtiendo archivo: 2 - SO - ResumenSO\u001b[0m\n",
      "\u001b[94mConvirtiendo archivo: 2 - SO - Stallings\u001b[0m\n",
      "\u001b[94mConvirtiendo archivo: 2 - SO - Tanenbaum\u001b[0m\n",
      "\u001b[94mConvirtiendo archivo: 3 - AP - AdProy_2_Trabajo en Equipo_2022\u001b[0m\n",
      "\u001b[94mConvirtiendo archivo: 3 - AP - respuestas\u001b[0m\n",
      "\u001b[94mConvirtiendo archivo: 3 - BD - caselli_manual-de-base-de-datos-2019\u001b[0m\n",
      "\u001b[94mConvirtiendo archivo: 3 - BD - Guía 1\u001b[0m\n",
      "\u001b[94mConvirtiendo archivo: 3 - BD - Guía 2\u001b[0m\n",
      "\u001b[94mConvirtiendo archivo: 3 - CD - capitulo2\u001b[0m\n",
      "\u001b[94mConvirtiendo archivo: 3 - CD - Comunicaciones y Redes de Computadores,7ma Edición - William Stallings\u001b[0m\n",
      "\u001b[94mConvirtiendo archivo: 3 - CD - sistemas-de-comunicaciones-electronicas-tomasi-4ta-edicion\u001b[0m\n",
      "\u001b[94mConvirtiendo archivo: 3 - DS - Actor. Definicion. Clasificacion (1)\u001b[0m\n",
      "\u001b[94mConvirtiendo archivo: 3 - DS - Eje 1. Metodología y conceptos teóricos aplicados\u001b[0m\n",
      "\u001b[94mConvirtiendo archivo: 3 - DS - Libro UML y Patrones - Larman\u001b[0m\n",
      "\u001b[94mConvirtiendo archivo: 3 - DS - MerFNConceptos\u001b[0m\n",
      "\u001b[94mConvirtiendo archivo: 4 - AS - Analisis PEST\u001b[0m\n",
      "\u001b[94mConvirtiendo archivo: 4 - AS - Backups_raids\u001b[0m\n",
      "\u001b[94mConvirtiendo archivo: 4 - AS - Benchmark en Tecnología\u001b[0m\n",
      "\u001b[94mConvirtiendo archivo: 4 - AS - Benchmark\u001b[0m\n",
      "\u001b[94mConvirtiendo archivo: 4 - AS - Chiavenato-cap8\u001b[0m\n",
      "\u001b[94mConvirtiendo archivo: 4 - AS - chiavenato-cap9\u001b[0m\n",
      "\u001b[94mConvirtiendo archivo: 4 - AS - Comportamiento_organizacional._La_dina_mica_en_las_organizaciones.\u001b[0m\n",
      "\u001b[94mConvirtiendo archivo: 4 - AS - EL PROCESO ADMINISTRATIVO\u001b[0m\n",
      "\u001b[94mConvirtiendo archivo: 4 - AS - Elaboracion_de_programas_de_capacitacion\u001b[0m\n",
      "\u001b[94mConvirtiendo archivo: 4 - AS - Ergonomia - 4°9°\u001b[0m\n",
      "\u001b[94mConvirtiendo archivo: 4 - AS - Ergonomía 4k10\u001b[0m\n",
      "\u001b[94mConvirtiendo archivo: 4 - AS - Gestión CPD\u001b[0m\n",
      "\u001b[94mConvirtiendo archivo: 4 - AS - Habilidades Blandas 4k9\u001b[0m\n",
      "\u001b[94mConvirtiendo archivo: 4 - AS - Implementación de un Data Center\u001b[0m\n",
      "\u001b[94mConvirtiendo archivo: 4 - AS - Ingeniería Social 4k9\u001b[0m\n",
      "\u001b[94mConvirtiendo archivo: 4 - AS - Ingeniería Social\u001b[0m\n",
      "\u001b[94mConvirtiendo archivo: 4 - AS - Inteligencia Emocional - 4°10°\u001b[0m\n",
      "\u001b[94mConvirtiendo archivo: 4 - AS - Inteligencia Emocional - 4°9°\u001b[0m\n",
      "\u001b[94mConvirtiendo archivo: 4 - AS - Planes-de-Contingencia\u001b[0m\n",
      "\u001b[94mConvirtiendo archivo: 4 - AS - Resumen Global Administración de Sistemas de Información\u001b[0m\n",
      "\u001b[94mConvirtiendo archivo: 4 - AS - SNIFFERS Y ESCANEO DE PUERTOS\u001b[0m\n",
      "\u001b[94mConvirtiendo archivo: 4 - AS - Sniffers_y_escaneo_de_puertos\u001b[0m\n",
      "\u001b[94mConvirtiendo archivo: 4 - AS - Teletrabajo-4k10\u001b[0m\n",
      "\u001b[94mConvirtiendo archivo: 4 - AS - Teletrabajo-4k9\u001b[0m\n",
      "\u001b[94mConvirtiendo archivo: 4 - AS - Trello-4°9°\u001b[0m\n",
      "\u001b[94mConvirtiendo archivo: 4 - AS - WLAN TT\u001b[0m\n",
      "\u001b[94mConvirtiendo archivo: 4 - AS - WLAN\u001b[0m\n",
      "\u001b[94mConvirtiendo archivo: 4 - ICS - 2.-principiosingenieriasoftware\u001b[0m\n",
      "\u001b[94mConvirtiendo archivo: 4 - ICS - 2020-Scrum-Guide-Spanish-Latin-South-American\u001b[0m\n",
      "\u001b[94mConvirtiendo archivo: 4 - ICS - Facu_MiniParcial 2_U 4 y 5.1.docx\u001b[0m\n",
      "\u001b[94mConvirtiendo archivo: 4 - ICS - Preguntas 1er Parcial Ingeniería y Calidad de Software\u001b[0m\n",
      "\u001b[94mConvirtiendo archivo: 4 - ICS - Preguntas Unidad 3 Ingeniería y Calidad de Software\u001b[0m\n",
      "\u001b[94mConvirtiendo archivo: 4 - ICS - SoftwareDesign_PrincipiosyPatrones-Autentia\u001b[0m\n",
      "\u001b[94mConvirtiendo archivo: 4 - IO - Breve Resumen ANALISIS SENSIBILIDAD\u001b[0m\n",
      "\u001b[94mConvirtiendo archivo: 4 - IO - U5 - ADMINISTRACION DE PROYECTOS\u001b[0m\n",
      "\u001b[94mConvirtiendo archivo: 4 - IO - U6_1-GESTION DE INVENTARIOS\u001b[0m\n",
      "\u001b[94mConvirtiendo archivo: 4 - IO - U6_2_1-INVENTARIO - Introduccion ANALISIS ABC\u001b[0m\n",
      "\u001b[94mConvirtiendo archivo: 4 - IO - U6_2_2-INVENTARIO - Articulo ANALISIS ABC\u001b[0m\n",
      "\u001b[94mConvirtiendo archivo: 4 - RD - Kurose-Ross\u001b[0m\n",
      "\u001b[94mConvirtiendo archivo: 4 - RD - Resumen Redes de Datos\u001b[0m\n",
      "\u001b[94mConvirtiendo archivo: 4 - RD - Tanenbaum\u001b[0m\n",
      "\u001b[94mConvirtiendo archivo: 4 - S - Resumen 2do Parcial\u001b[0m\n",
      "\u001b[94mConvirtiendo archivo: 4 - TA - Guía 1. Sistemas de control automático\u001b[0m\n",
      "\u001b[94mConvirtiendo archivo: 4 - UXUI - Diseño UX UNIDAD 1\u001b[0m\n",
      "\u001b[94mConvirtiendo archivo: 5 - GG - Resumen Cambio Organizacional\u001b[0m\n",
      "\u001b[94mConvirtiendo archivo: 5 - GG - Resumen Parcial 26-5\u001b[0m\n",
      "\u001b[94mConvirtiendo archivo: 5 - SSI - 2012_Magerit_v3_libro2_catalogo-de-elementos_es_NIPO_630-12-171-8\u001b[0m\n",
      "\u001b[94mConvirtiendo archivo: 5 - SSI - Clase U2-3 Disposicion ONTI 2015\u001b[0m\n",
      "\u001b[94mConvirtiendo archivo: 5 - SSI - DE641-2021_Anexo\u001b[0m\n",
      "\u001b[94mConvirtiendo archivo: 5 - SSI - Disposicion 1-2015_PSI\u001b[0m\n",
      "\u001b[94mConvirtiendo archivo: 5 - SSI - Guia_apoyo_SGSI\u001b[0m\n",
      "\u001b[94mConvirtiendo archivo: 5 - SSI - guia_ciberseguridad_gestion_riesgos_metad\u001b[0m\n",
      "\u001b[94mConvirtiendo archivo: 5 - SSI - M5-Privacidad\u001b[0m\n",
      "\u001b[94mConvirtiendo archivo: 5 - SSI - Magerit_v3_libro1_metodo\u001b[0m\n",
      "\u001b[94mConvirtiendo archivo: 5 - SSI - Magerit_v3_libro2_catálogo de elementos\u001b[0m\n",
      "\u001b[94mConvirtiendo archivo: 5 - SSI - Magerit_v3_libro3_guía de técnicas\u001b[0m\n",
      "\u001b[94mConvirtiendo archivo: 5 - SSI - Metodologia GR compatible Disposición 1-2015 ONTI\u001b[0m\n",
      "\u001b[94mConvirtiendo archivo: 5 - SSI - Resolución Nº RESOL-2022-87-APN-SIGEN - Normas de Control Interno para Tecnología de la Información\u001b[0m\n",
      "\u001b[94mConvirtiendo archivo: 5 - SSI - Resumen U2 - Disposición ONTI 1 2015\u001b[0m\n",
      "\u001b[92m\n",
      "Año 1:\n",
      "\tMateria: AC - 16.58MB\n",
      "\tMateria: AyED - 0.73MB\n",
      "\tMateria: MD - 7.58MB\n",
      "\tMateria: SyO - 31.21MB\n",
      "Año 2:\n",
      "\tMateria: AS - 14.18MB\n",
      "\tMateria: SO - 11.84MB\n",
      "Año 3:\n",
      "\tMateria: AP - 13.36MB\n",
      "\tMateria: BD - 16.06MB\n",
      "\tMateria: CD - 30.34MB\n",
      "\tMateria: DS - 5.28MB\n",
      "Año 4:\n",
      "\tMateria: AS - 23.39MB\n",
      "\tMateria: ICS - 13.17MB\n",
      "\tMateria: IO - 3.6MB\n",
      "\tMateria: RD - 44.03MB\n",
      "\tMateria: S - 0.64MB\n",
      "\tMateria: TA - 4.16MB\n",
      "\tMateria: UXUI - 1.79MB\n",
      "Año 5:\n",
      "\tMateria: GG - 0.33MB\n",
      "\tMateria: SSI - 19.84MB\n",
      "\u001b[0m\n"
     ]
    }
   ],
   "source": [
    "metrics = {}\n",
    "for f in raw_files:\n",
    "    print(\"\\033[94mConvirtiendo archivo: \" + f + \"\\033[0m\")\n",
    "\n",
    "    sf = f.split(\"-\")\n",
    "    anio = sf[0].strip()\n",
    "    materia = sf[1].strip()\n",
    "    if (not anio in metrics):\n",
    "        metrics[anio] = {}\n",
    "\n",
    "    if (not materia in metrics[anio]):\n",
    "        metrics[anio][materia] = 0\n",
    "\n",
    "    metrics[anio][materia] += os.path.getsize(raw_path + \"/\" + f + \".pdf\")\n",
    "\n",
    "    reader = PdfReader(raw_path + \"/\" + f + \".pdf\")\n",
    "    for p in reader.pages:\n",
    "        with open(plain_path + \"/\" + f + \".txt\", \"ab\") as t:\n",
    "            t.write(p.extract_text(\n",
    "                extraction_mode=\"plain\",\n",
    "                layout_mode_space_vertically=False).encode(\"utf-8\"))\n",
    "\n",
    "print(\"\\033[92m\")\n",
    "for a, materias in metrics.items():\n",
    "    print(\"Año \" + a + \":\")\n",
    "    for m, tamano in materias.items():\n",
    "        print(\"\\tMateria: \" + m + \" - \" + str(round(tamano/1000000,2)) +\"MB\")\n",
    "print(\"\\033[0m\")"
   ]
  },
  {
   "cell_type": "markdown",
   "metadata": {
    "id": "m1Oh3rLH97OW"
   },
   "source": [
    "A continuación, se tokenizó los archivos planos txt, generando un archivo txt nuevo donde cada línea es un token.\n",
    "\n",
    "Esto se logró gracias a Spacy."
   ]
  },
  {
   "cell_type": "code",
   "execution_count": null,
   "metadata": {
    "colab": {
     "base_uri": "https://localhost:8080/"
    },
    "executionInfo": {
     "elapsed": 22248,
     "status": "ok",
     "timestamp": 1749159426548,
     "user": {
      "displayName": "Seba O",
      "userId": "01825810927577519836"
     },
     "user_tz": 180
    },
    "id": "8dxbA4r29x02",
    "outputId": "ebbd9d1e-009c-491b-c147-e44856e84623"
   },
   "outputs": [],
   "source": [
    "!pip install spacy\n",
    "!python -m spacy download es_core_news_sm"
   ]
  },
  {
   "cell_type": "code",
   "execution_count": 7,
   "metadata": {},
   "outputs": [],
   "source": [
    "import spacy\n",
    "\n",
    "tokens_path = \"./data/tokens\"\n",
    "\n",
    "esp = spacy.load(\"es_core_news_sm\")"
   ]
  },
  {
   "cell_type": "code",
   "execution_count": null,
   "metadata": {
    "id": "9mpV1K6D5H0n"
   },
   "outputs": [
    {
     "name": "stdout",
     "output_type": "stream",
     "text": [
      "\u001b[94mTokenizando archivo: 1 - AC - LibroArquitecturadeComputadorasSantiagoPerez090321\u001b[0m\n",
      "\u001b[94mTokenizando archivo: 1 - AyED - cpp según yo pero en pedo\u001b[0m\n",
      "\u001b[94mTokenizando archivo: 1 - AyED - cpp según yo\u001b[0m\n",
      "\u001b[94mTokenizando archivo: 1 - AyED - Unidad3 (7929)\u001b[0m\n",
      "\u001b[94mTokenizando archivo: 1 - AyED - Unidad4 (7930)\u001b[0m\n",
      "\u001b[94mTokenizando archivo: 1 - AyED - Unidades 1 y 2 (cód. fotoc. 7928)\u001b[0m\n",
      "\u001b[94mTokenizando archivo: 1 - MD - Matemáticas discretas by Ramóne Espinosa Armenta (z-lib.org)\u001b[0m\n",
      "\u001b[94mTokenizando archivo: 1 - SyO - 01 Evolucion de las estructuras\u001b[0m\n",
      "\u001b[94mTokenizando archivo: 1 - SyO - 02 Gestion por procesos UNCuyo\u001b[0m\n",
      "\u001b[94mTokenizando archivo: 1 - SyO - 03 Gestion por procesos, indicaroes y estandares para unidades de informacion - Cap 1 y 2\u001b[0m\n",
      "\u001b[94mTokenizando archivo: 1 - SyO - 04 gestion-por-procesos\u001b[0m\n",
      "\u001b[94mTokenizando archivo: 1 - SyO - 05 Arquitectura_empresarial_que_es_y_para_q\u001b[0m\n",
      "\u001b[94mTokenizando archivo: 1 - SyO - 1)La Información en la Empresa\u001b[0m\n",
      "\u001b[94mTokenizando archivo: 1 - SyO - 2)Recopilacion de la informacion\u001b[0m\n",
      "\u001b[94mTokenizando archivo: 1 - SyO - Analisis FODA\u001b[0m\n",
      "\u001b[94mTokenizando archivo: 1 - SyO - Bertoglio - Teoria de sistemas\u001b[0m\n",
      "\u001b[94mTokenizando archivo: 1 - SyO - BPMN 2.0 Manual de referencia\u001b[0m\n",
      "\u001b[94mTokenizando archivo: 1 - SyO - Gutierrez Gomez - Teoría general de sistemas\u001b[0m\n",
      "\u001b[94mTokenizando archivo: 1 - SyO - Kendall y Kendall pag. 1 - 13\u001b[0m\n",
      "\u001b[94mTokenizando archivo: 1 - SyO - La organizacion como sistema abierto- Cap 5\u001b[0m\n",
      "\u001b[94mTokenizando archivo: 1 - SyO - Ponce - FODA\u001b[0m\n",
      "\u001b[94mTokenizando archivo: 1 - SyO - Resumen SyO U1\u001b[0m\n",
      "\u001b[94mTokenizando archivo: 1 - SyO - Resumen SyO U2\u001b[0m\n",
      "\u001b[94mTokenizando archivo: 1 - SyO - Resumen SyO U3\u001b[0m\n",
      "\u001b[94mTokenizando archivo: 1 - SyO - Resumen SyO U4\u001b[0m\n",
      "\u001b[94mTokenizando archivo: 1 - SyO - Resumen SyO U5\u001b[0m\n",
      "\u001b[94mTokenizando archivo: 1 - SyO - Teoria de sistemas\u001b[0m\n",
      "\u001b[94mTokenizando archivo: 2 - AS - AS Presentación de UML (a)\u001b[0m\n",
      "\u001b[94mTokenizando archivo: 2 - AS - Scrum Manager - Historias de Usuario\u001b[0m\n",
      "\u001b[94mTokenizando archivo: 2 - AS - scrum_manager\u001b[0m\n",
      "\u001b[94mTokenizando archivo: 2 - AS - U8 Metodologías Agiles parte a \u001b[0m\n",
      "\u001b[94mTokenizando archivo: 2 - SO - ResumenSO\u001b[0m\n",
      "\u001b[94mTokenizando archivo: 2 - SO - Stallings\u001b[0m\n",
      "\u001b[94mTokenizando archivo: 2 - SO - Tanenbaum\u001b[0m\n",
      "\u001b[94mTokenizando archivo: 3 - AP - AdProy_2_Trabajo en Equipo_2022\u001b[0m\n",
      "\u001b[94mTokenizando archivo: 3 - AP - respuestas\u001b[0m\n",
      "\u001b[94mTokenizando archivo: 3 - BD - caselli_manual-de-base-de-datos-2019\u001b[0m\n",
      "\u001b[94mTokenizando archivo: 3 - BD - Guía 1\u001b[0m\n",
      "\u001b[94mTokenizando archivo: 3 - BD - Guía 2\u001b[0m\n",
      "\u001b[94mTokenizando archivo: 3 - CD - capitulo2\u001b[0m\n",
      "\u001b[94mTokenizando archivo: 3 - CD - Comunicaciones y Redes de Computadores,7ma Edición - William Stallings\u001b[0m\n",
      "\u001b[94mTokenizando archivo: 3 - CD - sistemas-de-comunicaciones-electronicas-tomasi-4ta-edicion\u001b[0m\n",
      "\u001b[94mTokenizando archivo: 3 - DS - Actor. Definicion. Clasificacion (1)\u001b[0m\n",
      "\u001b[94mTokenizando archivo: 3 - DS - Eje 1. Metodología y conceptos teóricos aplicados\u001b[0m\n",
      "\u001b[94mTokenizando archivo: 3 - DS - Libro UML y Patrones - Larman\u001b[0m\n",
      "\u001b[94mTokenizando archivo: 3 - DS - MerFNConceptos\u001b[0m\n",
      "\u001b[94mTokenizando archivo: 4 - AS - Analisis PEST\u001b[0m\n",
      "\u001b[94mTokenizando archivo: 4 - AS - Backups_raids\u001b[0m\n",
      "\u001b[94mTokenizando archivo: 4 - AS - Benchmark en Tecnología\u001b[0m\n",
      "\u001b[94mTokenizando archivo: 4 - AS - Benchmark\u001b[0m\n",
      "\u001b[94mTokenizando archivo: 4 - AS - Chiavenato-cap8\u001b[0m\n",
      "\u001b[94mTokenizando archivo: 4 - AS - chiavenato-cap9\u001b[0m\n",
      "\u001b[94mTokenizando archivo: 4 - AS - Comportamiento_organizacional._La_dina_mica_en_las_organizaciones.\u001b[0m\n",
      "\u001b[94mTokenizando archivo: 4 - AS - EL PROCESO ADMINISTRATIVO\u001b[0m\n",
      "\u001b[94mTokenizando archivo: 4 - AS - Elaboracion_de_programas_de_capacitacion\u001b[0m\n",
      "\u001b[94mTokenizando archivo: 4 - AS - Ergonomia - 4°9°\u001b[0m\n",
      "\u001b[94mTokenizando archivo: 4 - AS - Ergonomía 4k10\u001b[0m\n",
      "\u001b[94mTokenizando archivo: 4 - AS - Gestión CPD\u001b[0m\n",
      "\u001b[94mTokenizando archivo: 4 - AS - Habilidades Blandas 4k9\u001b[0m\n",
      "\u001b[94mTokenizando archivo: 4 - AS - Implementación de un Data Center\u001b[0m\n",
      "\u001b[94mTokenizando archivo: 4 - AS - Ingeniería Social 4k9\u001b[0m\n",
      "\u001b[94mTokenizando archivo: 4 - AS - Ingeniería Social\u001b[0m\n",
      "\u001b[94mTokenizando archivo: 4 - AS - Inteligencia Emocional - 4°10°\u001b[0m\n",
      "\u001b[94mTokenizando archivo: 4 - AS - Inteligencia Emocional - 4°9°\u001b[0m\n",
      "\u001b[94mTokenizando archivo: 4 - AS - Planes-de-Contingencia\u001b[0m\n",
      "\u001b[94mTokenizando archivo: 4 - AS - Resumen Global Administración de Sistemas de Información\u001b[0m\n",
      "\u001b[94mTokenizando archivo: 4 - AS - SNIFFERS Y ESCANEO DE PUERTOS\u001b[0m\n",
      "\u001b[94mTokenizando archivo: 4 - AS - Sniffers_y_escaneo_de_puertos\u001b[0m\n",
      "\u001b[94mTokenizando archivo: 4 - AS - Teletrabajo-4k10\u001b[0m\n",
      "\u001b[94mTokenizando archivo: 4 - AS - Teletrabajo-4k9\u001b[0m\n",
      "\u001b[94mTokenizando archivo: 4 - AS - Trello-4°9°\u001b[0m\n",
      "\u001b[94mTokenizando archivo: 4 - AS - WLAN TT\u001b[0m\n",
      "\u001b[94mTokenizando archivo: 4 - AS - WLAN\u001b[0m\n",
      "\u001b[94mTokenizando archivo: 4 - ICS - 2.-principiosingenieriasoftware\u001b[0m\n",
      "\u001b[94mTokenizando archivo: 4 - ICS - 2020-Scrum-Guide-Spanish-Latin-South-American\u001b[0m\n",
      "\u001b[94mTokenizando archivo: 4 - ICS - Facu_MiniParcial 2_U 4 y 5.1.docx\u001b[0m\n",
      "\u001b[94mTokenizando archivo: 4 - ICS - Preguntas 1er Parcial Ingeniería y Calidad de Software\u001b[0m\n",
      "\u001b[94mTokenizando archivo: 4 - ICS - Preguntas Unidad 3 Ingeniería y Calidad de Software\u001b[0m\n",
      "\u001b[94mTokenizando archivo: 4 - ICS - SoftwareDesign_PrincipiosyPatrones-Autentia\u001b[0m\n",
      "\u001b[94mTokenizando archivo: 4 - IO - Breve Resumen ANALISIS SENSIBILIDAD\u001b[0m\n",
      "\u001b[94mTokenizando archivo: 4 - IO - U5 - ADMINISTRACION DE PROYECTOS\u001b[0m\n",
      "\u001b[94mTokenizando archivo: 4 - IO - U6_1-GESTION DE INVENTARIOS\u001b[0m\n",
      "\u001b[94mTokenizando archivo: 4 - IO - U6_2_1-INVENTARIO - Introduccion ANALISIS ABC\u001b[0m\n",
      "\u001b[94mTokenizando archivo: 4 - IO - U6_2_2-INVENTARIO - Articulo ANALISIS ABC\u001b[0m\n",
      "\u001b[94mTokenizando archivo: 4 - RD - Kurose-Ross\u001b[0m\n",
      "\u001b[94mTokenizando archivo: 4 - RD - Resumen Redes de Datos\u001b[0m\n",
      "\u001b[94mTokenizando archivo: 4 - RD - Tanenbaum\u001b[0m\n",
      "\u001b[94mTokenizando archivo: 4 - S - Resumen 2do Parcial\u001b[0m\n",
      "\u001b[94mTokenizando archivo: 4 - TA - Guía 1. Sistemas de control automático\u001b[0m\n",
      "\u001b[94mTokenizando archivo: 4 - UXUI - Diseño UX UNIDAD 1\u001b[0m\n",
      "\u001b[94mTokenizando archivo: 5 - GG - Resumen Cambio Organizacional\u001b[0m\n",
      "\u001b[94mTokenizando archivo: 5 - GG - Resumen Parcial 26-5\u001b[0m\n",
      "\u001b[94mTokenizando archivo: 5 - SSI - 2012_Magerit_v3_libro2_catalogo-de-elementos_es_NIPO_630-12-171-8\u001b[0m\n",
      "\u001b[94mTokenizando archivo: 5 - SSI - Clase U2-3 Disposicion ONTI 2015\u001b[0m\n",
      "\u001b[94mTokenizando archivo: 5 - SSI - DE641-2021_Anexo\u001b[0m\n",
      "\u001b[94mTokenizando archivo: 5 - SSI - Disposicion 1-2015_PSI\u001b[0m\n",
      "\u001b[94mTokenizando archivo: 5 - SSI - Guia_apoyo_SGSI\u001b[0m\n",
      "\u001b[94mTokenizando archivo: 5 - SSI - guia_ciberseguridad_gestion_riesgos_metad\u001b[0m\n",
      "\u001b[94mTokenizando archivo: 5 - SSI - M5-Privacidad\u001b[0m\n",
      "\u001b[94mTokenizando archivo: 5 - SSI - Magerit_v3_libro1_metodo\u001b[0m\n",
      "\u001b[94mTokenizando archivo: 5 - SSI - Magerit_v3_libro2_catálogo de elementos\u001b[0m\n",
      "\u001b[94mTokenizando archivo: 5 - SSI - Magerit_v3_libro3_guía de técnicas\u001b[0m\n",
      "\u001b[94mTokenizando archivo: 5 - SSI - Metodologia GR compatible Disposición 1-2015 ONTI\u001b[0m\n",
      "\u001b[94mTokenizando archivo: 5 - SSI - Resolución Nº RESOL-2022-87-APN-SIGEN - Normas de Control Interno para Tecnología de la Información\u001b[0m\n",
      "\u001b[94mTokenizando archivo: 5 - SSI - Resumen U2 - Disposición ONTI 1 2015\u001b[0m\n"
     ]
    }
   ],
   "source": [
    "def is_clean_token(token):\n",
    "    return not (\n",
    "        token.is_punct or\n",
    "        token.is_space or\n",
    "        token.is_stop or\n",
    "        len(token.text) == 1)\n",
    "\n",
    "for f in raw_files:\n",
    "    print(\"\\033[94mTokenizando archivo: \" + f + \"\\033[0m\")\n",
    "\n",
    "    with open(plain_path + \"/\" + f + \".txt\", \"rb\") as pf:\n",
    "        txt = pf.read().decode(\"utf-8\")\n",
    "        tokens = esp.tokenizer(txt)\n",
    "        with open(tokens_path + \"/\" + f + \".txt\", \"wb\") as tf:\n",
    "            for token in tokens:\n",
    "                if (is_clean_token(token)):\n",
    "                    tf.write((token.text + \"\\n\").encode(\"utf-8\"))"
   ]
  },
  {
   "cell_type": "markdown",
   "metadata": {
    "id": "eh5kn_mP_qZF"
   },
   "source": [
    "Una vez que se tienen los archivos con los tokens, deseamos detectar conceptos dentro de ellos. Estos conceptos formarán luego nuestro vocabulario.\n",
    "\n",
    "Se utilizará un algoritmo de ventana deslizante para esto."
   ]
  },
  {
   "cell_type": "code",
   "execution_count": 9,
   "metadata": {
    "executionInfo": {
     "elapsed": 50,
     "status": "ok",
     "timestamp": 1749163391436,
     "user": {
      "displayName": "Seba O",
      "userId": "01825810927577519836"
     },
     "user_tz": 180
    },
    "id": "8mWFXJbSQq5F"
   },
   "outputs": [],
   "source": [
    "from itertools import combinations\n",
    "import re\n",
    "\n",
    "window_size = 4"
   ]
  },
  {
   "cell_type": "code",
   "execution_count": null,
   "metadata": {
    "id": "fMtkg6yC_5o4"
   },
   "outputs": [
    {
     "name": "stdout",
     "output_type": "stream",
     "text": [
      "\u001b[94mDetectando conceptos en archivo: 1 - AC - LibroArquitecturadeComputadorasSantiagoPerez090321\u001b[0m\n",
      "\u001b[94mDetectando conceptos en archivo: 1 - AyED - cpp según yo pero en pedo\u001b[0m\n",
      "\u001b[94mDetectando conceptos en archivo: 1 - AyED - cpp según yo\u001b[0m\n",
      "\u001b[94mDetectando conceptos en archivo: 1 - AyED - Unidad3 (7929)\u001b[0m\n",
      "\u001b[94mDetectando conceptos en archivo: 1 - AyED - Unidad4 (7930)\u001b[0m\n",
      "\u001b[94mDetectando conceptos en archivo: 1 - AyED - Unidades 1 y 2 (cód. fotoc. 7928)\u001b[0m\n",
      "\u001b[94mDetectando conceptos en archivo: 1 - MD - Matemáticas discretas by Ramóne Espinosa Armenta (z-lib.org)\u001b[0m\n",
      "\u001b[94mDetectando conceptos en archivo: 1 - SyO - 01 Evolucion de las estructuras\u001b[0m\n",
      "\u001b[94mDetectando conceptos en archivo: 1 - SyO - 02 Gestion por procesos UNCuyo\u001b[0m\n",
      "\u001b[94mDetectando conceptos en archivo: 1 - SyO - 03 Gestion por procesos, indicaroes y estandares para unidades de informacion - Cap 1 y 2\u001b[0m\n",
      "\u001b[94mDetectando conceptos en archivo: 1 - SyO - 04 gestion-por-procesos\u001b[0m\n",
      "\u001b[94mDetectando conceptos en archivo: 1 - SyO - 05 Arquitectura_empresarial_que_es_y_para_q\u001b[0m\n",
      "\u001b[94mDetectando conceptos en archivo: 1 - SyO - 1)La Información en la Empresa\u001b[0m\n",
      "\u001b[94mDetectando conceptos en archivo: 1 - SyO - 2)Recopilacion de la informacion\u001b[0m\n",
      "\u001b[94mDetectando conceptos en archivo: 1 - SyO - Analisis FODA\u001b[0m\n",
      "\u001b[94mDetectando conceptos en archivo: 1 - SyO - Bertoglio - Teoria de sistemas\u001b[0m\n",
      "\u001b[94mDetectando conceptos en archivo: 1 - SyO - BPMN 2.0 Manual de referencia\u001b[0m\n",
      "\u001b[94mDetectando conceptos en archivo: 1 - SyO - Gutierrez Gomez - Teoría general de sistemas\u001b[0m\n",
      "\u001b[94mDetectando conceptos en archivo: 1 - SyO - Kendall y Kendall pag. 1 - 13\u001b[0m\n",
      "\u001b[94mDetectando conceptos en archivo: 1 - SyO - La organizacion como sistema abierto- Cap 5\u001b[0m\n",
      "\u001b[94mDetectando conceptos en archivo: 1 - SyO - Ponce - FODA\u001b[0m\n",
      "\u001b[94mDetectando conceptos en archivo: 1 - SyO - Resumen SyO U1\u001b[0m\n",
      "\u001b[94mDetectando conceptos en archivo: 1 - SyO - Resumen SyO U2\u001b[0m\n",
      "\u001b[94mDetectando conceptos en archivo: 1 - SyO - Resumen SyO U3\u001b[0m\n",
      "\u001b[94mDetectando conceptos en archivo: 1 - SyO - Resumen SyO U4\u001b[0m\n",
      "\u001b[94mDetectando conceptos en archivo: 1 - SyO - Resumen SyO U5\u001b[0m\n",
      "\u001b[94mDetectando conceptos en archivo: 1 - SyO - Teoria de sistemas\u001b[0m\n",
      "\u001b[94mDetectando conceptos en archivo: 2 - AS - AS Presentación de UML (a)\u001b[0m\n",
      "\u001b[94mDetectando conceptos en archivo: 2 - AS - Scrum Manager - Historias de Usuario\u001b[0m\n",
      "\u001b[94mDetectando conceptos en archivo: 2 - AS - scrum_manager\u001b[0m\n",
      "\u001b[94mDetectando conceptos en archivo: 2 - AS - U8 Metodologías Agiles parte a \u001b[0m\n",
      "\u001b[94mDetectando conceptos en archivo: 2 - SO - ResumenSO\u001b[0m\n",
      "\u001b[94mDetectando conceptos en archivo: 2 - SO - Stallings\u001b[0m\n",
      "\u001b[94mDetectando conceptos en archivo: 2 - SO - Tanenbaum\u001b[0m\n",
      "\u001b[94mDetectando conceptos en archivo: 3 - AP - AdProy_2_Trabajo en Equipo_2022\u001b[0m\n",
      "\u001b[94mDetectando conceptos en archivo: 3 - AP - respuestas\u001b[0m\n",
      "\u001b[94mDetectando conceptos en archivo: 3 - BD - caselli_manual-de-base-de-datos-2019\u001b[0m\n",
      "\u001b[94mDetectando conceptos en archivo: 3 - BD - Guía 1\u001b[0m\n",
      "\u001b[94mDetectando conceptos en archivo: 3 - BD - Guía 2\u001b[0m\n",
      "\u001b[94mDetectando conceptos en archivo: 3 - CD - capitulo2\u001b[0m\n",
      "\u001b[94mDetectando conceptos en archivo: 3 - CD - Comunicaciones y Redes de Computadores,7ma Edición - William Stallings\u001b[0m\n",
      "\u001b[94mDetectando conceptos en archivo: 3 - CD - sistemas-de-comunicaciones-electronicas-tomasi-4ta-edicion\u001b[0m\n",
      "\u001b[94mDetectando conceptos en archivo: 3 - DS - Actor. Definicion. Clasificacion (1)\u001b[0m\n",
      "\u001b[94mDetectando conceptos en archivo: 3 - DS - Eje 1. Metodología y conceptos teóricos aplicados\u001b[0m\n",
      "\u001b[94mDetectando conceptos en archivo: 3 - DS - Libro UML y Patrones - Larman\u001b[0m\n",
      "\u001b[94mDetectando conceptos en archivo: 3 - DS - MerFNConceptos\u001b[0m\n",
      "\u001b[94mDetectando conceptos en archivo: 4 - AS - Analisis PEST\u001b[0m\n",
      "\u001b[94mDetectando conceptos en archivo: 4 - AS - Backups_raids\u001b[0m\n",
      "\u001b[94mDetectando conceptos en archivo: 4 - AS - Benchmark en Tecnología\u001b[0m\n",
      "\u001b[94mDetectando conceptos en archivo: 4 - AS - Benchmark\u001b[0m\n",
      "\u001b[94mDetectando conceptos en archivo: 4 - AS - Chiavenato-cap8\u001b[0m\n",
      "\u001b[94mDetectando conceptos en archivo: 4 - AS - chiavenato-cap9\u001b[0m\n",
      "\u001b[94mDetectando conceptos en archivo: 4 - AS - Comportamiento_organizacional._La_dina_mica_en_las_organizaciones.\u001b[0m\n",
      "\u001b[94mDetectando conceptos en archivo: 4 - AS - EL PROCESO ADMINISTRATIVO\u001b[0m\n",
      "\u001b[94mDetectando conceptos en archivo: 4 - AS - Elaboracion_de_programas_de_capacitacion\u001b[0m\n",
      "\u001b[94mDetectando conceptos en archivo: 4 - AS - Ergonomia - 4°9°\u001b[0m\n",
      "\u001b[94mDetectando conceptos en archivo: 4 - AS - Ergonomía 4k10\u001b[0m\n",
      "\u001b[94mDetectando conceptos en archivo: 4 - AS - Gestión CPD\u001b[0m\n",
      "\u001b[94mDetectando conceptos en archivo: 4 - AS - Habilidades Blandas 4k9\u001b[0m\n",
      "\u001b[94mDetectando conceptos en archivo: 4 - AS - Implementación de un Data Center\u001b[0m\n",
      "\u001b[94mDetectando conceptos en archivo: 4 - AS - Ingeniería Social 4k9\u001b[0m\n",
      "\u001b[94mDetectando conceptos en archivo: 4 - AS - Ingeniería Social\u001b[0m\n",
      "\u001b[94mDetectando conceptos en archivo: 4 - AS - Inteligencia Emocional - 4°10°\u001b[0m\n",
      "\u001b[94mDetectando conceptos en archivo: 4 - AS - Inteligencia Emocional - 4°9°\u001b[0m\n",
      "\u001b[94mDetectando conceptos en archivo: 4 - AS - Planes-de-Contingencia\u001b[0m\n",
      "\u001b[94mDetectando conceptos en archivo: 4 - AS - Resumen Global Administración de Sistemas de Información\u001b[0m\n",
      "\u001b[94mDetectando conceptos en archivo: 4 - AS - SNIFFERS Y ESCANEO DE PUERTOS\u001b[0m\n",
      "\u001b[94mDetectando conceptos en archivo: 4 - AS - Sniffers_y_escaneo_de_puertos\u001b[0m\n",
      "\u001b[94mDetectando conceptos en archivo: 4 - AS - Teletrabajo-4k10\u001b[0m\n",
      "\u001b[94mDetectando conceptos en archivo: 4 - AS - Teletrabajo-4k9\u001b[0m\n",
      "\u001b[94mDetectando conceptos en archivo: 4 - AS - Trello-4°9°\u001b[0m\n",
      "\u001b[94mDetectando conceptos en archivo: 4 - AS - WLAN TT\u001b[0m\n",
      "\u001b[94mDetectando conceptos en archivo: 4 - AS - WLAN\u001b[0m\n",
      "\u001b[94mDetectando conceptos en archivo: 4 - ICS - 2.-principiosingenieriasoftware\u001b[0m\n",
      "\u001b[94mDetectando conceptos en archivo: 4 - ICS - 2020-Scrum-Guide-Spanish-Latin-South-American\u001b[0m\n",
      "\u001b[94mDetectando conceptos en archivo: 4 - ICS - Facu_MiniParcial 2_U 4 y 5.1.docx\u001b[0m\n",
      "\u001b[94mDetectando conceptos en archivo: 4 - ICS - Preguntas 1er Parcial Ingeniería y Calidad de Software\u001b[0m\n",
      "\u001b[94mDetectando conceptos en archivo: 4 - ICS - Preguntas Unidad 3 Ingeniería y Calidad de Software\u001b[0m\n",
      "\u001b[94mDetectando conceptos en archivo: 4 - ICS - SoftwareDesign_PrincipiosyPatrones-Autentia\u001b[0m\n",
      "\u001b[94mDetectando conceptos en archivo: 4 - IO - Breve Resumen ANALISIS SENSIBILIDAD\u001b[0m\n",
      "\u001b[94mDetectando conceptos en archivo: 4 - IO - U5 - ADMINISTRACION DE PROYECTOS\u001b[0m\n",
      "\u001b[94mDetectando conceptos en archivo: 4 - IO - U6_1-GESTION DE INVENTARIOS\u001b[0m\n",
      "\u001b[94mDetectando conceptos en archivo: 4 - IO - U6_2_1-INVENTARIO - Introduccion ANALISIS ABC\u001b[0m\n",
      "\u001b[94mDetectando conceptos en archivo: 4 - IO - U6_2_2-INVENTARIO - Articulo ANALISIS ABC\u001b[0m\n",
      "\u001b[94mDetectando conceptos en archivo: 4 - RD - Kurose-Ross\u001b[0m\n",
      "\u001b[94mDetectando conceptos en archivo: 4 - RD - Resumen Redes de Datos\u001b[0m\n",
      "\u001b[94mDetectando conceptos en archivo: 4 - RD - Tanenbaum\u001b[0m\n",
      "\u001b[94mDetectando conceptos en archivo: 4 - S - Resumen 2do Parcial\u001b[0m\n",
      "\u001b[94mDetectando conceptos en archivo: 4 - TA - Guía 1. Sistemas de control automático\u001b[0m\n",
      "\u001b[94mDetectando conceptos en archivo: 4 - UXUI - Diseño UX UNIDAD 1\u001b[0m\n",
      "\u001b[94mDetectando conceptos en archivo: 5 - GG - Resumen Cambio Organizacional\u001b[0m\n",
      "\u001b[94mDetectando conceptos en archivo: 5 - GG - Resumen Parcial 26-5\u001b[0m\n",
      "\u001b[94mDetectando conceptos en archivo: 5 - SSI - 2012_Magerit_v3_libro2_catalogo-de-elementos_es_NIPO_630-12-171-8\u001b[0m\n",
      "\u001b[94mDetectando conceptos en archivo: 5 - SSI - Clase U2-3 Disposicion ONTI 2015\u001b[0m\n",
      "\u001b[94mDetectando conceptos en archivo: 5 - SSI - DE641-2021_Anexo\u001b[0m\n",
      "\u001b[94mDetectando conceptos en archivo: 5 - SSI - Disposicion 1-2015_PSI\u001b[0m\n",
      "\u001b[94mDetectando conceptos en archivo: 5 - SSI - Guia_apoyo_SGSI\u001b[0m\n",
      "\u001b[94mDetectando conceptos en archivo: 5 - SSI - guia_ciberseguridad_gestion_riesgos_metad\u001b[0m\n",
      "\u001b[94mDetectando conceptos en archivo: 5 - SSI - M5-Privacidad\u001b[0m\n",
      "\u001b[94mDetectando conceptos en archivo: 5 - SSI - Magerit_v3_libro1_metodo\u001b[0m\n",
      "\u001b[94mDetectando conceptos en archivo: 5 - SSI - Magerit_v3_libro2_catálogo de elementos\u001b[0m\n",
      "\u001b[94mDetectando conceptos en archivo: 5 - SSI - Magerit_v3_libro3_guía de técnicas\u001b[0m\n",
      "\u001b[94mDetectando conceptos en archivo: 5 - SSI - Metodologia GR compatible Disposición 1-2015 ONTI\u001b[0m\n",
      "\u001b[94mDetectando conceptos en archivo: 5 - SSI - Resolución Nº RESOL-2022-87-APN-SIGEN - Normas de Control Interno para Tecnología de la Información\u001b[0m\n",
      "\u001b[94mDetectando conceptos en archivo: 5 - SSI - Resumen U2 - Disposición ONTI 1 2015\u001b[0m\n",
      "\u001b[92mCantidad de conceptos candidatos:7516024\u001b[0m\n"
     ]
    }
   ],
   "source": [
    "related_table = {}\n",
    "\n",
    "banned = [\"capítulo\", \"página\", \"figura\", \"cap\", \"ejemplo\", \"catedra\", \"mendoza\", \"argentina\", \"muñoz\", \"facchini\", \"cesari\", \"xsd\", \"infoleg\"]\n",
    "\n",
    "for f in raw_files:\n",
    "    print(\"\\033[94mDetectando conceptos en archivo: \" + f + \"\\033[0m\")\n",
    "\n",
    "    tokens = []\n",
    "\n",
    "    with open(tokens_path + \"/\" + f + \".txt\", \"rb\") as tf:\n",
    "        tokens = tf.read().decode(\"utf-8\").split(\"\\n\")\n",
    "\n",
    "    for i in range(len(tokens) - window_size):\n",
    "        window = tokens[i:i+window_size]\n",
    "\n",
    "        def get_subarrays(arr):\n",
    "            result = []\n",
    "            n = len(arr)\n",
    "            for r in range(1, n+1):  # sizes from 1 to n\n",
    "                for indices in combinations(range(n), r):\n",
    "                    subarray = [arr[i] for i in indices]\n",
    "                    result.append(subarray)\n",
    "            return result\n",
    "        \n",
    "        arrays = get_subarrays(window[1:])\n",
    "\n",
    "        # arrays.insert(0, []) # Permite formar conceptos de una sola palabra\n",
    "\n",
    "        for arr in arrays:\n",
    "            arr.insert(0, window[0])\n",
    "            arr = [s.lower() for s in arr]\n",
    "\n",
    "            if any(re.search(r'(^[0-9\\.\\,]+$)|(-$)|(^.\\.$)', s) for s in arr):\n",
    "                continue\n",
    "\n",
    "            if len(arr) != len(set(arr)):\n",
    "                continue\n",
    "\n",
    "            if any(ban in arr for ban in banned):\n",
    "                continue\n",
    "\n",
    "            arr.sort()\n",
    "            \n",
    "            t = tuple(arr)\n",
    "            if (not t in related_table):\n",
    "                related_table[t] = 0\n",
    "            related_table[t] += 1\n",
    "\n",
    "print(\"\\033[92mCantidad de conceptos candidatos:\" + str(len(related_table)) + \"\\033[0m\")"
   ]
  },
  {
   "cell_type": "markdown",
   "metadata": {
    "id": "qhn-HksfDhKN"
   },
   "source": [
    "En el diccionario related_table está contenido cuántas veces aparecieron ciertos tokens en la ventana.\n",
    "\n",
    "A continuación, en vocabulary, se almacenarán solo los que superen una frecuencia mínima y no otra máxima."
   ]
  },
  {
   "cell_type": "code",
   "execution_count": 60,
   "metadata": {
    "id": "X9Vv8DWrD8iv"
   },
   "outputs": [
    {
     "name": "stdout",
     "output_type": "stream",
     "text": [
      "\u001b[92mTamaño del vocabulario:2726\u001b[0m\n"
     ]
    }
   ],
   "source": [
    "min_freq = 50\n",
    "max_freq = 100\n",
    "\n",
    "vocabulary = []\n",
    "\n",
    "for tokens, freq in related_table.items():\n",
    "    if (freq >= min_freq and freq <= max_freq):\n",
    "        vocabulary.append(tokens)\n",
    "\n",
    "concepts_file = \"./data/vocabulary.txt\"\n",
    "\n",
    "with open(concepts_file, \"wb\") as cf:\n",
    "    for concept in vocabulary:\n",
    "        cf.write((str(concept) + \"\\n\").encode(\"utf-8\"))\n",
    "\n",
    "print(\"\\033[92mTamaño del vocabulario:\" + str(len(vocabulary)) + \"\\033[0m\")"
   ]
  },
  {
   "cell_type": "markdown",
   "metadata": {
    "id": "waCeLFNPFJbO"
   },
   "source": [
    "En este punto, ya hemos seleccionado conjuntos de tokens que suelen aparecer cerca.\n",
    "\n",
    "Estos conjuntos serán los conceptos, y pasarán a formar nuestro vocabulario.\n",
    "\n",
    "Ahora, se debe tokenizar nuevamente los textos planos, utilizando los conceptos.\n",
    "\n",
    "Para esto, se recorrerá cada archivo de /data/plain mediante una ventana deslizante del mismo tamaño utilizado para detectar conceptos, separando en palabras siempre y cuando no se encuentre dentro de la ventana las palabras de un concepto.\n",
    "\n",
    "Se generarán nuevos tokens, siendo estos numéricos (/data/tokens_num). Los -1 implican que no se detectó un concepto, mientras que los positivos (o 0) corresponden al índice de un concepto en el vocabulario.\n",
    "\n",
    "Si en una ventana se detectara más de un concepto, se agregarán todos los que se encuentre. Debido al procesamiento que se realizará más adelante, no debería importar el orden."
   ]
  },
  {
   "cell_type": "code",
   "execution_count": 3,
   "metadata": {},
   "outputs": [
    {
     "name": "stdout",
     "output_type": "stream",
     "text": [
      "\u001b[92mTamaño del vocabulario:2726\u001b[0m\n"
     ]
    }
   ],
   "source": [
    "import ast\n",
    "\n",
    "concepts_file = \"./data/vocabulary.txt\"\n",
    "vocabulary = []\n",
    "\n",
    "with open(concepts_file, \"rb\") as cf:\n",
    "    lines = cf.read().decode(\"utf-8\").split(\"\\n\")[:-1]\n",
    "    vocabulary = [ast.literal_eval(l) for l in lines]\n",
    "\n",
    "print(\"\\033[92mTamaño del vocabulario:\" + str(len(vocabulary)) + \"\\033[0m\")"
   ]
  },
  {
   "cell_type": "code",
   "execution_count": null,
   "metadata": {
    "id": "RQzvFvNPHcfL"
   },
   "outputs": [
    {
     "name": "stdout",
     "output_type": "stream",
     "text": [
      "\u001b[Tokenizando archivo por conceptos: 1 - AC - LibroArquitecturadeComputadorasSantiagoPerez090321\u001b[0m\n",
      "\u001b[Tokenizando archivo por conceptos: 1 - AyED - cpp según yo pero en pedo\u001b[0m\n",
      "\u001b[Tokenizando archivo por conceptos: 1 - AyED - cpp según yo\u001b[0m\n",
      "\u001b[Tokenizando archivo por conceptos: 1 - AyED - Unidad3 (7929)\u001b[0m\n",
      "\u001b[Tokenizando archivo por conceptos: 1 - AyED - Unidad4 (7930)\u001b[0m\n",
      "\u001b[Tokenizando archivo por conceptos: 1 - AyED - Unidades 1 y 2 (cód. fotoc. 7928)\u001b[0m\n"
     ]
    },
    {
     "ename": "KeyboardInterrupt",
     "evalue": "",
     "output_type": "error",
     "traceback": [
      "\u001b[31m---------------------------------------------------------------------------\u001b[39m",
      "\u001b[31mKeyboardInterrupt\u001b[39m                         Traceback (most recent call last)",
      "\u001b[36mCell\u001b[39m\u001b[36m \u001b[39m\u001b[32mIn[20]\u001b[39m\u001b[32m, line 35\u001b[39m\n\u001b[32m     32\u001b[39m unks += \u001b[32m1\u001b[39m\n\u001b[32m     34\u001b[39m \u001b[38;5;28;01mfor\u001b[39;00m ix, concept \u001b[38;5;129;01min\u001b[39;00m \u001b[38;5;28menumerate\u001b[39m(vocabulary):\n\u001b[32m---> \u001b[39m\u001b[32m35\u001b[39m     \u001b[38;5;28;01mif\u001b[39;00m \u001b[38;5;28mall\u001b[39m(word \u001b[38;5;129;01min\u001b[39;00m window \u001b[38;5;28;01mfor\u001b[39;00m word \u001b[38;5;129;01min\u001b[39;00m concept) \u001b[38;5;129;01mand\u001b[39;00m (\u001b[38;5;129;01mnot\u001b[39;00m ix \u001b[38;5;129;01min\u001b[39;00m recent_concepts \u001b[38;5;129;01mor\u001b[39;00m recent_concepts[ix] == \u001b[32m0\u001b[39m):\n\u001b[32m     36\u001b[39m         tnf.write((\u001b[33m\"\u001b[39m\u001b[33m-\u001b[39m\u001b[33m\"\u001b[39m + \u001b[38;5;28mstr\u001b[39m((unks-\u001b[32m1\u001b[39m)) + \u001b[33m\"\u001b[39m\u001b[33m \u001b[39m\u001b[33m\"\u001b[39m + \u001b[38;5;28mstr\u001b[39m(ix)).encode(\u001b[33m\"\u001b[39m\u001b[33mutf-8\u001b[39m\u001b[33m\"\u001b[39m))\n\u001b[32m     37\u001b[39m         unks = \u001b[32m0\u001b[39m\n",
      "\u001b[31mKeyboardInterrupt\u001b[39m: "
     ]
    }
   ],
   "source": [
    "import math\n",
    "\n",
    "tokens_conceptos_path = \"./data/tokens_conceptos\"\n",
    "\n",
    "metrics_2 = {}\n",
    "\n",
    "window_size_concept_tokenization = window_size * 3\n",
    "\n",
    "for f in raw_files:\n",
    "    print(\"\\033[Tokenizando archivo por conceptos: \" + f + \"\\033[0m\")\n",
    "    metrics_2[f] = {}\n",
    "    found_concepts = 0\n",
    "\n",
    "    recent_concepts = {}\n",
    "\n",
    "    with open(plain_path + \"/\" + f + \".txt\", \"rb\") as pf:\n",
    "        txt = pf.read().decode(\"utf-8\")\n",
    "        tokens = [t.text for t in esp.tokenizer(txt)]\n",
    "\n",
    "        metrics_2[f][\"tokens\"] = len(tokens)\n",
    "\n",
    "        with open(tokens_conceptos_path + \"/\" + f + \".txt\", \"wb\") as tnf:\n",
    "\n",
    "            unks = 0\n",
    "\n",
    "            for i in range(len(tokens) - window_size_concept_tokenization):\n",
    "                window = tokens[i:i+window_size_concept_tokenization]\n",
    "                for k, v in recent_concepts.items():\n",
    "                    if v > 0:\n",
    "                        recent_concepts[k] -= 1\n",
    "\n",
    "                unks += 1\n",
    "            \n",
    "                for ix, concept in enumerate(vocabulary):\n",
    "                    if all(word in window for word in concept) and (not ix in recent_concepts or recent_concepts[ix] == 0):\n",
    "                        tnf.write((\"-\" + str((unks-1)) + \" \" + str(ix) + \" \").encode(\"utf-8\"))\n",
    "                        unks = 0\n",
    "                        recent_concepts[ix] = window_size_concept_tokenization\n",
    "                        found_concepts += 1\n",
    "\n",
    "                    \n",
    "    metrics_2[f][\"concepts\"] = found_concepts"
   ]
  },
  {
   "cell_type": "code",
   "execution_count": null,
   "metadata": {},
   "outputs": [
    {
     "name": "stdout",
     "output_type": "stream",
     "text": [
      "\u001b[92m\n",
      "Archivo 1 - AC - LibroArquitecturadeComputadorasSantiagoPerez090321:\n",
      "\ttokens: 83155\n",
      "\u001b[0m\n"
     ]
    }
   ],
   "source": [
    "print(\"\\033[92m\")\n",
    "for archivo, item in metrics_2.items():\n",
    "    print(\"Archivo \" + archivo + \":\")\n",
    "    for nombre, valor in item.items():\n",
    "        print(\"\\t\" + nombre + \": \" + str(valor))\n",
    "print(\"\\033[0m\")"
   ]
  },
  {
   "cell_type": "markdown",
   "metadata": {
    "id": "GyqXH3y2IKST"
   },
   "source": [
    "A partir de los tokens numéricos, se iterará por cada secuencia de token con un nuevo tamaño de ventana, mayor, tratando de distinguir conceptos relacionados.\n",
    "\n",
    "Esta ventana se centrará en cada token (no -1), almacenando en un diccionario el token central, los tokens en el contexto y ejemplos negativos (para evitar que la red neuronal, al entrenar, aprenda que todos los tokens siempre están relacionados)."
   ]
  },
  {
   "cell_type": "code",
   "execution_count": null,
   "metadata": {
    "id": "1JampbY-K6fZ"
   },
   "outputs": [],
   "source": []
  },
  {
   "cell_type": "markdown",
   "metadata": {
    "id": "n-QSj_DQK63i"
   },
   "source": [
    "Hecho esto, podemos finalmente armar nuestro dataset. El mismo retornará (mediante get_item()) un centro, su contexto y sus ejemplos negativos.\n",
    "\n",
    "A partir de este Dataset, a su vez, se generará un DataLoader."
   ]
  },
  {
   "cell_type": "code",
   "execution_count": null,
   "metadata": {
    "id": "nBaNJdUJNp_7"
   },
   "outputs": [],
   "source": [
    "import torch"
   ]
  },
  {
   "cell_type": "code",
   "execution_count": null,
   "metadata": {
    "id": "ec-elIZ3LhXY"
   },
   "outputs": [],
   "source": []
  },
  {
   "cell_type": "markdown",
   "metadata": {
    "id": "-u6Gf_hIMYnm"
   },
   "source": [
    "A continuación, se armará la estructura de la red neuronal mediante skipgram, utilizando capas Embedding de pytorch."
   ]
  },
  {
   "cell_type": "code",
   "execution_count": null,
   "metadata": {
    "id": "VjNlBeIxM1my"
   },
   "outputs": [],
   "source": []
  },
  {
   "cell_type": "markdown",
   "metadata": {
    "id": "NOVN22WTM1-j"
   },
   "source": [
    "Como función de pérdida, se utilizará entropía cruzada binaria (Sigmoidea). Esto es así pues requerimos clasificar dos conceptos según si están o no relacionado."
   ]
  },
  {
   "cell_type": "code",
   "execution_count": null,
   "metadata": {
    "id": "Dcyjlt4YND8Q"
   },
   "outputs": [],
   "source": []
  },
  {
   "cell_type": "markdown",
   "metadata": {
    "id": "B0f_w07NNEZ9"
   },
   "source": [
    "Se optó por abarcar todo el entrenamiento en una misma función. La misma incluye la inicialización de variables y el ciclo de entrenamiento en sí."
   ]
  },
  {
   "cell_type": "code",
   "execution_count": null,
   "metadata": {
    "id": "E3vBgobNNbKZ"
   },
   "outputs": [],
   "source": []
  },
  {
   "cell_type": "markdown",
   "metadata": {
    "id": "hLUJawwxNbkC"
   },
   "source": [
    "Se generó una función auxiliar para el entrenamiento por medio de GPU, en caso de estar disponible."
   ]
  },
  {
   "cell_type": "code",
   "execution_count": null,
   "metadata": {
    "id": "S_yUK2giNmTR"
   },
   "outputs": [],
   "source": [
    "def try_gpu(i=0):\n",
    "    if torch.cuda.device_count() >= i + 1:\n",
    "        return torch.device(f'cuda:{i}')\n",
    "    return torch.device('cpu')"
   ]
  },
  {
   "cell_type": "markdown",
   "metadata": {
    "id": "o86EEabpNsqR"
   },
   "source": [
    "Finalmente, se realizó el entrenamiento:"
   ]
  },
  {
   "cell_type": "code",
   "execution_count": null,
   "metadata": {
    "id": "1QimpOHcN2XJ"
   },
   "outputs": [],
   "source": []
  },
  {
   "cell_type": "markdown",
   "metadata": {
    "id": "FATzuHy4N5Bo"
   },
   "source": [
    "Para verificar la funcionalidad final que buscamos en el proyecto, se planteó la siguiente función:"
   ]
  },
  {
   "cell_type": "code",
   "execution_count": null,
   "metadata": {
    "id": "mUEb4ATSOFNs"
   },
   "outputs": [],
   "source": []
  },
  {
   "cell_type": "markdown",
   "metadata": {
    "id": "3U7YBaVVOGVX"
   },
   "source": [
    "Algunos ejemplos de la misma serían:"
   ]
  },
  {
   "cell_type": "code",
   "execution_count": null,
   "metadata": {
    "id": "adehXDcCOF_D"
   },
   "outputs": [],
   "source": []
  }
 ],
 "metadata": {
  "colab": {
   "authorship_tag": "ABX9TyPkOFf8bDH8q9ApCjhlpGB6",
   "provenance": []
  },
  "kernelspec": {
   "display_name": "Python 3",
   "name": "python3"
  },
  "language_info": {
   "codemirror_mode": {
    "name": "ipython",
    "version": 3
   },
   "file_extension": ".py",
   "mimetype": "text/x-python",
   "name": "python",
   "nbconvert_exporter": "python",
   "pygments_lexer": "ipython3",
   "version": "3.12.5"
  }
 },
 "nbformat": 4,
 "nbformat_minor": 0
}
