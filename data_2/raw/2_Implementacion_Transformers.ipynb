{
  "cells": [
    {
      "cell_type": "markdown",
      "metadata": {
        "id": "MItjkSSJHWxN"
      },
      "source": [
        "<a href=\"https://colab.research.google.com/github/institutohumai/cursos-python/blob/master/NLP/6_Transformers/2_Implementacion.ipynb\"> <img src='https://colab.research.google.com/assets/colab-badge.svg' /> </a>"
      ]
    },
    {
      "cell_type": "markdown",
      "metadata": {
        "id": "FuvXtxt8R_g1"
      },
      "source": [
        "# Implementación de un Transformer con PyTorch\n"
      ]
    },
    {
      "cell_type": "markdown",
      "metadata": {
        "id": "COKr3uj3A6F8"
      },
      "source": [
        "\n",
        "En esta clase implementaremos una versión (ligeramente modificada) del modelo Transformer del paper [Attention is All You Need](https://arxiv.org/abs/1706.03762). Todas las imágenes de este notebook se tomaron del paper de Transformer. Para obtener más información sobre el Transformer, [mirá](https://www.mihaileric.com/posts/transformers-attention-in-disguise/) [estos](https://jalammar.github.io/illustrated-transformer/) [tres](http://nlp.seas.harvard.edu/2018/04/03/attention.html) artículos.\n",
        "\n",
        "![](https://i.imgur.com/umPkXYX.png)\n",
        "\n"
      ]
    },
    {
      "cell_type": "markdown",
      "metadata": {
        "id": "IIV0-2mASIJZ"
      },
      "source": [
        "## Introducción\n"
      ]
    },
    {
      "cell_type": "markdown",
      "metadata": {
        "id": "DuSlLzQISFwq"
      },
      "source": [
        "\n",
        "Los Transformers no utilizan ningún tipo de recurrencia. En cambio, el modelo está compuesto por capas lineales, mecanismos de atención y normalización.\n",
        "\n",
        "Al momento de creación de este práctico (Septiembre del 2022), los Transformers son la arquitectura dominante en NLP, se utilizan para lograr resultados del estado del arte en muchas tareas y parece que se seguirán utilizando en un futuro próximo.\n",
        "\n",
        "La variante de Transformer más popular es [BERT](https://arxiv.org/abs/1810.04805) (**B**idirectional **E**ncoder **R**epresentations from **T**ransformers) y sus versiones pre-entrenadas se utilizan comúnmente para reemplazar las capas de embedding, si no más, en los modelos de NLP.\n",
        "\n",
        "Las diferencias entre la implementación en este notebook y el paper son:\n",
        "- utilizamos una codificación posicional aprendida en lugar de una estática\n",
        "- utilizamos el optimizador Adam estándar con una tasa de aprendizaje estático en lugar de uno con pasos de calentamiento y enfriamiento\n",
        "- no usamos suavizado de etiquetas.\n",
        "\n",
        "Realizamos todos estos cambios ya que siguen de cerca la configuración de BERT y la mayoría de las variantes de Transformer utilizan una configuración similar."
      ]
    },
    {
      "cell_type": "markdown",
      "metadata": {
        "id": "vAGmz5MuAvRA"
      },
      "source": [
        "## Cargando los Datos\n",
        "\n"
      ]
    },
    {
      "cell_type": "markdown",
      "metadata": {
        "id": "GpXu5ViyUQWt"
      },
      "source": [
        "Vamos a entrenar un modelo que traduzca al español frases escritas en inglés. Para eso necesitamos un dataset que tenga frases escritas en ambos idiomas para usar como datasets de origen y destino.\n",
        "\n",
        "Usaremos el dataset publicado por la organización [Tatoeba](https://tatoeba.org/es) que vamos a descargar en la siguiente celda."
      ]
    },
    {
      "cell_type": "code",
      "execution_count": null,
      "metadata": {
        "id": "2tsWtPITRx5e",
        "colab": {
          "base_uri": "https://localhost:8080/"
        },
        "outputId": "a93fa019-b5a7-4aa9-ad39-5525808cea68"
      },
      "outputs": [
        {
          "output_type": "stream",
          "name": "stdout",
          "text": [
            "Collecting en-core-web-sm==3.7.1\n",
            "  Downloading https://github.com/explosion/spacy-models/releases/download/en_core_web_sm-3.7.1/en_core_web_sm-3.7.1-py3-none-any.whl (12.8 MB)\n",
            "\u001b[2K     \u001b[90m━━━━━━━━━━━━━━━━━━━━━━━━━━━━━━━━━━━━━━━━\u001b[0m \u001b[32m12.8/12.8 MB\u001b[0m \u001b[31m75.0 MB/s\u001b[0m eta \u001b[36m0:00:00\u001b[0m\n",
            "\u001b[?25hRequirement already satisfied: spacy<3.8.0,>=3.7.2 in /usr/local/lib/python3.10/dist-packages (from en-core-web-sm==3.7.1) (3.7.5)\n",
            "Requirement already satisfied: spacy-legacy<3.1.0,>=3.0.11 in /usr/local/lib/python3.10/dist-packages (from spacy<3.8.0,>=3.7.2->en-core-web-sm==3.7.1) (3.0.12)\n",
            "Requirement already satisfied: spacy-loggers<2.0.0,>=1.0.0 in /usr/local/lib/python3.10/dist-packages (from spacy<3.8.0,>=3.7.2->en-core-web-sm==3.7.1) (1.0.5)\n",
            "Requirement already satisfied: murmurhash<1.1.0,>=0.28.0 in /usr/local/lib/python3.10/dist-packages (from spacy<3.8.0,>=3.7.2->en-core-web-sm==3.7.1) (1.0.10)\n",
            "Requirement already satisfied: cymem<2.1.0,>=2.0.2 in /usr/local/lib/python3.10/dist-packages (from spacy<3.8.0,>=3.7.2->en-core-web-sm==3.7.1) (2.0.8)\n",
            "Requirement already satisfied: preshed<3.1.0,>=3.0.2 in /usr/local/lib/python3.10/dist-packages (from spacy<3.8.0,>=3.7.2->en-core-web-sm==3.7.1) (3.0.9)\n",
            "Requirement already satisfied: thinc<8.3.0,>=8.2.2 in /usr/local/lib/python3.10/dist-packages (from spacy<3.8.0,>=3.7.2->en-core-web-sm==3.7.1) (8.2.5)\n",
            "Requirement already satisfied: wasabi<1.2.0,>=0.9.1 in /usr/local/lib/python3.10/dist-packages (from spacy<3.8.0,>=3.7.2->en-core-web-sm==3.7.1) (1.1.3)\n",
            "Requirement already satisfied: srsly<3.0.0,>=2.4.3 in /usr/local/lib/python3.10/dist-packages (from spacy<3.8.0,>=3.7.2->en-core-web-sm==3.7.1) (2.4.8)\n",
            "Requirement already satisfied: catalogue<2.1.0,>=2.0.6 in /usr/local/lib/python3.10/dist-packages (from spacy<3.8.0,>=3.7.2->en-core-web-sm==3.7.1) (2.0.10)\n",
            "Requirement already satisfied: weasel<0.5.0,>=0.1.0 in /usr/local/lib/python3.10/dist-packages (from spacy<3.8.0,>=3.7.2->en-core-web-sm==3.7.1) (0.4.1)\n",
            "Requirement already satisfied: typer<1.0.0,>=0.3.0 in /usr/local/lib/python3.10/dist-packages (from spacy<3.8.0,>=3.7.2->en-core-web-sm==3.7.1) (0.12.5)\n",
            "Requirement already satisfied: tqdm<5.0.0,>=4.38.0 in /usr/local/lib/python3.10/dist-packages (from spacy<3.8.0,>=3.7.2->en-core-web-sm==3.7.1) (4.66.5)\n",
            "Requirement already satisfied: requests<3.0.0,>=2.13.0 in /usr/local/lib/python3.10/dist-packages (from spacy<3.8.0,>=3.7.2->en-core-web-sm==3.7.1) (2.32.3)\n",
            "Requirement already satisfied: pydantic!=1.8,!=1.8.1,<3.0.0,>=1.7.4 in /usr/local/lib/python3.10/dist-packages (from spacy<3.8.0,>=3.7.2->en-core-web-sm==3.7.1) (2.9.2)\n",
            "Requirement already satisfied: jinja2 in /usr/local/lib/python3.10/dist-packages (from spacy<3.8.0,>=3.7.2->en-core-web-sm==3.7.1) (3.1.4)\n",
            "Requirement already satisfied: setuptools in /usr/local/lib/python3.10/dist-packages (from spacy<3.8.0,>=3.7.2->en-core-web-sm==3.7.1) (71.0.4)\n",
            "Requirement already satisfied: packaging>=20.0 in /usr/local/lib/python3.10/dist-packages (from spacy<3.8.0,>=3.7.2->en-core-web-sm==3.7.1) (24.1)\n",
            "Requirement already satisfied: langcodes<4.0.0,>=3.2.0 in /usr/local/lib/python3.10/dist-packages (from spacy<3.8.0,>=3.7.2->en-core-web-sm==3.7.1) (3.4.1)\n",
            "Requirement already satisfied: numpy>=1.19.0 in /usr/local/lib/python3.10/dist-packages (from spacy<3.8.0,>=3.7.2->en-core-web-sm==3.7.1) (1.26.4)\n",
            "Requirement already satisfied: language-data>=1.2 in /usr/local/lib/python3.10/dist-packages (from langcodes<4.0.0,>=3.2.0->spacy<3.8.0,>=3.7.2->en-core-web-sm==3.7.1) (1.2.0)\n",
            "Requirement already satisfied: annotated-types>=0.6.0 in /usr/local/lib/python3.10/dist-packages (from pydantic!=1.8,!=1.8.1,<3.0.0,>=1.7.4->spacy<3.8.0,>=3.7.2->en-core-web-sm==3.7.1) (0.7.0)\n",
            "Requirement already satisfied: pydantic-core==2.23.4 in /usr/local/lib/python3.10/dist-packages (from pydantic!=1.8,!=1.8.1,<3.0.0,>=1.7.4->spacy<3.8.0,>=3.7.2->en-core-web-sm==3.7.1) (2.23.4)\n",
            "Requirement already satisfied: typing-extensions>=4.6.1 in /usr/local/lib/python3.10/dist-packages (from pydantic!=1.8,!=1.8.1,<3.0.0,>=1.7.4->spacy<3.8.0,>=3.7.2->en-core-web-sm==3.7.1) (4.12.2)\n",
            "Requirement already satisfied: charset-normalizer<4,>=2 in /usr/local/lib/python3.10/dist-packages (from requests<3.0.0,>=2.13.0->spacy<3.8.0,>=3.7.2->en-core-web-sm==3.7.1) (3.4.0)\n",
            "Requirement already satisfied: idna<4,>=2.5 in /usr/local/lib/python3.10/dist-packages (from requests<3.0.0,>=2.13.0->spacy<3.8.0,>=3.7.2->en-core-web-sm==3.7.1) (3.10)\n",
            "Requirement already satisfied: urllib3<3,>=1.21.1 in /usr/local/lib/python3.10/dist-packages (from requests<3.0.0,>=2.13.0->spacy<3.8.0,>=3.7.2->en-core-web-sm==3.7.1) (2.2.3)\n",
            "Requirement already satisfied: certifi>=2017.4.17 in /usr/local/lib/python3.10/dist-packages (from requests<3.0.0,>=2.13.0->spacy<3.8.0,>=3.7.2->en-core-web-sm==3.7.1) (2024.8.30)\n",
            "Requirement already satisfied: blis<0.8.0,>=0.7.8 in /usr/local/lib/python3.10/dist-packages (from thinc<8.3.0,>=8.2.2->spacy<3.8.0,>=3.7.2->en-core-web-sm==3.7.1) (0.7.11)\n",
            "Requirement already satisfied: confection<1.0.0,>=0.0.1 in /usr/local/lib/python3.10/dist-packages (from thinc<8.3.0,>=8.2.2->spacy<3.8.0,>=3.7.2->en-core-web-sm==3.7.1) (0.1.5)\n",
            "Requirement already satisfied: click>=8.0.0 in /usr/local/lib/python3.10/dist-packages (from typer<1.0.0,>=0.3.0->spacy<3.8.0,>=3.7.2->en-core-web-sm==3.7.1) (8.1.7)\n",
            "Requirement already satisfied: shellingham>=1.3.0 in /usr/local/lib/python3.10/dist-packages (from typer<1.0.0,>=0.3.0->spacy<3.8.0,>=3.7.2->en-core-web-sm==3.7.1) (1.5.4)\n",
            "Requirement already satisfied: rich>=10.11.0 in /usr/local/lib/python3.10/dist-packages (from typer<1.0.0,>=0.3.0->spacy<3.8.0,>=3.7.2->en-core-web-sm==3.7.1) (13.9.2)\n",
            "Requirement already satisfied: cloudpathlib<1.0.0,>=0.7.0 in /usr/local/lib/python3.10/dist-packages (from weasel<0.5.0,>=0.1.0->spacy<3.8.0,>=3.7.2->en-core-web-sm==3.7.1) (0.19.0)\n",
            "Requirement already satisfied: smart-open<8.0.0,>=5.2.1 in /usr/local/lib/python3.10/dist-packages (from weasel<0.5.0,>=0.1.0->spacy<3.8.0,>=3.7.2->en-core-web-sm==3.7.1) (7.0.5)\n",
            "Requirement already satisfied: MarkupSafe>=2.0 in /usr/local/lib/python3.10/dist-packages (from jinja2->spacy<3.8.0,>=3.7.2->en-core-web-sm==3.7.1) (3.0.1)\n",
            "Requirement already satisfied: marisa-trie>=0.7.7 in /usr/local/lib/python3.10/dist-packages (from language-data>=1.2->langcodes<4.0.0,>=3.2.0->spacy<3.8.0,>=3.7.2->en-core-web-sm==3.7.1) (1.2.0)\n",
            "Requirement already satisfied: markdown-it-py>=2.2.0 in /usr/local/lib/python3.10/dist-packages (from rich>=10.11.0->typer<1.0.0,>=0.3.0->spacy<3.8.0,>=3.7.2->en-core-web-sm==3.7.1) (3.0.0)\n",
            "Requirement already satisfied: pygments<3.0.0,>=2.13.0 in /usr/local/lib/python3.10/dist-packages (from rich>=10.11.0->typer<1.0.0,>=0.3.0->spacy<3.8.0,>=3.7.2->en-core-web-sm==3.7.1) (2.18.0)\n",
            "Requirement already satisfied: wrapt in /usr/local/lib/python3.10/dist-packages (from smart-open<8.0.0,>=5.2.1->weasel<0.5.0,>=0.1.0->spacy<3.8.0,>=3.7.2->en-core-web-sm==3.7.1) (1.16.0)\n",
            "Requirement already satisfied: mdurl~=0.1 in /usr/local/lib/python3.10/dist-packages (from markdown-it-py>=2.2.0->rich>=10.11.0->typer<1.0.0,>=0.3.0->spacy<3.8.0,>=3.7.2->en-core-web-sm==3.7.1) (0.1.2)\n",
            "\u001b[38;5;2m✔ Download and installation successful\u001b[0m\n",
            "You can now load the package via spacy.load('en_core_web_sm')\n",
            "\u001b[38;5;3m⚠ Restart to reload dependencies\u001b[0m\n",
            "If you are in a Jupyter or Colab notebook, you may need to restart Python in\n",
            "order to load all the package's dependencies. You can do this by selecting the\n",
            "'Restart kernel' or 'Restart runtime' option.\n",
            "Collecting es-core-news-sm==3.7.0\n",
            "  Downloading https://github.com/explosion/spacy-models/releases/download/es_core_news_sm-3.7.0/es_core_news_sm-3.7.0-py3-none-any.whl (12.9 MB)\n",
            "\u001b[2K     \u001b[90m━━━━━━━━━━━━━━━━━━━━━━━━━━━━━━━━━━━━━━━━\u001b[0m \u001b[32m12.9/12.9 MB\u001b[0m \u001b[31m34.0 MB/s\u001b[0m eta \u001b[36m0:00:00\u001b[0m\n",
            "\u001b[?25hRequirement already satisfied: spacy<3.8.0,>=3.7.0 in /usr/local/lib/python3.10/dist-packages (from es-core-news-sm==3.7.0) (3.7.5)\n",
            "Requirement already satisfied: spacy-legacy<3.1.0,>=3.0.11 in /usr/local/lib/python3.10/dist-packages (from spacy<3.8.0,>=3.7.0->es-core-news-sm==3.7.0) (3.0.12)\n",
            "Requirement already satisfied: spacy-loggers<2.0.0,>=1.0.0 in /usr/local/lib/python3.10/dist-packages (from spacy<3.8.0,>=3.7.0->es-core-news-sm==3.7.0) (1.0.5)\n",
            "Requirement already satisfied: murmurhash<1.1.0,>=0.28.0 in /usr/local/lib/python3.10/dist-packages (from spacy<3.8.0,>=3.7.0->es-core-news-sm==3.7.0) (1.0.10)\n",
            "Requirement already satisfied: cymem<2.1.0,>=2.0.2 in /usr/local/lib/python3.10/dist-packages (from spacy<3.8.0,>=3.7.0->es-core-news-sm==3.7.0) (2.0.8)\n",
            "Requirement already satisfied: preshed<3.1.0,>=3.0.2 in /usr/local/lib/python3.10/dist-packages (from spacy<3.8.0,>=3.7.0->es-core-news-sm==3.7.0) (3.0.9)\n",
            "Requirement already satisfied: thinc<8.3.0,>=8.2.2 in /usr/local/lib/python3.10/dist-packages (from spacy<3.8.0,>=3.7.0->es-core-news-sm==3.7.0) (8.2.5)\n",
            "Requirement already satisfied: wasabi<1.2.0,>=0.9.1 in /usr/local/lib/python3.10/dist-packages (from spacy<3.8.0,>=3.7.0->es-core-news-sm==3.7.0) (1.1.3)\n",
            "Requirement already satisfied: srsly<3.0.0,>=2.4.3 in /usr/local/lib/python3.10/dist-packages (from spacy<3.8.0,>=3.7.0->es-core-news-sm==3.7.0) (2.4.8)\n",
            "Requirement already satisfied: catalogue<2.1.0,>=2.0.6 in /usr/local/lib/python3.10/dist-packages (from spacy<3.8.0,>=3.7.0->es-core-news-sm==3.7.0) (2.0.10)\n",
            "Requirement already satisfied: weasel<0.5.0,>=0.1.0 in /usr/local/lib/python3.10/dist-packages (from spacy<3.8.0,>=3.7.0->es-core-news-sm==3.7.0) (0.4.1)\n",
            "Requirement already satisfied: typer<1.0.0,>=0.3.0 in /usr/local/lib/python3.10/dist-packages (from spacy<3.8.0,>=3.7.0->es-core-news-sm==3.7.0) (0.12.5)\n",
            "Requirement already satisfied: tqdm<5.0.0,>=4.38.0 in /usr/local/lib/python3.10/dist-packages (from spacy<3.8.0,>=3.7.0->es-core-news-sm==3.7.0) (4.66.5)\n",
            "Requirement already satisfied: requests<3.0.0,>=2.13.0 in /usr/local/lib/python3.10/dist-packages (from spacy<3.8.0,>=3.7.0->es-core-news-sm==3.7.0) (2.32.3)\n",
            "Requirement already satisfied: pydantic!=1.8,!=1.8.1,<3.0.0,>=1.7.4 in /usr/local/lib/python3.10/dist-packages (from spacy<3.8.0,>=3.7.0->es-core-news-sm==3.7.0) (2.9.2)\n",
            "Requirement already satisfied: jinja2 in /usr/local/lib/python3.10/dist-packages (from spacy<3.8.0,>=3.7.0->es-core-news-sm==3.7.0) (3.1.4)\n",
            "Requirement already satisfied: setuptools in /usr/local/lib/python3.10/dist-packages (from spacy<3.8.0,>=3.7.0->es-core-news-sm==3.7.0) (71.0.4)\n",
            "Requirement already satisfied: packaging>=20.0 in /usr/local/lib/python3.10/dist-packages (from spacy<3.8.0,>=3.7.0->es-core-news-sm==3.7.0) (24.1)\n",
            "Requirement already satisfied: langcodes<4.0.0,>=3.2.0 in /usr/local/lib/python3.10/dist-packages (from spacy<3.8.0,>=3.7.0->es-core-news-sm==3.7.0) (3.4.1)\n",
            "Requirement already satisfied: numpy>=1.19.0 in /usr/local/lib/python3.10/dist-packages (from spacy<3.8.0,>=3.7.0->es-core-news-sm==3.7.0) (1.26.4)\n",
            "Requirement already satisfied: language-data>=1.2 in /usr/local/lib/python3.10/dist-packages (from langcodes<4.0.0,>=3.2.0->spacy<3.8.0,>=3.7.0->es-core-news-sm==3.7.0) (1.2.0)\n",
            "Requirement already satisfied: annotated-types>=0.6.0 in /usr/local/lib/python3.10/dist-packages (from pydantic!=1.8,!=1.8.1,<3.0.0,>=1.7.4->spacy<3.8.0,>=3.7.0->es-core-news-sm==3.7.0) (0.7.0)\n",
            "Requirement already satisfied: pydantic-core==2.23.4 in /usr/local/lib/python3.10/dist-packages (from pydantic!=1.8,!=1.8.1,<3.0.0,>=1.7.4->spacy<3.8.0,>=3.7.0->es-core-news-sm==3.7.0) (2.23.4)\n",
            "Requirement already satisfied: typing-extensions>=4.6.1 in /usr/local/lib/python3.10/dist-packages (from pydantic!=1.8,!=1.8.1,<3.0.0,>=1.7.4->spacy<3.8.0,>=3.7.0->es-core-news-sm==3.7.0) (4.12.2)\n",
            "Requirement already satisfied: charset-normalizer<4,>=2 in /usr/local/lib/python3.10/dist-packages (from requests<3.0.0,>=2.13.0->spacy<3.8.0,>=3.7.0->es-core-news-sm==3.7.0) (3.4.0)\n",
            "Requirement already satisfied: idna<4,>=2.5 in /usr/local/lib/python3.10/dist-packages (from requests<3.0.0,>=2.13.0->spacy<3.8.0,>=3.7.0->es-core-news-sm==3.7.0) (3.10)\n",
            "Requirement already satisfied: urllib3<3,>=1.21.1 in /usr/local/lib/python3.10/dist-packages (from requests<3.0.0,>=2.13.0->spacy<3.8.0,>=3.7.0->es-core-news-sm==3.7.0) (2.2.3)\n",
            "Requirement already satisfied: certifi>=2017.4.17 in /usr/local/lib/python3.10/dist-packages (from requests<3.0.0,>=2.13.0->spacy<3.8.0,>=3.7.0->es-core-news-sm==3.7.0) (2024.8.30)\n",
            "Requirement already satisfied: blis<0.8.0,>=0.7.8 in /usr/local/lib/python3.10/dist-packages (from thinc<8.3.0,>=8.2.2->spacy<3.8.0,>=3.7.0->es-core-news-sm==3.7.0) (0.7.11)\n",
            "Requirement already satisfied: confection<1.0.0,>=0.0.1 in /usr/local/lib/python3.10/dist-packages (from thinc<8.3.0,>=8.2.2->spacy<3.8.0,>=3.7.0->es-core-news-sm==3.7.0) (0.1.5)\n",
            "Requirement already satisfied: click>=8.0.0 in /usr/local/lib/python3.10/dist-packages (from typer<1.0.0,>=0.3.0->spacy<3.8.0,>=3.7.0->es-core-news-sm==3.7.0) (8.1.7)\n",
            "Requirement already satisfied: shellingham>=1.3.0 in /usr/local/lib/python3.10/dist-packages (from typer<1.0.0,>=0.3.0->spacy<3.8.0,>=3.7.0->es-core-news-sm==3.7.0) (1.5.4)\n",
            "Requirement already satisfied: rich>=10.11.0 in /usr/local/lib/python3.10/dist-packages (from typer<1.0.0,>=0.3.0->spacy<3.8.0,>=3.7.0->es-core-news-sm==3.7.0) (13.9.2)\n",
            "Requirement already satisfied: cloudpathlib<1.0.0,>=0.7.0 in /usr/local/lib/python3.10/dist-packages (from weasel<0.5.0,>=0.1.0->spacy<3.8.0,>=3.7.0->es-core-news-sm==3.7.0) (0.19.0)\n",
            "Requirement already satisfied: smart-open<8.0.0,>=5.2.1 in /usr/local/lib/python3.10/dist-packages (from weasel<0.5.0,>=0.1.0->spacy<3.8.0,>=3.7.0->es-core-news-sm==3.7.0) (7.0.5)\n",
            "Requirement already satisfied: MarkupSafe>=2.0 in /usr/local/lib/python3.10/dist-packages (from jinja2->spacy<3.8.0,>=3.7.0->es-core-news-sm==3.7.0) (3.0.1)\n",
            "Requirement already satisfied: marisa-trie>=0.7.7 in /usr/local/lib/python3.10/dist-packages (from language-data>=1.2->langcodes<4.0.0,>=3.2.0->spacy<3.8.0,>=3.7.0->es-core-news-sm==3.7.0) (1.2.0)\n",
            "Requirement already satisfied: markdown-it-py>=2.2.0 in /usr/local/lib/python3.10/dist-packages (from rich>=10.11.0->typer<1.0.0,>=0.3.0->spacy<3.8.0,>=3.7.0->es-core-news-sm==3.7.0) (3.0.0)\n",
            "Requirement already satisfied: pygments<3.0.0,>=2.13.0 in /usr/local/lib/python3.10/dist-packages (from rich>=10.11.0->typer<1.0.0,>=0.3.0->spacy<3.8.0,>=3.7.0->es-core-news-sm==3.7.0) (2.18.0)\n",
            "Requirement already satisfied: wrapt in /usr/local/lib/python3.10/dist-packages (from smart-open<8.0.0,>=5.2.1->weasel<0.5.0,>=0.1.0->spacy<3.8.0,>=3.7.0->es-core-news-sm==3.7.0) (1.16.0)\n",
            "Requirement already satisfied: mdurl~=0.1 in /usr/local/lib/python3.10/dist-packages (from markdown-it-py>=2.2.0->rich>=10.11.0->typer<1.0.0,>=0.3.0->spacy<3.8.0,>=3.7.0->es-core-news-sm==3.7.0) (0.1.2)\n",
            "\u001b[38;5;2m✔ Download and installation successful\u001b[0m\n",
            "You can now load the package via spacy.load('es_core_news_sm')\n",
            "\u001b[38;5;3m⚠ Restart to reload dependencies\u001b[0m\n",
            "If you are in a Jupyter or Colab notebook, you may need to restart Python in\n",
            "order to load all the package's dependencies. You can do this by selecting the\n",
            "'Restart kernel' or 'Restart runtime' option.\n"
          ]
        }
      ],
      "source": [
        "!python -m spacy download en_core_web_sm\n",
        "!python -m spacy download es_core_news_sm\n"
      ]
    },
    {
      "cell_type": "code",
      "execution_count": null,
      "metadata": {
        "id": "HPmsvcUrA6GD"
      },
      "outputs": [],
      "source": [
        "import torch\n",
        "import torch.nn as nn\n",
        "import torch.optim as optim\n",
        "\n",
        "import matplotlib.pyplot as plt\n",
        "import matplotlib.ticker as ticker\n",
        "\n",
        "import spacy\n",
        "import numpy as np\n",
        "\n",
        "import random\n",
        "import math\n",
        "import time"
      ]
    },
    {
      "cell_type": "code",
      "execution_count": null,
      "metadata": {
        "colab": {
          "base_uri": "https://localhost:8080/",
          "height": 407
        },
        "id": "S_WUXllMA-3b",
        "outputId": "555b2d93-3f41-48b6-a790-b566f5efbf6b"
      },
      "outputs": [
        {
          "output_type": "stream",
          "name": "stdout",
          "text": [
            "--2024-10-16 21:30:39--  http://www.manythings.org/anki/spa-eng.zip\n",
            "Resolving www.manythings.org (www.manythings.org)... 173.254.30.110\n",
            "Connecting to www.manythings.org (www.manythings.org)|173.254.30.110|:80... connected.\n",
            "HTTP request sent, awaiting response... 200 OK\n",
            "Length: 5420295 (5.2M) [application/zip]\n",
            "Saving to: ‘spa-eng.zip’\n",
            "\n",
            "spa-eng.zip         100%[===================>]   5.17M  3.37MB/s    in 1.5s    \n",
            "\n",
            "2024-10-16 21:30:41 (3.37 MB/s) - ‘spa-eng.zip’ saved [5420295/5420295]\n",
            "\n"
          ]
        },
        {
          "output_type": "execute_result",
          "data": {
            "text/plain": [
              "     0        1                                                  2\n",
              "0  Go.      Ve.  CC-BY 2.0 (France) Attribution: tatoeba.org #2...\n",
              "1  Go.    Vete.  CC-BY 2.0 (France) Attribution: tatoeba.org #2...\n",
              "2  Go.    Vaya.  CC-BY 2.0 (France) Attribution: tatoeba.org #2...\n",
              "3  Go.  Váyase.  CC-BY 2.0 (France) Attribution: tatoeba.org #2...\n",
              "4  Hi.    Hola.  CC-BY 2.0 (France) Attribution: tatoeba.org #5..."
            ],
            "text/html": [
              "\n",
              "  <div id=\"df-2e6df77b-e5aa-4fc3-a959-785ca95aa7be\" class=\"colab-df-container\">\n",
              "    <div>\n",
              "<style scoped>\n",
              "    .dataframe tbody tr th:only-of-type {\n",
              "        vertical-align: middle;\n",
              "    }\n",
              "\n",
              "    .dataframe tbody tr th {\n",
              "        vertical-align: top;\n",
              "    }\n",
              "\n",
              "    .dataframe thead th {\n",
              "        text-align: right;\n",
              "    }\n",
              "</style>\n",
              "<table border=\"1\" class=\"dataframe\">\n",
              "  <thead>\n",
              "    <tr style=\"text-align: right;\">\n",
              "      <th></th>\n",
              "      <th>0</th>\n",
              "      <th>1</th>\n",
              "      <th>2</th>\n",
              "    </tr>\n",
              "  </thead>\n",
              "  <tbody>\n",
              "    <tr>\n",
              "      <th>0</th>\n",
              "      <td>Go.</td>\n",
              "      <td>Ve.</td>\n",
              "      <td>CC-BY 2.0 (France) Attribution: tatoeba.org #2...</td>\n",
              "    </tr>\n",
              "    <tr>\n",
              "      <th>1</th>\n",
              "      <td>Go.</td>\n",
              "      <td>Vete.</td>\n",
              "      <td>CC-BY 2.0 (France) Attribution: tatoeba.org #2...</td>\n",
              "    </tr>\n",
              "    <tr>\n",
              "      <th>2</th>\n",
              "      <td>Go.</td>\n",
              "      <td>Vaya.</td>\n",
              "      <td>CC-BY 2.0 (France) Attribution: tatoeba.org #2...</td>\n",
              "    </tr>\n",
              "    <tr>\n",
              "      <th>3</th>\n",
              "      <td>Go.</td>\n",
              "      <td>Váyase.</td>\n",
              "      <td>CC-BY 2.0 (France) Attribution: tatoeba.org #2...</td>\n",
              "    </tr>\n",
              "    <tr>\n",
              "      <th>4</th>\n",
              "      <td>Hi.</td>\n",
              "      <td>Hola.</td>\n",
              "      <td>CC-BY 2.0 (France) Attribution: tatoeba.org #5...</td>\n",
              "    </tr>\n",
              "  </tbody>\n",
              "</table>\n",
              "</div>\n",
              "    <div class=\"colab-df-buttons\">\n",
              "\n",
              "  <div class=\"colab-df-container\">\n",
              "    <button class=\"colab-df-convert\" onclick=\"convertToInteractive('df-2e6df77b-e5aa-4fc3-a959-785ca95aa7be')\"\n",
              "            title=\"Convert this dataframe to an interactive table.\"\n",
              "            style=\"display:none;\">\n",
              "\n",
              "  <svg xmlns=\"http://www.w3.org/2000/svg\" height=\"24px\" viewBox=\"0 -960 960 960\">\n",
              "    <path d=\"M120-120v-720h720v720H120Zm60-500h600v-160H180v160Zm220 220h160v-160H400v160Zm0 220h160v-160H400v160ZM180-400h160v-160H180v160Zm440 0h160v-160H620v160ZM180-180h160v-160H180v160Zm440 0h160v-160H620v160Z\"/>\n",
              "  </svg>\n",
              "    </button>\n",
              "\n",
              "  <style>\n",
              "    .colab-df-container {\n",
              "      display:flex;\n",
              "      gap: 12px;\n",
              "    }\n",
              "\n",
              "    .colab-df-convert {\n",
              "      background-color: #E8F0FE;\n",
              "      border: none;\n",
              "      border-radius: 50%;\n",
              "      cursor: pointer;\n",
              "      display: none;\n",
              "      fill: #1967D2;\n",
              "      height: 32px;\n",
              "      padding: 0 0 0 0;\n",
              "      width: 32px;\n",
              "    }\n",
              "\n",
              "    .colab-df-convert:hover {\n",
              "      background-color: #E2EBFA;\n",
              "      box-shadow: 0px 1px 2px rgba(60, 64, 67, 0.3), 0px 1px 3px 1px rgba(60, 64, 67, 0.15);\n",
              "      fill: #174EA6;\n",
              "    }\n",
              "\n",
              "    .colab-df-buttons div {\n",
              "      margin-bottom: 4px;\n",
              "    }\n",
              "\n",
              "    [theme=dark] .colab-df-convert {\n",
              "      background-color: #3B4455;\n",
              "      fill: #D2E3FC;\n",
              "    }\n",
              "\n",
              "    [theme=dark] .colab-df-convert:hover {\n",
              "      background-color: #434B5C;\n",
              "      box-shadow: 0px 1px 3px 1px rgba(0, 0, 0, 0.15);\n",
              "      filter: drop-shadow(0px 1px 2px rgba(0, 0, 0, 0.3));\n",
              "      fill: #FFFFFF;\n",
              "    }\n",
              "  </style>\n",
              "\n",
              "    <script>\n",
              "      const buttonEl =\n",
              "        document.querySelector('#df-2e6df77b-e5aa-4fc3-a959-785ca95aa7be button.colab-df-convert');\n",
              "      buttonEl.style.display =\n",
              "        google.colab.kernel.accessAllowed ? 'block' : 'none';\n",
              "\n",
              "      async function convertToInteractive(key) {\n",
              "        const element = document.querySelector('#df-2e6df77b-e5aa-4fc3-a959-785ca95aa7be');\n",
              "        const dataTable =\n",
              "          await google.colab.kernel.invokeFunction('convertToInteractive',\n",
              "                                                    [key], {});\n",
              "        if (!dataTable) return;\n",
              "\n",
              "        const docLinkHtml = 'Like what you see? Visit the ' +\n",
              "          '<a target=\"_blank\" href=https://colab.research.google.com/notebooks/data_table.ipynb>data table notebook</a>'\n",
              "          + ' to learn more about interactive tables.';\n",
              "        element.innerHTML = '';\n",
              "        dataTable['output_type'] = 'display_data';\n",
              "        await google.colab.output.renderOutput(dataTable, element);\n",
              "        const docLink = document.createElement('div');\n",
              "        docLink.innerHTML = docLinkHtml;\n",
              "        element.appendChild(docLink);\n",
              "      }\n",
              "    </script>\n",
              "  </div>\n",
              "\n",
              "\n",
              "<div id=\"df-96af6180-40ab-4e24-8296-6b301ad35a1a\">\n",
              "  <button class=\"colab-df-quickchart\" onclick=\"quickchart('df-96af6180-40ab-4e24-8296-6b301ad35a1a')\"\n",
              "            title=\"Suggest charts\"\n",
              "            style=\"display:none;\">\n",
              "\n",
              "<svg xmlns=\"http://www.w3.org/2000/svg\" height=\"24px\"viewBox=\"0 0 24 24\"\n",
              "     width=\"24px\">\n",
              "    <g>\n",
              "        <path d=\"M19 3H5c-1.1 0-2 .9-2 2v14c0 1.1.9 2 2 2h14c1.1 0 2-.9 2-2V5c0-1.1-.9-2-2-2zM9 17H7v-7h2v7zm4 0h-2V7h2v10zm4 0h-2v-4h2v4z\"/>\n",
              "    </g>\n",
              "</svg>\n",
              "  </button>\n",
              "\n",
              "<style>\n",
              "  .colab-df-quickchart {\n",
              "      --bg-color: #E8F0FE;\n",
              "      --fill-color: #1967D2;\n",
              "      --hover-bg-color: #E2EBFA;\n",
              "      --hover-fill-color: #174EA6;\n",
              "      --disabled-fill-color: #AAA;\n",
              "      --disabled-bg-color: #DDD;\n",
              "  }\n",
              "\n",
              "  [theme=dark] .colab-df-quickchart {\n",
              "      --bg-color: #3B4455;\n",
              "      --fill-color: #D2E3FC;\n",
              "      --hover-bg-color: #434B5C;\n",
              "      --hover-fill-color: #FFFFFF;\n",
              "      --disabled-bg-color: #3B4455;\n",
              "      --disabled-fill-color: #666;\n",
              "  }\n",
              "\n",
              "  .colab-df-quickchart {\n",
              "    background-color: var(--bg-color);\n",
              "    border: none;\n",
              "    border-radius: 50%;\n",
              "    cursor: pointer;\n",
              "    display: none;\n",
              "    fill: var(--fill-color);\n",
              "    height: 32px;\n",
              "    padding: 0;\n",
              "    width: 32px;\n",
              "  }\n",
              "\n",
              "  .colab-df-quickchart:hover {\n",
              "    background-color: var(--hover-bg-color);\n",
              "    box-shadow: 0 1px 2px rgba(60, 64, 67, 0.3), 0 1px 3px 1px rgba(60, 64, 67, 0.15);\n",
              "    fill: var(--button-hover-fill-color);\n",
              "  }\n",
              "\n",
              "  .colab-df-quickchart-complete:disabled,\n",
              "  .colab-df-quickchart-complete:disabled:hover {\n",
              "    background-color: var(--disabled-bg-color);\n",
              "    fill: var(--disabled-fill-color);\n",
              "    box-shadow: none;\n",
              "  }\n",
              "\n",
              "  .colab-df-spinner {\n",
              "    border: 2px solid var(--fill-color);\n",
              "    border-color: transparent;\n",
              "    border-bottom-color: var(--fill-color);\n",
              "    animation:\n",
              "      spin 1s steps(1) infinite;\n",
              "  }\n",
              "\n",
              "  @keyframes spin {\n",
              "    0% {\n",
              "      border-color: transparent;\n",
              "      border-bottom-color: var(--fill-color);\n",
              "      border-left-color: var(--fill-color);\n",
              "    }\n",
              "    20% {\n",
              "      border-color: transparent;\n",
              "      border-left-color: var(--fill-color);\n",
              "      border-top-color: var(--fill-color);\n",
              "    }\n",
              "    30% {\n",
              "      border-color: transparent;\n",
              "      border-left-color: var(--fill-color);\n",
              "      border-top-color: var(--fill-color);\n",
              "      border-right-color: var(--fill-color);\n",
              "    }\n",
              "    40% {\n",
              "      border-color: transparent;\n",
              "      border-right-color: var(--fill-color);\n",
              "      border-top-color: var(--fill-color);\n",
              "    }\n",
              "    60% {\n",
              "      border-color: transparent;\n",
              "      border-right-color: var(--fill-color);\n",
              "    }\n",
              "    80% {\n",
              "      border-color: transparent;\n",
              "      border-right-color: var(--fill-color);\n",
              "      border-bottom-color: var(--fill-color);\n",
              "    }\n",
              "    90% {\n",
              "      border-color: transparent;\n",
              "      border-bottom-color: var(--fill-color);\n",
              "    }\n",
              "  }\n",
              "</style>\n",
              "\n",
              "  <script>\n",
              "    async function quickchart(key) {\n",
              "      const quickchartButtonEl =\n",
              "        document.querySelector('#' + key + ' button');\n",
              "      quickchartButtonEl.disabled = true;  // To prevent multiple clicks.\n",
              "      quickchartButtonEl.classList.add('colab-df-spinner');\n",
              "      try {\n",
              "        const charts = await google.colab.kernel.invokeFunction(\n",
              "            'suggestCharts', [key], {});\n",
              "      } catch (error) {\n",
              "        console.error('Error during call to suggestCharts:', error);\n",
              "      }\n",
              "      quickchartButtonEl.classList.remove('colab-df-spinner');\n",
              "      quickchartButtonEl.classList.add('colab-df-quickchart-complete');\n",
              "    }\n",
              "    (() => {\n",
              "      let quickchartButtonEl =\n",
              "        document.querySelector('#df-96af6180-40ab-4e24-8296-6b301ad35a1a button');\n",
              "      quickchartButtonEl.style.display =\n",
              "        google.colab.kernel.accessAllowed ? 'block' : 'none';\n",
              "    })();\n",
              "  </script>\n",
              "</div>\n",
              "\n",
              "    </div>\n",
              "  </div>\n"
            ],
            "application/vnd.google.colaboratory.intrinsic+json": {
              "type": "dataframe",
              "variable_name": "df"
            }
          },
          "metadata": {},
          "execution_count": 17
        }
      ],
      "source": [
        "import os.path\n",
        "import re\n",
        "import pandas as pd\n",
        "from shutil import unpack_archive\n",
        "\n",
        "\n",
        "data = None\n",
        "!wget -O spa-eng.zip http://www.manythings.org/anki/spa-eng.zip\n",
        "if not os.path.isfile(\"spa.txt\"):\n",
        "    unpack_archive('./spa-eng.zip', extract_dir='./', format='zip')\n",
        "\n",
        "df = pd.read_csv(\"spa.txt\", sep='\\t',header=None)\n",
        "df.head()"
      ]
    },
    {
      "cell_type": "markdown",
      "source": [
        "###  `read_tokenize_tatoeba`\n",
        "\n",
        "La función `read_tokenize_tatoeba` es responsable de leer el archivo de texto fuente que contiene las frases en inglés y español, y luego realizar la tokenización de cada frase para que se pueda utilizar en el modelo de traducción. Esta función cumple varios propósitos clave: cargar los datos, limpiar el texto eliminando información adicional innecesaria, y tokenizar cada frase en secuencias de tokens manejables.\n",
        "\n",
        "En primer lugar, la función lee cada línea del archivo de texto y utiliza una serie de expresiones regulares para limpiar el contenido. Se eliminan marcas innecesarias, como la licencia y caracteres no deseados que podrían interferir con el entrenamiento. Posteriormente, se utilizan los modelos de `spaCy` para tokenizar el texto en inglés y español, lo cual es crucial para preparar el modelo de traducción.\n",
        "\n",
        "La salida de la función incluye secuencias tokenizadas de las frases en inglés (`eng_rows`) y español (`spa_rows`), que son listas de tokens con elementos especiales como `<bos>` (beginning of sentence) y `<eos>` (end of sentence), necesarios para que el modelo sepa dónde comienzan y terminan las frases. Esta forma estructurada de representar los datos facilita el entrenamiento del modelo y mejora la calidad de las predicciones al asegurar que cada frase esté completamente comprendida.\n"
      ],
      "metadata": {
        "id": "vXBou-kSp1iI"
      }
    },
    {
      "cell_type": "markdown",
      "source": [
        "En la función `read_tokenize_tatoeba`, se observa que las oraciones de origen (`src`) no incluyen el token `<bos>` (beginning of sentence) al inicio de las secuencias. Esta decisión se debe a que el token `<bos>` es utilizado principalmente para indicar al modelo de traducción cuándo debe comenzar a generar una secuencia de salida (`target`). En cambio, las oraciones de origen se proporcionan al modelo tal cual, ya que su propósito es simplemente ser procesadas por la red sin requerir un marcador explícito del inicio de la oración.\n",
        "\n"
      ],
      "metadata": {
        "id": "ss0K4qQRqIlf"
      }
    },
    {
      "cell_type": "code",
      "execution_count": null,
      "metadata": {
        "id": "ufcPX3Ey8YVZ",
        "colab": {
          "base_uri": "https://localhost:8080/"
        },
        "outputId": "a8f1b579-229c-466c-ef38-1a74d80c5272"
      },
      "outputs": [
        {
          "output_type": "stream",
          "name": "stderr",
          "text": [
            "/usr/local/lib/python3.10/dist-packages/spacy/util.py:1740: UserWarning: [W111] Jupyter notebook detected: if using `prefer_gpu()` or `require_gpu()`, include it in the same cell right before `spacy.load()` to ensure that the model is loaded on the correct device. More information: http://spacy.io/usage/v3#jupyter-notebook-gpu\n",
            "  warnings.warn(Warnings.W111)\n"
          ]
        }
      ],
      "source": [
        "import spacy\n",
        "import spacy\n",
        "eng_spacy = spacy.load(\"en_core_web_sm\") # Cargue el modelo en inglés para tokenizar el texto en inglés\n",
        "spa_spacy = spacy.load(\"es_core_news_sm\") # Cargue el modelo en español para tokenizar el texto en español\n",
        "\n",
        "def read_tokenize_tatoeba(filename):\n",
        "\n",
        "  def extract_text(s):\n",
        "    # Remove information that will not be used by us\n",
        "    s = re.sub(\"\\tCC-BY 2\\.0.*\",\"\", s) # acá elimino información adicional\n",
        "    s = re.sub(r\"[\\u202f]|[\\xa0]\",\" \", s) # aca saco caracteres raros\n",
        "    return s.strip()\n",
        "\n",
        "  SRC_IDX, TGT_IDX = 0, 1\n",
        "  SEED = 12312\n",
        "  with open('./spa.txt', 'r') as f:\n",
        "    rows = [extract_text(row) for row in f.readlines()[:]]\n",
        "  random.shuffle(rows)\n",
        "  eng_rows = [line.split('\\t')[SRC_IDX] for line in rows]\n",
        "  spa_rows = [line.split('\\t')[TGT_IDX] for line in rows]\n",
        "\n",
        "  new_src = [[token.text for token in eng_spacy.tokenizer(line)] + ['<eos>'] for line in eng_rows]\n",
        "  length = [len(x) for x in new_src]\n",
        "  new_tgt = [['<bos>'] + [token.text for token in spa_spacy.tokenizer(line)] + ['<eos>'] for line in spa_rows]\n",
        "  return new_src, length, new_tgt\n",
        "\n",
        "\n"
      ]
    },
    {
      "cell_type": "code",
      "execution_count": null,
      "metadata": {
        "colab": {
          "base_uri": "https://localhost:8080/"
        },
        "id": "jcI9eSOM__XQ",
        "outputId": "ca7bd489-fa22-4557-bc14-753d247b6b0d"
      },
      "outputs": [
        {
          "output_type": "stream",
          "name": "stdout",
          "text": [
            "['I', 'met', 'him', 'at', 'the', 'station', '.', '<eos>'] 8 ['<bos>', 'Me', 'lo', 'encontré', 'en', 'la', 'estación', '.', '<eos>']\n"
          ]
        }
      ],
      "source": [
        "data = read_tokenize_tatoeba(\"spa.txt\")\n",
        "print(data[0][0],data[1][0],data[-1][0])"
      ]
    },
    {
      "cell_type": "markdown",
      "source": [
        "### `Tatoeba_Vocab`\n",
        "La clase `Tatoeba_Vocab` es responsable de construir el vocabulario a partir de los datos cargados. Se encarga de contar la frecuencia de los tokens y de definir un índice para cada uno de ellos. Esto permite tener un control preciso sobre los tokens más frecuentes que se incluirán en el vocabulario y los tokens reservados que deben ser utilizados durante el entrenamiento. Esta estructura garantiza que se capturen los elementos más relevantes del corpus de texto y se eviten palabras poco frecuentes que podrían agregar ruido al modelo.\n"
      ],
      "metadata": {
        "id": "cs7X_m4Lphk_"
      }
    },
    {
      "cell_type": "code",
      "execution_count": null,
      "metadata": {
        "id": "MY0s8XpWBM1B"
      },
      "outputs": [],
      "source": [
        "import collections\n",
        "\n",
        "class Tatoeba_Vocab:\n",
        "    \"\"\"Vocabulario para texto.\"\"\"\n",
        "    def __init__(self, tokens=[], min_freq=0, reserved_tokens=[]):\n",
        "        \"\"\"Inicializa el vocabulario.\"\"\"\n",
        "        # Cuenta las frecuencias de los tokens\n",
        "        if tokens and isinstance(tokens[0], list):\n",
        "            tokens = [token for line in tokens for token in line]\n",
        "        counter = collections.Counter(tokens)\n",
        "        self.token_freqs = sorted(counter.items(), key=lambda x: x[1],\n",
        "                                  reverse=True)\n",
        "        # La lista de tokens únicos\n",
        "        self.idx_to_token = list(sorted(set(['<unk>'] + reserved_tokens + [\n",
        "            token for token, freq in self.token_freqs if freq >= min_freq])))\n",
        "        # Mapea cada token a su índice\n",
        "        self.token_to_idx = {token: idx\n",
        "                             for idx, token in enumerate(self.idx_to_token)}\n",
        "\n",
        "    def __len__(self):\n",
        "        # Retorna el tamaño del vocabulario\n",
        "        return len(self.idx_to_token)\n",
        "\n",
        "    def __getitem__(self, tokens):\n",
        "        # Retorna el índice de un token o una lista de índices para varios tokens\n",
        "        if not isinstance(tokens, (list, tuple)):\n",
        "            return self.token_to_idx.get(tokens, self.unk)\n",
        "        return [self.__getitem__(token) for token in tokens]\n",
        "\n",
        "    def to_tokens(self, indices):\n",
        "        # Convierte un índice o una lista de índices en sus tokens correspondientes\n",
        "        if hasattr(indices, '__len__') and len(indices) > 1:\n",
        "            return [self.idx_to_token[int(index)] for index in indices]\n",
        "        return self.idx_to_token[indices]\n",
        "\n",
        "    @property\n",
        "    def unk(self):  # Índice para el token desconocido\n",
        "        return self.token_to_idx['<unk>']"
      ]
    },
    {
      "cell_type": "markdown",
      "source": [
        "### `TatoebaDataset`\n",
        "\n",
        "La clase `TatoebaDataset` se utiliza para cargar los datos desde el archivo fuente, dividirlos en conjuntos de entrenamiento, validación y prueba, y preparar las secuencias para el modelo. Esta clase facilita la lectura y tokenización del texto, dividiéndolo en frases en inglés y español que se utilizarán como pares de origen y destino para el entrenamiento. Además, el dataset se divide en subconjuntos específicos para asegurar una correcta evaluación y prueba del rendimiento del modelo.\n"
      ],
      "metadata": {
        "id": "4mu1l1GEqYvO"
      }
    },
    {
      "cell_type": "code",
      "execution_count": null,
      "metadata": {
        "id": "64lw12L27LP7"
      },
      "outputs": [],
      "source": [
        "class TatoebaDataset(torch.utils.data.Dataset):\n",
        "    \"\"\"Un dataset personalizado para cargar el conjunto de datos SNLI.\"\"\"\n",
        "\n",
        "    def __init__(self, filename, train=\"train\", eng_vocab=None, spa_vocab=None):\n",
        "        \"\"\"Inicializa el dataset con el conjunto de datos SNLI.\"\"\"\n",
        "        data = read_tokenize_tatoeba(filename)\n",
        "        n = len(data[0])\n",
        "        split1, split2 = int(0.7*n), int(0.9*n)\n",
        "        if train==\"train\":\n",
        "          self.eng_phrases, self.length, self.spa_phrases = data[0][:split1], data[1][:split1], data[2][:split1]\n",
        "        elif train==\"val\":\n",
        "          self.eng_phrases, self.length, self.spa_phrases = data[0][split1:split2], data[1][split1:split2], data[2][split1:split2]\n",
        "        else:\n",
        "          self.eng_phrases, self.length, self.spa_phrases = data[0][split2:], data[1][split2:], data[2][split2:]\n",
        "\n",
        "        if eng_vocab is None:\n",
        "          self.eng_vocab = Tatoeba_Vocab(self.eng_phrases,  min_freq = 2, reserved_tokens=['<pad>'])\n",
        "        else: self.eng_vocab = eng_vocab\n",
        "        if spa_vocab is None:\n",
        "          self.spa_vocab = Tatoeba_Vocab(self.spa_phrases,  min_freq = 2, reserved_tokens=['<pad>'])\n",
        "        else: self.spa_vocab = spa_vocab\n",
        "        print('Se leyeron ' + str(len(self.length)) + ' ejemplos')\n",
        "\n",
        "    def __getitem__(self, idx):\n",
        "        \"\"\"Retorna un ejemplo en el índice dado.\"\"\"\n",
        "        if idx and isinstance(idx, list):\n",
        "          return [(self.eng_phrases[i], self.length[i],self.spa_phrases[i]) for i in idx]\n",
        "        else: return self.eng_phrases[idx], self.length[idx],self.spa_phrases[idx]\n",
        "\n",
        "    def __len__(self):\n",
        "        \"\"\"Retorna el número de ejemplos en el dataset.\"\"\"\n",
        "        return len(self.length)"
      ]
    },
    {
      "cell_type": "code",
      "execution_count": null,
      "metadata": {
        "colab": {
          "base_uri": "https://localhost:8080/"
        },
        "id": "exekNfMnt75J",
        "outputId": "a2d59b8e-aba6-4611-9480-a559106036ca"
      },
      "outputs": [
        {
          "output_type": "stream",
          "name": "stdout",
          "text": [
            "Se leyeron 99080 ejemplos\n",
            "Se leyeron 28308 ejemplos\n",
            "Se leyeron 14155 ejemplos\n"
          ]
        }
      ],
      "source": [
        "dataset_train = TatoebaDataset(\"spa.txt\",\"train\")\n",
        "dataset_val = TatoebaDataset(\"spa.txt\",\"val\",\n",
        "                             eng_vocab=dataset_train.eng_vocab,\n",
        "                             spa_vocab=dataset_train.spa_vocab)\n",
        "dataset_test = TatoebaDataset(\"spa.txt\",\"test\",\n",
        "                             eng_vocab=dataset_train.eng_vocab,\n",
        "                             spa_vocab=dataset_train.spa_vocab)"
      ]
    },
    {
      "cell_type": "markdown",
      "source": [
        "### `BucketSampler`\n",
        "\n",
        "La implementación del `BucketSampler` permite agrupar los ejemplos por longitud similar, lo cual mejora la eficiencia durante el entrenamiento al minimizar la cantidad de padding necesario. Este enfoque asegura que el modelo procese ejemplos más uniformes en términos de longitud, lo que reduce el desperdicio de capacidad computacional y mejora la convergencia del modelo."
      ],
      "metadata": {
        "id": "-qNYf_zcqfk3"
      }
    },
    {
      "cell_type": "code",
      "execution_count": null,
      "metadata": {
        "id": "YjpbkiK2CMV6"
      },
      "outputs": [],
      "source": [
        "from torch.utils.data.sampler import Sampler\n",
        "\n",
        "class BucketSampler(Sampler):\n",
        "\n",
        "    def __init__(self, batch_size, train_list,SEED=42):\n",
        "        self.length = len(train_list)\n",
        "        self.train_list = train_list\n",
        "        self.batch_size = batch_size\n",
        "        indices = [(i, s[1]) for i, s in enumerate(self.train_list)]\n",
        "        random.seed(SEED)\n",
        "        random.shuffle(indices)\n",
        "        pooled_indices = []\n",
        "        # creamos minilotes de tamaños similares\n",
        "        for i in range(0, len(indices), batch_size * 100):\n",
        "            pooled_indices.extend(sorted(indices[i:i + batch_size * 100],\n",
        "                                         key=lambda x: x[1], reverse=True))\n",
        "\n",
        "        self.pooled_indices = pooled_indices\n",
        "\n",
        "    def __iter__(self):\n",
        "        for i in range(0, len(self.pooled_indices), self.batch_size):\n",
        "            yield [idx for idx, _ in self.pooled_indices[i:i + self.batch_size]]\n",
        "\n",
        "    def __len__(self):\n",
        "        return (self.length + self.batch_size - 1) // self.batch_size"
      ]
    },
    {
      "cell_type": "code",
      "execution_count": null,
      "metadata": {
        "colab": {
          "base_uri": "https://localhost:8080/"
        },
        "id": "PEV3-pHPu6vo",
        "outputId": "d162f568-e090-472f-8c48-9b776437f174"
      },
      "outputs": [
        {
          "output_type": "execute_result",
          "data": {
            "text/plain": [
              "[26, 22, 21, 20, 17, 17, 17, 16]"
            ]
          },
          "metadata": {},
          "execution_count": 24
        }
      ],
      "source": [
        "sampler = BucketSampler(8, dataset_train)\n",
        "[length for _,length,_ in dataset_train[next(iter(sampler))]]"
      ]
    },
    {
      "cell_type": "markdown",
      "source": [
        "### `collate_batch`\n",
        "\n",
        "Para la preparación de los datos antes de ser pasados al modelo, se ha implementado la función `collate_batch`. Esta función toma los ejemplos individuales del dataset y los convierte en minilotes que pueden ser procesados en paralelo por el modelo. Utiliza `pad_sequence` para asegurar que todas las secuencias en el minilote tengan la misma longitud, añadiendo tokens de padding cuando sea necesario. Esto permite que el modelo procese los datos de manera más eficiente y evita errores que podrían surgir de secuencias de longitud desigual.\n"
      ],
      "metadata": {
        "id": "j1PS2_eYq9vH"
      }
    },
    {
      "cell_type": "code",
      "execution_count": null,
      "metadata": {
        "id": "ipx7mj_YCOrw"
      },
      "outputs": [],
      "source": [
        "import torch\n",
        "\n",
        "from torch.utils.data import DataLoader\n",
        "from torch.nn.utils.rnn import pad_sequence\n",
        "\n",
        "vocab_src = dataset_train.eng_vocab\n",
        "vocab_tgt = dataset_train.spa_vocab\n",
        "\n",
        "SRC_PAD_IDX = vocab_src['<pad>']\n",
        "TGT_PAD_IDX = vocab_tgt['<pad>']\n",
        "\n",
        "\n",
        "def collate_batch(batch):\n",
        "    text_src, text_tgt = [], []\n",
        "    for (src, length, tgt) in batch:\n",
        "        # convertimos el texto en tokens\n",
        "        processed_src = torch.tensor([vocab_src[token] for token in src])\n",
        "        processed_tgt = torch.tensor([vocab_tgt[token] for token in tgt])\n",
        "        text_src.append(processed_src)\n",
        "        text_tgt.append(processed_tgt)\n",
        "    # armamos la tupla que conformara un ejemplo de minilote.\n",
        "    result = (pad_sequence(text_src, padding_value=SRC_PAD_IDX),\n",
        "              pad_sequence(text_tgt, padding_value=TGT_PAD_IDX))\n",
        "    return result\n",
        "\n"
      ]
    },
    {
      "cell_type": "markdown",
      "metadata": {
        "id": "8EJaMXZVhMSz"
      },
      "source": [
        "### `DataLoaders`\n",
        "Ahora podemos crear los DataLoaders e imprimir su contenido."
      ]
    },
    {
      "cell_type": "code",
      "execution_count": null,
      "metadata": {
        "id": "2T5ppiECCSCv"
      },
      "outputs": [],
      "source": [
        "batch_size = 64  # A batch size of 64\n",
        "\n",
        "train_bucket = BucketSampler(batch_size, dataset_train)\n",
        "train_iter = DataLoader(dataset_train,\n",
        "                          batch_sampler=train_bucket,\n",
        "                          collate_fn=collate_batch)\n",
        "\n",
        "val_bucket = BucketSampler(batch_size, dataset_val)\n",
        "val_iter = DataLoader(dataset_val,\n",
        "                          batch_sampler=val_bucket,\n",
        "                          collate_fn=collate_batch)\n",
        "\n",
        "test_bucket = BucketSampler(batch_size, dataset_test)\n",
        "test_iter = DataLoader(dataset_test,\n",
        "                          batch_sampler=test_bucket,\n",
        "                          collate_fn=collate_batch)"
      ]
    },
    {
      "cell_type": "code",
      "source": [
        "src, trg = next(iter(test_iter))\n",
        "\n",
        "a = [vocab_src.idx_to_token[token] for example in src.T[:1] for token in example]\n",
        "b = [vocab_tgt.idx_to_token[token] for example in trg.T[:1] for token in example]\n",
        "\n",
        "print(a)\n",
        "print(b)"
      ],
      "metadata": {
        "colab": {
          "base_uri": "https://localhost:8080/"
        },
        "id": "-GQJcsjLcaW5",
        "outputId": "faa806fb-064d-4b9e-bbb8-7b99825b01f6"
      },
      "execution_count": null,
      "outputs": [
        {
          "output_type": "stream",
          "name": "stdout",
          "text": [
            "['I', 'used', 'to', 'watch', 'this', 'anime', 'a', 'lot', 'when', 'I', 'was', 'a', 'kid', ',', 'but', 'I', 'ca', \"n't\", 'quite', 'remember', 'what', 'happened', 'to', 'the', 'hero', 'in', 'the', 'final', 'episode', '.', '<eos>']\n",
            "['<bos>', 'Solía', 'ver', 'harto', 'este', '<unk>', 'cuando', 'era', 'niño', ',', 'pero', 'no', 'recuerdo', 'bien', 'qué', 'le', 'pasaba', 'al', 'héroe', 'en', 'el', 'último', 'capítulo', '.', '<eos>', '<pad>', '<pad>', '<pad>', '<pad>', '<pad>', '<pad>', '<pad>']\n"
          ]
        }
      ]
    },
    {
      "cell_type": "markdown",
      "metadata": {
        "id": "nBMupg3m2tRA"
      },
      "source": [
        "## Capas Necesarias para el Modelo\n",
        "\n",
        "Antes de armar el modelo, vamos a explicar algunas capas introducidas en el paper que forman una parte esencial tanto dentro del encoder como del decoder."
      ]
    },
    {
      "cell_type": "markdown",
      "metadata": {
        "id": "h6pYQrt9A6GR"
      },
      "source": [
        "### Capa de atención de múltiples cabezales\n",
        "\n",
        "Uno de los conceptos clave y novedosos introducidos por el documento Transformer es la *capa de atención de múltiples cabezales*.\n",
        "\n",
        "![](https://i.imgur.com/CwYzPgi.png)\n",
        "\n",
        "La atención se puede considerar como ***consultas (queries)***, ***claves (keys)*** y ***valores (values)***, donde la consulta se usa junto a la clave para obtener un vector de atención (generalmente el resultado de una operación *softmax* y tiene todos los valores entre 0 y 1 y que, en total, suman 1) que luego se usa para obtener una suma ponderada de los valores.\n",
        "\n",
        "El Transformer utiliza ***atención de producto punto escalada***, donde la consulta y la clave se combinan tomando el producto punto entre ellas, luego aplicando softmax y escalando por $d_k$ antes de finalmente multiplicar por el valor. La constante $ d_k $ es la ***dimensión de la cabeza***, `head_dim`, que explicaremos con más detalle en breve.\n",
        "\n",
        "$$ \\text{Attention}(Q, K, V) = \\text{Softmax} \\big( \\frac{QK^T}{\\sqrt{d_k}} \\big)V $$\n",
        "\n",
        "Esto es similar a la ***atención de producto punto*** estándar pero escalada por $ d_k $, que según el documento se usa para evitar que los resultados de los productos punto se hagan demasiado grandes, y por lo tanto los gradientes se vuelvan demasiado pequeños.\n",
        "\n",
        "Sin embargo, la atención de producto punto escalada no se aplica simplemente a las consultas, claves y valores. En lugar de realizar una aplicación de atención única, las consultas, claves y valores tienen su `hid_dim` dividido en ***$ h $ cabezas*** y la atención de producto punto escalada se calcula sobre todas las cabezas en paralelo. Esto significa que en lugar de prestar atención a un concepto por aplicación de atención, prestamos atención a $ h $ conceptos. Luego, volvemos a combinar las cabezas en su forma `hid_dim`.\n",
        "\n",
        "$$ \\text{MultiHead}(Q, K, V) = \\text{Concat}(\\text{head}_1,...,\\text{head}_h)W^O $$\n",
        "\n",
        "$$\\text{head}_i = \\text{Attention}(QW_i^Q, KW_i^K, VW_i^V) $$\n",
        "\n",
        "$ W ^ O $ es la capa densa aplicada al final de la capa de atención de múltiples cabezales, que llamaremos en el código `fc_o`. $ W ^ Q, W ^ K, W ^ V $ son las capas densas que en el código llamaremos `fc_q`,` fc_k` y `fc_v`.\n",
        "\n",
        "Recorriendo el código del módulo, primero calculamos $ QW ^ Q $, $ KW ^ K $ y $ VW ^ V $ con las capas lineales, `fc_q`, ` fc_k` y `fc_v`, para darnos ` Q`, ` K` y `V`. A continuación, dividimos el `hid_dim` de la consulta, la clave y el valor en ` n_heads` usando `.view()` y los permutamos correctamente para que se puedan multiplicar juntos. Luego calculamos la `energía` (la atención no normalizada) multiplicando ` Q` y `K` y escalando por la raíz cuadrada de` head_dim`, que se calcula como `hid_dim // n_heads`. Luego enmascaramos la energía para que no prestemos atención a ningún elemento de la secuencia que no deberíamos, luego aplicamos el softmax y dropout. A continuación, aplicamos la atención a los valores de los cabezales, `V`, antes de combinar los resultados para las ` n_heads` . Finalmente, multiplicamos este $ W ^ O $, representado por `fc_o`.\n",
        "\n",
        "Tenga en cuenta que en nuestra implementación las longitudes de las claves y los valores son siempre los mismos, por lo tanto, cuando la matriz multiplica la salida del softmax, `attention`, con` V` siempre tendremos tamaños de dimensión válidos para la multiplicación de matrices. Esta multiplicación se lleva a cabo usando `torch.matmul` que, cuando ambos tensores son >2-dimensionales, hace una multiplicación matricial por lotes sobre las dos últimas dimensiones de cada tensor. Esto será una multiplicación de matriz por lotes con formas **[query len, key len] x [value len, head dim]**   sobre el tamaño de lote y cada cabezal que proporciona un resultado con forma **[batch size, n heads, query len, head dim]** .\n",
        "\n",
        "Algo que parece extraño al principio es que el dropout se aplica directamente a la atención. Esto significa que lo más probable es que nuestro vector de atención no sume 1 o que prestemos toda la atención a un solo token que puede establecerse en 0 por el dropout. Estos problemas nunca se explican, ni siquiera se mencionan, en el paper, sin embargo, es lo que se hace en la [implementación oficial](https://github.com/tensorflow/tensor2tensor/) y todas las implementaciones de Transformer desde entonces, [incluido BERT](https://github.com/google-research/bert/)."
      ]
    },
    {
      "cell_type": "code",
      "execution_count": null,
      "metadata": {
        "id": "ipH7sT_MA6GR"
      },
      "outputs": [],
      "source": [
        "class MultiHeadAttentionLayer(nn.Module):\n",
        "    def __init__(self, hid_dim, n_heads, dropout, device):\n",
        "        super().__init__()\n",
        "\n",
        "        assert hid_dim % n_heads == 0\n",
        "\n",
        "        self.hid_dim = hid_dim\n",
        "        self.n_heads = n_heads\n",
        "        self.head_dim = hid_dim // n_heads\n",
        "\n",
        "        self.fc_q = nn.Linear(hid_dim, hid_dim)\n",
        "        self.fc_k = nn.Linear(hid_dim, hid_dim)\n",
        "        self.fc_v = nn.Linear(hid_dim, hid_dim)\n",
        "\n",
        "        self.fc_o = nn.Linear(hid_dim, hid_dim)\n",
        "\n",
        "        self.dropout = nn.Dropout(dropout)\n",
        "\n",
        "        self.scale = torch.sqrt(torch.FloatTensor([self.head_dim])).to(device)\n",
        "\n",
        "    def forward(self, query, key, value, mask = None):\n",
        "\n",
        "        batch_size = query.shape[0]\n",
        "\n",
        "        #query = [batch size, query len, hid dim]\n",
        "        #key = [batch size, key len, hid dim]\n",
        "        #value = [batch size, value len, hid dim]\n",
        "\n",
        "        Q = self.fc_q(query)\n",
        "        K = self.fc_k(key)\n",
        "        V = self.fc_v(value)\n",
        "\n",
        "        #Q = [batch size, query len, hid dim]\n",
        "        #K = [batch size, key len, hid dim]\n",
        "        #V = [batch size, value len, hid dim]\n",
        "\n",
        "        Q = Q.view(batch_size, -1, self.n_heads, self.head_dim).permute(0, 2, 1, 3)\n",
        "        K = K.view(batch_size, -1, self.n_heads, self.head_dim).permute(0, 2, 1, 3)\n",
        "        V = V.view(batch_size, -1, self.n_heads, self.head_dim).permute(0, 2, 1, 3)\n",
        "\n",
        "        #Q = [batch size, n heads, query len, head dim]\n",
        "        #K = [batch size, n heads, key len, head dim]\n",
        "        #V = [batch size, n heads, value len, head dim]\n",
        "\n",
        "        energy = torch.matmul(Q, K.permute(0, 1, 3, 2)) / self.scale\n",
        "\n",
        "        #energy = [batch size, n heads, query len, key len]\n",
        "\n",
        "        if mask is not None:\n",
        "            energy = energy.masked_fill(mask == 0, -1e10)\n",
        "\n",
        "        attention = torch.softmax(energy, dim = -1)\n",
        "\n",
        "        #attention = [batch size, n heads, query len, key len]\n",
        "\n",
        "        x = torch.matmul(self.dropout(attention), V)\n",
        "\n",
        "        #x = [batch size, n heads, query len, head dim]\n",
        "\n",
        "        x = x.permute(0, 2, 1, 3).contiguous()\n",
        "\n",
        "        #x = [batch size, query len, n heads, head dim]\n",
        "\n",
        "        x = x.view(batch_size, -1, self.hid_dim)\n",
        "\n",
        "        #x = [batch size, query len, hid dim]\n",
        "\n",
        "        x = self.fc_o(x)\n",
        "\n",
        "        #x = [batch size, query len, hid dim]\n",
        "\n",
        "        return x, attention"
      ]
    },
    {
      "cell_type": "markdown",
      "metadata": {
        "id": "f3-95fx6A6GS"
      },
      "source": [
        "### Capa Feed-Forward Posicional\n",
        "\n",
        "La otra capa presentada en el paper es la *capa feedforward posicional*. Esta capa es relativamente simple en comparación con la capa de atención de múltiples cabezales. La entrada se transforma de `hid_dim` a` pf_dim`, donde `pf_dim` suele ser mucho más grande que` hid_dim`. El Transformer original usó un `hid_dim` de 512 y un` pf_dim` de 2048. La función de activación de ReLU y el dropout se aplican antes de que se vuelva a transformar en una representación de `hid_dim`.\n",
        "\n",
        "BERT usa la función de activación [GELU](https://arxiv.org/abs/1606.08415), que se puede usar simplemente cambiando `torch.relu` por` F.gelu`."
      ]
    },
    {
      "cell_type": "code",
      "execution_count": null,
      "metadata": {
        "id": "mJiTfQXzA6GS"
      },
      "outputs": [],
      "source": [
        "class PositionwiseFeedforwardLayer(nn.Module):\n",
        "    def __init__(self, hid_dim, pf_dim, dropout):\n",
        "        super().__init__()\n",
        "\n",
        "        self.fc_1 = nn.Linear(hid_dim, pf_dim)\n",
        "        self.fc_2 = nn.Linear(pf_dim, hid_dim)\n",
        "\n",
        "        self.dropout = nn.Dropout(dropout)\n",
        "\n",
        "    def forward(self, x):\n",
        "\n",
        "        #x = [batch size, seq len, hid dim]\n",
        "\n",
        "        x = self.dropout(torch.relu(self.fc_1(x)))\n",
        "\n",
        "        #x = [batch size, seq len, pf dim]\n",
        "\n",
        "        x = self.fc_2(x)\n",
        "\n",
        "        #x = [batch size, seq len, hid dim]\n",
        "\n",
        "        return x"
      ]
    },
    {
      "cell_type": "markdown",
      "metadata": {
        "id": "1YSm02hY2Tdi"
      },
      "source": [
        "## Construyendo el modelo\n",
        "\n",
        "A continuación, crearemos el modelo. Al igual que en el trabajo práctico anterior, se compone de un *encoder* y un *decoder*, con el encoder *codificando* la oración de entrada/origen (en inglés) en un *vector de contexto* y el decoder luego *decodificando* este vector de contexto para generar nuestra oración de salida/objetivo (en español)."
      ]
    },
    {
      "cell_type": "markdown",
      "metadata": {
        "id": "859EdNC5A6GQ"
      },
      "source": [
        "### Bloque Encoder\n",
        "\n",
        "Los bloques Encoder son donde se encuentra toda la \"magia\" del Encoder.\n",
        "\n",
        "Primero pasamos la oración origen y su máscara a la *capa de atención de múltiples cabezales*, luego aplicamos dropout, una conexión residual y una capa de  [Normalización por capas](https://arxiv.org/abs/1607.06450 ). Luego lo pasamos a través de una capa feed-forward posicional y luego, nuevamente, aplicamos dropout, una conexión residual y  la capa de normalización por capas para obtener la salida de este bloque que se alimenta al siguiente bloque. Los parámetros no se comparten entre bloques.\n",
        "\n",
        "La capa de atención de múltiples cabezales es utilizada por el bloque encoder para prestar atención a la oración origen, es decir, está calculando y aplicando atención sobre sí misma en lugar de otra secuencia, por lo que la llamamos *auto-atención*.\n",
        "\n",
        "[Este](https://becominghuman.ai/all-about-normalization-6ea79e70894b) artículo entra en más detalles sobre la normalización de capas, pero la esencia es que normaliza los valores de las features, de manera que cada feature tiene una media de 0 y una desviación estándar de 1. Esto permite que las redes neuronales con una mayor número de capas, como el Transformer, puedan entrenar más fácilmente."
      ]
    },
    {
      "cell_type": "code",
      "execution_count": null,
      "metadata": {
        "id": "_uaJKmWJA6GQ"
      },
      "outputs": [],
      "source": [
        "class EncoderBlock(nn.Module):\n",
        "    def __init__(self, hid_dim, n_heads, pf_dim, dropout, device):\n",
        "        super().__init__()\n",
        "\n",
        "        self.self_attn_layer_norm = nn.LayerNorm(hid_dim)\n",
        "        self.ff_layer_norm = nn.LayerNorm(hid_dim)\n",
        "        self.self_attention = MultiHeadAttentionLayer(hid_dim, n_heads, dropout, device)\n",
        "        self.positionwise_feedforward = PositionwiseFeedforwardLayer(hid_dim,\n",
        "                                                                     pf_dim,\n",
        "                                                                     dropout)\n",
        "        self.dropout = nn.Dropout(dropout)\n",
        "\n",
        "    def forward(self, src, src_mask):\n",
        "\n",
        "        #src = [batch size, src len, hid dim]\n",
        "        #src_mask = [batch size, 1, 1, src len]\n",
        "\n",
        "        #self attention\n",
        "        _src, _ = self.self_attention(src, src, src, src_mask)\n",
        "\n",
        "        #dropout, residual connection and layer norm\n",
        "        src = self.self_attn_layer_norm(src + self.dropout(_src))\n",
        "\n",
        "        #src = [batch size, src len, hid dim]\n",
        "\n",
        "        #positionwise feedforward\n",
        "        _src = self.positionwise_feedforward(src)\n",
        "\n",
        "        #dropout, residual and layer norm\n",
        "        src = self.ff_layer_norm(src + self.dropout(_src))\n",
        "\n",
        "        #src = [batch size, src len, hid dim]\n",
        "\n",
        "        return src"
      ]
    },
    {
      "cell_type": "markdown",
      "metadata": {
        "id": "VX1WyENPA6GO"
      },
      "source": [
        "### Encoder\n",
        "El encoder del Transformer no intenta comprimir toda la oración fuente, $ X = (x_1, ..., x_n) $, en un solo vector de contexto, $ z $. En su lugar, produce una secuencia de vectores de contexto, $ Z = (z_1, ..., z_n) $. De esta manera, si nuestra secuencia de entrada tuviera 5 tokens de longitud, tendríamos $ Z = (z_1, z_2, z_3, z_4, z_5) $. ¿Por qué llamamos a esto una secuencia de vectores de contexto y no una secuencia de variables ocultas? Porque una variable oculta en el momento $ t $ en una RNN solo ha visto el token $ x_t $ y todos los tokens anteriores. Sin embargo, cada vector de contexto aquí ha visto todos los tokens en todas las posiciones dentro de la secuencia de entrada.\n",
        "\n",
        "![](https://i.imgur.com/6gOHngA.png)\n",
        "\n",
        "Primero, los tokens se pasan a través de una capa de embedding estándar. A continuación, como el modelo no tiene recurrencias, no tiene idea del orden de los tokens dentro de la secuencia. Resolvemos este problema usando una segunda capa de incrustación llamada *capa de embedding posicional*. Esta es una capa de embedding estándar donde la entrada no es el token en sí, sino la posición del token dentro de la secuencia, comenzando con el primer token, el token `<bos>` (inicio de secuencia), en la posición 0. El embedding posicional tiene un tamaño de \"vocabulario\" de 100, lo que significa que nuestro modelo puede aceptar oraciones de hasta 100 tokens de longitud. Esto se puede aumentar si queremos manejar oraciones más largas.\n",
        "\n",
        "La implementación del Transformer original del paper \"Attention is All You Need\" no aprende los embedding posicionales. En su lugar, utiliza un embedding estático fijo. Las arquitecturas modernas de Transformer, como BERT, usan embedding posicionales aprendidos en su lugar, por lo tanto, hemos decidido usarlas en estos tutoriales. Consulte [esta](http://nlp.seas.harvard.edu/2018/04/03/attention.html#positional-encoding) sección para leer más sobre la codificación posicional utilizada en el modelo Transformer original.\n",
        "\n",
        "A continuación, el token y los embeddings posicionales se suman elemento a elemento para obtener un vector que contiene información sobre el token y también su posición en la secuencia. Sin embargo, antes de sumarlos, los embeddings de tokens se multiplican por un factor de escala que es $ \\sqrt{d_{modelo}} $, donde $ d_{modelo} $ es la dimensión de las capas ocultas, `hid_dim`. Esto supuestamente reduce la variación en los embeddings y el modelo es difícil de entrenar de manera confiable sin este factor de escala. A continuación, se aplica  dropout a los embeddings combinados.\n",
        "\n",
        "Los embeddings combinados se pasan a través de $ N $ *capas de encoder* para obtener $ Z $, que luego se envía y puede ser utilizado por el decoder.\n",
        "\n",
        "La máscara origen, `src_mask`, tiene simplemente la misma forma que la oración origen pero tiene un valor de 1 cuando el token en la oración origen no es un token` <pad> `y 0 cuando sí lo es. Esto se usa en las capas del encoder para enmascarar los mecanismos de atención de múltiples cabezales, que se usan para calcular y aplicar atención sobre la oración origen, por lo que el modelo no presta atención a los tokens `<pad>`, que no contienen información útil."
      ]
    },
    {
      "cell_type": "code",
      "execution_count": null,
      "metadata": {
        "id": "BKzNH8U6A6GP"
      },
      "outputs": [],
      "source": [
        "class Encoder(nn.Module):\n",
        "    def __init__(self,\n",
        "                 input_dim,\n",
        "                 hid_dim,\n",
        "                 n_layers,\n",
        "                 n_heads,\n",
        "                 pf_dim,\n",
        "                 dropout,\n",
        "                 device,\n",
        "                 max_length = 100):\n",
        "        super().__init__()\n",
        "\n",
        "        self.device = device\n",
        "\n",
        "        self.tok_embedding = nn.Embedding(input_dim, hid_dim)\n",
        "        self.pos_embedding = nn.Embedding(max_length, hid_dim)\n",
        "\n",
        "        self.layers = nn.ModuleList([EncoderBlock(hid_dim,\n",
        "                                                  n_heads,\n",
        "                                                  pf_dim,\n",
        "                                                  dropout,\n",
        "                                                  device)\n",
        "                                     for _ in range(n_layers)])\n",
        "\n",
        "        self.dropout = nn.Dropout(dropout)\n",
        "\n",
        "        self.scale = torch.sqrt(torch.FloatTensor([hid_dim])).to(device)\n",
        "\n",
        "    def forward(self, src, src_mask):\n",
        "\n",
        "        #src = [batch size, src len]\n",
        "        #src_mask = [batch size, 1, 1, src len]\n",
        "\n",
        "        batch_size = src.shape[0]\n",
        "        src_len = src.shape[1]\n",
        "\n",
        "        pos = torch.arange(0, src_len).unsqueeze(0).repeat(batch_size, 1).to(self.device)\n",
        "\n",
        "        #pos = [batch size, src len]\n",
        "\n",
        "        src = self.dropout((self.tok_embedding(src) * self.scale) + self.pos_embedding(pos))\n",
        "\n",
        "        #src = [batch size, src len, hid dim]\n",
        "\n",
        "        for layer in self.layers:\n",
        "            src = layer(src, src_mask)\n",
        "\n",
        "        #src = [batch size, src len, hid dim]\n",
        "\n",
        "        return src"
      ]
    },
    {
      "cell_type": "markdown",
      "metadata": {
        "id": "ltTk2_v0A6GS"
      },
      "source": [
        "### Decoder\n",
        "\n",
        "El objetivo del decoder es tomar la representación codificada de la oración origen, $ Z $, y convertirla en tokens predichos en la oración objetivo, $ \\hat {Y} $. Luego comparamos $ \\hat {Y} $ con los tokens reales en la oración objetivo, $ Y $, para calcular nuestra pérdida, que se usará para calcular los gradientes de nuestros parámetros y luego usamos nuestro optimizador para actualizar nuestros pesos de manera de mejorar nuestras predicciones.\n",
        "\n",
        "![](https://i.imgur.com/g5Armz5.png)\n",
        "\n",
        "El decoder es similar al encoder, sin embargo, tiene dos capas de atención de múltiples cabezales. Una *capa de auto-atención de múltiples cabezales enmascarada* sobre la secuencia objetivo, y una capa de atención de múltiples cabezales que usa la representación del decoder como consulta y la representación del encoder como clave y valor.\n",
        "\n",
        "El decoder utiliza embedding posicionales y los combina, a través de una suma elemento a elemento, con los embeddings escalados de los tokens de destino, seguidos de dropout. Nuevamente, nuestros embeddings posicionales tienen un \"vocabulario\" de 100, lo que significa que pueden aceptar secuencias de hasta 100 tokens de longitud. Esto se puede aumentar si se desea.\n",
        "\n",
        "Los embeddings combinados se pasan a través de las capas del decoder $ N $, junto con la frase origen codificada, `enc_src`, y las máscaras de origen y destino. Tenga en cuenta que la cantidad de capas en el encoder no tiene que ser igual a la cantidad de capas en el decoder, aunque ambas se denotan con $ N $.\n",
        "\n",
        "La representación del decoder después de la última capa se pasa a través de una capa densa, `fc_out`. En PyTorch, la operación softmax está contenida dentro de nuestra función de pérdida, por lo que no necesitamos explícitamente usar una capa softmax aquí.\n",
        "\n",
        "Además de usar la máscara de origen, como hicimos en el encoder para evitar que nuestro modelo preste atención a los tokens `<pad>`, también usamos una máscara de destino. Esto se explicará con más detalle en el modelo \"Seq2Seq\" que encapsula tanto el encoder como el decoder, pero lo esencial es que como estamos procesando todos los tokens de destino a la vez en paralelo, necesitamos un método para evitar que el decoder \"haga trampa\" simplemente \"mirando\" cuál es el siguiente token en la secuencia de destino y emitiéndolo como salida.\n",
        "\n",
        "Nuestro bloque de decoder también genera los valores de atención normalizados para que luego podamos graficarlos para ver a qué está prestando atención nuestro modelo."
      ]
    },
    {
      "cell_type": "code",
      "execution_count": null,
      "metadata": {
        "id": "C1jYtpE4A6GU"
      },
      "outputs": [],
      "source": [
        "class Decoder(nn.Module):\n",
        "    def __init__(self,\n",
        "                 output_dim,\n",
        "                 hid_dim,\n",
        "                 n_layers,\n",
        "                 n_heads,\n",
        "                 pf_dim,\n",
        "                 dropout,\n",
        "                 device,\n",
        "                 max_length = 100):\n",
        "        super().__init__()\n",
        "\n",
        "        self.device = device\n",
        "\n",
        "        self.tok_embedding = nn.Embedding(output_dim, hid_dim)\n",
        "        self.pos_embedding = nn.Embedding(max_length, hid_dim)\n",
        "\n",
        "        self.layers = nn.ModuleList([DecoderLayer(hid_dim,\n",
        "                                                  n_heads,\n",
        "                                                  pf_dim,\n",
        "                                                  dropout,\n",
        "                                                  device)\n",
        "                                     for _ in range(n_layers)])\n",
        "\n",
        "        self.fc_out = nn.Linear(hid_dim, output_dim)\n",
        "\n",
        "        self.dropout = nn.Dropout(dropout)\n",
        "\n",
        "        self.scale = torch.sqrt(torch.FloatTensor([hid_dim])).to(device)\n",
        "\n",
        "    def forward(self, trg, enc_src, trg_mask, src_mask):\n",
        "\n",
        "        #trg = [batch size, trg len]\n",
        "        #enc_src = [batch size, src len, hid dim]\n",
        "        #trg_mask = [batch size, 1, trg len, trg len]\n",
        "        #src_mask = [batch size, 1, 1, src len]\n",
        "\n",
        "        batch_size = trg.shape[0]\n",
        "        trg_len = trg.shape[1]\n",
        "\n",
        "        pos = torch.arange(0, trg_len).unsqueeze(0).repeat(batch_size, 1).to(self.device)\n",
        "\n",
        "        #pos = [batch size, trg len]\n",
        "\n",
        "        trg = self.dropout((self.tok_embedding(trg) * self.scale) + self.pos_embedding(pos))\n",
        "\n",
        "        #trg = [batch size, trg len, hid dim]\n",
        "\n",
        "        for layer in self.layers:\n",
        "            trg, attention = layer(trg, enc_src, trg_mask, src_mask)\n",
        "\n",
        "        #trg = [batch size, trg len, hid dim]\n",
        "        #attention = [batch size, n heads, trg len, src len]\n",
        "\n",
        "        output = self.fc_out(trg)\n",
        "\n",
        "        #output = [batch size, trg len, output dim]\n",
        "\n",
        "        return output, attention"
      ]
    },
    {
      "cell_type": "markdown",
      "metadata": {
        "id": "0J5FhLmbA6GU"
      },
      "source": [
        "### Bloque Decoder\n",
        "\n",
        "Como se mencionó anteriormente, el bloque decoder es similar al bloque encoder excepto que ahora tiene dos capas de atención de múltiples cabezales, \"self_attention\" y \"encoder_attention\".\n",
        "\n",
        "La primera realiza la auto-atención, como en el encoder, utilizando la representación del decoder hasta el momento como consulta, clave y valor. A esto le sigue el dropout, la conexión residual y la normalización por capas. Esta capa `self_attention` usa la máscara de secuencia objetivo,` trg_mask`, para evitar que el decoder \"haga trampas\" prestando atención a los tokens que están \"por delante\" del que está procesando actualmente, ya que procesa en paralelo todos los tokens en la oración objetivo.\n",
        "\n",
        "La segunda es la manera en que realmente alimentamos la oración origen codificada, `enc_src`, en nuestro decoder. En esta capa de atención de múltiples cabezales, las consultas son las representaciones del decoder hasta el momento y las claves y valores son las representaciones del encoder. Aquí, la máscara de origen, `src_mask` se usa para evitar que la capa de atención de múltiples cabezales preste atención a los tokens ` <pad> ` dentro de la oración de origen. A esto le siguen la capa de dropout, la conexión residual y la capa de normalización por capas.\n",
        "\n",
        "Finalmente, pasamos esto a través de la capa feed-forward posicional y otra secuencia de dropout, conexión residual y normalización por capa.\n",
        "\n",
        "El bloque decoder no está introduciendo ningún concepto nuevo, solo usa el mismo conjunto de capas que el bloque encoder de una manera ligeramente diferente."
      ]
    },
    {
      "cell_type": "code",
      "execution_count": null,
      "metadata": {
        "id": "P8SKdOSFA6GU"
      },
      "outputs": [],
      "source": [
        "class DecoderLayer(nn.Module):\n",
        "    def __init__(self,\n",
        "                 hid_dim,\n",
        "                 n_heads,\n",
        "                 pf_dim,\n",
        "                 dropout,\n",
        "                 device):\n",
        "        super().__init__()\n",
        "\n",
        "        self.self_attn_layer_norm = nn.LayerNorm(hid_dim)\n",
        "        self.enc_attn_layer_norm = nn.LayerNorm(hid_dim)\n",
        "        self.ff_layer_norm = nn.LayerNorm(hid_dim)\n",
        "        self.self_attention = MultiHeadAttentionLayer(hid_dim, n_heads, dropout, device)\n",
        "        self.encoder_attention = MultiHeadAttentionLayer(hid_dim, n_heads, dropout, device)\n",
        "        self.positionwise_feedforward = PositionwiseFeedforwardLayer(hid_dim,\n",
        "                                                                     pf_dim,\n",
        "                                                                     dropout)\n",
        "        self.dropout = nn.Dropout(dropout)\n",
        "\n",
        "    def forward(self, trg, enc_src, trg_mask, src_mask):\n",
        "\n",
        "        #trg = [batch size, trg len, hid dim]\n",
        "        #enc_src = [batch size, src len, hid dim]\n",
        "        #trg_mask = [batch size, 1, trg len, trg len]\n",
        "        #src_mask = [batch size, 1, 1, src len]\n",
        "\n",
        "        #self attention\n",
        "        _trg, _ = self.self_attention(trg, trg, trg, trg_mask)\n",
        "\n",
        "        #dropout, residual connection and layer norm\n",
        "        trg = self.self_attn_layer_norm(trg + self.dropout(_trg))\n",
        "\n",
        "        #trg = [batch size, trg len, hid dim]\n",
        "\n",
        "        #encoder attention\n",
        "        _trg, attention = self.encoder_attention(trg, enc_src, enc_src, src_mask)\n",
        "\n",
        "        #dropout, residual connection and layer norm\n",
        "        trg = self.enc_attn_layer_norm(trg + self.dropout(_trg))\n",
        "\n",
        "        #trg = [batch size, trg len, hid dim]\n",
        "\n",
        "        #positionwise feedforward\n",
        "        _trg = self.positionwise_feedforward(trg)\n",
        "\n",
        "        #dropout, residual and layer norm\n",
        "        trg = self.ff_layer_norm(trg + self.dropout(_trg))\n",
        "\n",
        "        #trg = [batch size, trg len, hid dim]\n",
        "        #attention = [batch size, n heads, trg len, src len]\n",
        "\n",
        "        return trg, attention"
      ]
    },
    {
      "cell_type": "markdown",
      "metadata": {
        "id": "-GHVs7BnA6GV"
      },
      "source": [
        "### Seq2Seq\n",
        "\n",
        "Finalmente, tenemos el módulo `Seq2Seq` que encapsula el encoder y decoder, además de manejar la creación de las máscaras.\n",
        "\n",
        "La máscara de origen se crea comprobando dónde la secuencia de origen no es igual a un token `<pad>`. Es 1 cuando el token no es un token `<pad>` y 0 cuando lo es. Luego se hace un unsqueeze para que se pueda aplicar correctamente el broadcast al aplicar la máscara a la \"energía\", que tiene forma **_[batch size, n heads, seq len, seq len]_**.\n",
        "\n",
        "La máscara de destino es un poco más complicada. Primero, creamos una máscara para los tokens `<pad>`, como hicimos para la máscara de origen. A continuación, creamos una máscara \"subsecuente\", `trg_sub_mask`, usando` torch.tril`. Esto crea una matriz diagonal donde los elementos por encima de la diagonal serán cero y los elementos por debajo de la diagonal se establecerán en lo que sea que valga el tensor de entrada. En este caso, el tensor de entrada será un tensor lleno de unos. Entonces esto significa que nuestro `trg_sub_mask` se verá así (para un objetivo con 5 tokens):\n",
        "\n",
        "$$\\begin{matrix}\n",
        "1 & 0 & 0 & 0 & 0\\\\\n",
        "1 & 1 & 0 & 0 & 0\\\\\n",
        "1 & 1 & 1 & 0 & 0\\\\\n",
        "1 & 1 & 1 & 1 & 0\\\\\n",
        "1 & 1 & 1 & 1 & 1\\\\\n",
        "\\end{matrix}$$\n",
        "\n",
        "Esto muestra lo que cada token de destino (fila) está autorizado a mirar (columna). El primer token de destino tiene una máscara de **_[1, 0, 0, 0, 0]_**, lo que significa que solo puede mirarse a sí mismo. El segundo token de destino tiene una máscara de **_[1, 1, 0, 0, 0]_**, lo que significa que puede ver el primer y el segundo token de destino.\n",
        "\n",
        "A continuación, a la máscara \"subsecuente\" se le aplica un AND lógico con la máscara de relleno, esto combina las dos máscaras, lo que garantiza que no se puedan atender ni a los tokens posteriores ni a los tokens de relleno. Por ejemplo, si los dos últimos tokens fueran tokens `<pad>`, la máscara se vería así:\n",
        "\n",
        "$$\\begin{matrix}\n",
        "1 & 0 & 0 & 0 & 0\\\\\n",
        "1 & 1 & 0 & 0 & 0\\\\\n",
        "1 & 1 & 1 & 0 & 0\\\\\n",
        "1 & 1 & 1 & 0 & 0\\\\\n",
        "1 & 1 & 1 & 0 & 0\\\\\n",
        "\\end{matrix}$$\n",
        "\n",
        "Una vez creadas las máscaras, se utilizan con el encoder y el decoder junto con las oraciones de origen y destino para obtener nuestra oración de destino predicha, `output`, junto con la atención del decoder sobre la secuencia de origen."
      ]
    },
    {
      "cell_type": "code",
      "execution_count": null,
      "metadata": {
        "id": "IuRrbmDMA6GV"
      },
      "outputs": [],
      "source": [
        "class Seq2Seq(nn.Module):\n",
        "    def __init__(self,\n",
        "                 encoder,\n",
        "                 decoder,\n",
        "                 src_pad_idx,\n",
        "                 trg_pad_idx,\n",
        "                 device):\n",
        "        super().__init__()\n",
        "\n",
        "        self.encoder = encoder\n",
        "        self.decoder = decoder\n",
        "        self.src_pad_idx = src_pad_idx\n",
        "        self.trg_pad_idx = trg_pad_idx\n",
        "        self.device = device\n",
        "\n",
        "    def make_src_mask(self, src):\n",
        "\n",
        "        #src = [batch size, src len]\n",
        "\n",
        "        src_mask = (src != self.src_pad_idx).unsqueeze(1).unsqueeze(2)\n",
        "\n",
        "        #src_mask = [batch size, 1, 1, src len]\n",
        "\n",
        "        return src_mask\n",
        "\n",
        "    def make_trg_mask(self, trg):\n",
        "\n",
        "        #trg = [batch size, trg len]\n",
        "\n",
        "        trg_pad_mask = (trg != self.trg_pad_idx).unsqueeze(1).unsqueeze(2)\n",
        "\n",
        "        #trg_pad_mask = [batch size, 1, 1, trg len]\n",
        "\n",
        "        trg_len = trg.shape[1]\n",
        "\n",
        "        trg_sub_mask = torch.tril(torch.ones((trg_len, trg_len), device = self.device)).bool()\n",
        "\n",
        "        #trg_sub_mask = [trg len, trg len]\n",
        "\n",
        "        trg_mask = trg_pad_mask & trg_sub_mask\n",
        "\n",
        "        #trg_mask = [batch size, 1, trg len, trg len]\n",
        "\n",
        "        return trg_mask\n",
        "\n",
        "    def forward(self, src, trg):\n",
        "\n",
        "        #src = [batch size, src len]\n",
        "        #trg = [batch size, trg len]\n",
        "\n",
        "        src_mask = self.make_src_mask(src)\n",
        "        trg_mask = self.make_trg_mask(trg)\n",
        "\n",
        "        #src_mask = [batch size, 1, 1, src len]\n",
        "        #trg_mask = [batch size, 1, trg len, trg len]\n",
        "\n",
        "        enc_src = self.encoder(src, src_mask)\n",
        "\n",
        "        #enc_src = [batch size, src len, hid dim]\n",
        "\n",
        "        output, attention = self.decoder(trg, enc_src, trg_mask, src_mask)\n",
        "\n",
        "        #output = [batch size, trg len, output dim]\n",
        "        #attention = [batch size, n heads, trg len, src len]\n",
        "\n",
        "        return output, attention"
      ]
    },
    {
      "cell_type": "markdown",
      "metadata": {
        "id": "YPpapCBrA6GW"
      },
      "source": [
        "## Entrenamiento del modelo Seq2Seq\n",
        "\n",
        "Ahora podemos definir nuestro encoder y decoder. Este modelo es significativamente más pequeño que los Transformers que se utilizan en investigación hoy en día, pero se puede ejecutar rápidamente en una sola GPU."
      ]
    },
    {
      "cell_type": "code",
      "execution_count": null,
      "metadata": {
        "id": "E2WlzQbOA6GW"
      },
      "outputs": [],
      "source": [
        "device = torch.device(\"cuda\" if torch.cuda.is_available() else \"cpu\")\n",
        "INPUT_DIM = len(vocab_src)\n",
        "OUTPUT_DIM = len(vocab_tgt)\n",
        "HID_DIM = 256\n",
        "ENC_LAYERS = 3\n",
        "DEC_LAYERS = 3\n",
        "ENC_HEADS = 8\n",
        "DEC_HEADS = 8\n",
        "ENC_PF_DIM = 512\n",
        "DEC_PF_DIM = 512\n",
        "ENC_DROPOUT = 0.1\n",
        "DEC_DROPOUT = 0.1\n",
        "\n",
        "enc = Encoder(INPUT_DIM,\n",
        "              HID_DIM,\n",
        "              ENC_LAYERS,\n",
        "              ENC_HEADS,\n",
        "              ENC_PF_DIM,\n",
        "              ENC_DROPOUT,\n",
        "              device)\n",
        "\n",
        "dec = Decoder(OUTPUT_DIM,\n",
        "              HID_DIM,\n",
        "              DEC_LAYERS,\n",
        "              DEC_HEADS,\n",
        "              DEC_PF_DIM,\n",
        "              DEC_DROPOUT,\n",
        "              device)\n",
        "\n"
      ]
    },
    {
      "cell_type": "markdown",
      "metadata": {
        "id": "_kR-iHeZA6GW"
      },
      "source": [
        "Luego, los utilizamos para definir todo nuestro modelo de secuencia a secuencia encapsulado."
      ]
    },
    {
      "cell_type": "code",
      "execution_count": null,
      "metadata": {
        "id": "DSJbATbDA6GW"
      },
      "outputs": [],
      "source": [
        "SRC_PAD_IDX = vocab_src['<pad>']\n",
        "TGT_PAD_IDX = vocab_tgt['<pad>']\n",
        "\n",
        "model = Seq2Seq(enc, dec, SRC_PAD_IDX, TGT_PAD_IDX, device).to(device)"
      ]
    },
    {
      "cell_type": "markdown",
      "metadata": {
        "id": "dBGeDuqqA6GW"
      },
      "source": [
        "Podemos verificar el número de parámetros..."
      ]
    },
    {
      "cell_type": "code",
      "execution_count": null,
      "metadata": {
        "colab": {
          "base_uri": "https://localhost:8080/"
        },
        "id": "3McPPu0LA6GW",
        "outputId": "0934a9cb-baaf-450f-c3df-2e65f46ad52f"
      },
      "outputs": [
        {
          "output_type": "stream",
          "name": "stdout",
          "text": [
            "The model has 14,042,632 trainable parameters\n"
          ]
        }
      ],
      "source": [
        "def count_parameters(model):\n",
        "    return sum(p.numel() for p in model.parameters() if p.requires_grad)\n",
        "\n",
        "print(f'The model has {count_parameters(model):,} trainable parameters')"
      ]
    },
    {
      "cell_type": "markdown",
      "metadata": {
        "id": "w54TbGfXA6GX"
      },
      "source": [
        "El documento no menciona qué esquema de inicialización de pesos se usó, sin embargo, Xavier parece ser común entre los modelos de Transformer, así que lo usamos aquí."
      ]
    },
    {
      "cell_type": "code",
      "execution_count": null,
      "metadata": {
        "id": "9FO86PNJA6GX"
      },
      "outputs": [],
      "source": [
        "def initialize_weights(m):\n",
        "    if hasattr(m, 'weight') and m.weight.dim() > 1:\n",
        "        nn.init.xavier_uniform_(m.weight.data)"
      ]
    },
    {
      "cell_type": "code",
      "execution_count": null,
      "metadata": {
        "id": "bpE5QBwLA6GX"
      },
      "outputs": [],
      "source": [
        "model.apply(initialize_weights);"
      ]
    },
    {
      "cell_type": "markdown",
      "metadata": {
        "id": "UbaglMWaA6GY"
      },
      "source": [
        "El optimizador utilizado en el paper original de Transformer utiliza a Adam con una tasa de aprendizaje que tiene un período de \"calentamiento\" y luego un período de \"enfriamiento\". BERT y otros modelos de Transformer usan Adam con una tasa de aprendizaje fija, así que lo vamos a implementar así. Consulte  [este](http://nlp.seas.harvard.edu/2018/04/03/attention.html#optimizer) enlace para obtener más detalles sobre la programación de la tasa de aprendizaje del Transformer original.\n",
        "\n",
        "Tenga en cuenta que la tasa de aprendizaje debe ser más baja que la predeterminada utilizada por Adam o, de lo contrario, el aprendizaje es inestable."
      ]
    },
    {
      "cell_type": "code",
      "execution_count": null,
      "metadata": {
        "id": "Lruyu6kNA6GY"
      },
      "outputs": [],
      "source": [
        "LEARNING_RATE = 0.0005\n",
        "\n",
        "optimizer = torch.optim.Adam(model.parameters(), lr = LEARNING_RATE)"
      ]
    },
    {
      "cell_type": "markdown",
      "metadata": {
        "id": "CA4cYzRHA6GY"
      },
      "source": [
        "A continuación, definimos nuestra función de pérdida, asegurándonos de ignorar las pérdidas calculadas sobre los tokens `<pad>`."
      ]
    },
    {
      "cell_type": "code",
      "execution_count": null,
      "metadata": {
        "id": "Ge2EpK6HA6GY"
      },
      "outputs": [],
      "source": [
        "criterion = nn.CrossEntropyLoss(ignore_index = TGT_PAD_IDX)"
      ]
    },
    {
      "cell_type": "markdown",
      "metadata": {
        "id": "gjE6_AqrA6GZ"
      },
      "source": [
        "Luego, vamos a definir nuestro ciclo de entrenamiento.\n",
        "\n",
        "Como queremos que nuestro modelo prediga el token `<eos>` pero que no sea una entrada en nuestro modelo, simplemente cortamos el token `<eos>` del final de la secuencia. Por lo tanto:\n",
        "\n",
        "$$\\begin{align*}\n",
        "\\text{trg} &= [sos, x_1, x_2, x_3, eos]\\\\\n",
        "\\text{trg[:-1]} &= [sos, x_1, x_2, x_3]\n",
        "\\end{align*}$$\n",
        "\n",
        "$ x_i $ denota el elemento real de la secuencia objetivo. Luego introducimos esto en el modelo para obtener una secuencia predicha que, con suerte, debería predecir el token `<eos>`:\n",
        "\n",
        "$$\\begin{align*}\n",
        "\\text{output} &= [y_1, y_2, y_3, eos]\n",
        "\\end{align*}$$\n",
        "\n",
        "$ y_i $ denota el elemento de secuencia objetivo predicho. Luego calculamos nuestra pérdida usando el tensor `trg` original con la ficha` <sos> ` eliminada del frente, dejando la ficha` <eos> `:\n",
        "\n",
        "$$\\begin{align*}\n",
        "\\text{output} &= [y_1, y_2, y_3, eos]\\\\\n",
        "\\text{trg[1:]} &= [x_1, x_2, x_3, eos]\n",
        "\\end{align*}$$\n",
        "\n",
        "Luego calculamos nuestras pérdidas y actualizamos nuestros parámetros como es estándar."
      ]
    },
    {
      "cell_type": "code",
      "execution_count": null,
      "metadata": {
        "id": "rErUo2hfA6GZ"
      },
      "outputs": [],
      "source": [
        "def train(model, iterator, optimizer, criterion, clip):\n",
        "\n",
        "    model.train()\n",
        "\n",
        "    epoch_loss = 0\n",
        "\n",
        "    for i, batch in enumerate(iterator):\n",
        "        src, trg = batch\n",
        "        src, trg = src.permute(1,0).to(device), trg.permute(1,0).to(device)\n",
        "\n",
        "        optimizer.zero_grad()\n",
        "\n",
        "\n",
        "        output, _ = model(src, trg[:,:-1])\n",
        "\n",
        "        #output = [batch size, trg len - 1, output dim]\n",
        "        #trg = [batch size, trg len]\n",
        "\n",
        "        output_dim = output.shape[-1]\n",
        "\n",
        "        output = output.contiguous().view(-1, output_dim)\n",
        "        trg = trg[:,1:].contiguous().view(-1)\n",
        "\n",
        "        #output = [batch size * trg len - 1, output dim]\n",
        "        #trg = [batch size * trg len - 1]\n",
        "\n",
        "        loss = criterion(output, trg)\n",
        "\n",
        "        loss.backward()\n",
        "\n",
        "        torch.nn.utils.clip_grad_norm_(model.parameters(), clip)\n",
        "\n",
        "        optimizer.step()\n",
        "\n",
        "        epoch_loss += loss.item()\n",
        "\n",
        "    return epoch_loss / len(iterator)"
      ]
    },
    {
      "cell_type": "markdown",
      "metadata": {
        "id": "-FlhnAZIA6GZ"
      },
      "source": [
        "El ciclo de evaluación es el mismo que el ciclo de entrenamiento, solo que sin los cálculos de gradiente y las actualizaciones de parámetros."
      ]
    },
    {
      "cell_type": "code",
      "execution_count": null,
      "metadata": {
        "id": "HlTv3eYaA6GZ"
      },
      "outputs": [],
      "source": [
        "def evaluate(model, iterator, criterion):\n",
        "\n",
        "    model.eval()\n",
        "\n",
        "    epoch_loss = 0\n",
        "\n",
        "    with torch.no_grad():\n",
        "\n",
        "        for i, batch in enumerate(iterator):\n",
        "            src, trg = batch\n",
        "            src, trg = src.permute(1,0).to(device), trg.permute(1,0).to(device)\n",
        "            output, _ = model(src, trg[:,:-1])\n",
        "\n",
        "            #output = [batch size, trg len - 1, output dim]\n",
        "            #trg = [batch size, trg len]\n",
        "\n",
        "            output_dim = output.shape[-1]\n",
        "\n",
        "            output = output.contiguous().view(-1, output_dim)\n",
        "            trg = trg[:,1:].contiguous().view(-1)\n",
        "\n",
        "            #output = [batch size * trg len - 1, output dim]\n",
        "            #trg = [batch size * trg len - 1]\n",
        "\n",
        "            loss = criterion(output, trg)\n",
        "\n",
        "            epoch_loss += loss.item()\n",
        "\n",
        "    return epoch_loss / len(iterator)"
      ]
    },
    {
      "cell_type": "markdown",
      "metadata": {
        "id": "VtwlY6t-A6Ga"
      },
      "source": [
        "Luego definimos una pequeña función que podemos usar para decirnos cuánto tarda una época."
      ]
    },
    {
      "cell_type": "code",
      "execution_count": null,
      "metadata": {
        "id": "Zu2ZVoOlA6Gb"
      },
      "outputs": [],
      "source": [
        "def epoch_time(start_time, end_time):\n",
        "    elapsed_time = end_time - start_time\n",
        "    elapsed_mins = int(elapsed_time / 60)\n",
        "    elapsed_secs = int(elapsed_time - (elapsed_mins * 60))\n",
        "    return elapsed_mins, elapsed_secs"
      ]
    },
    {
      "cell_type": "markdown",
      "metadata": {
        "id": "pdSyPhFQA6Gb"
      },
      "source": [
        "Finalmente, entrenamos nuestro modelo."
      ]
    },
    {
      "cell_type": "code",
      "execution_count": null,
      "metadata": {
        "colab": {
          "base_uri": "https://localhost:8080/"
        },
        "id": "LInHGoULA6Gb",
        "outputId": "d8b8be4f-303c-4680-de13-6caf5f5fa42a"
      },
      "outputs": [
        {
          "output_type": "stream",
          "name": "stdout",
          "text": [
            "Epoch: 01 | Time: 0m 52s\n",
            "\tTrain Loss: 3.557 | Train PPL:  35.066\n",
            "\t Val. Loss: 2.599 |  Val. PPL:  13.444\n",
            "Epoch: 02 | Time: 0m 51s\n",
            "\tTrain Loss: 2.076 | Train PPL:   7.970\n",
            "\t Val. Loss: 1.721 |  Val. PPL:   5.590\n",
            "Epoch: 03 | Time: 0m 51s\n",
            "\tTrain Loss: 1.529 | Train PPL:   4.614\n",
            "\t Val. Loss: 1.317 |  Val. PPL:   3.734\n",
            "Epoch: 04 | Time: 0m 51s\n",
            "\tTrain Loss: 1.250 | Train PPL:   3.490\n",
            "\t Val. Loss: 1.130 |  Val. PPL:   3.095\n",
            "Epoch: 05 | Time: 0m 51s\n",
            "\tTrain Loss: 1.077 | Train PPL:   2.935\n",
            "\t Val. Loss: 1.025 |  Val. PPL:   2.788\n",
            "Epoch: 06 | Time: 0m 51s\n",
            "\tTrain Loss: 0.959 | Train PPL:   2.609\n",
            "\t Val. Loss: 0.975 |  Val. PPL:   2.652\n",
            "Epoch: 07 | Time: 0m 51s\n",
            "\tTrain Loss: 0.870 | Train PPL:   2.386\n",
            "\t Val. Loss: 0.912 |  Val. PPL:   2.491\n",
            "Epoch: 08 | Time: 0m 51s\n",
            "\tTrain Loss: 0.801 | Train PPL:   2.228\n",
            "\t Val. Loss: 0.857 |  Val. PPL:   2.355\n",
            "Epoch: 09 | Time: 0m 51s\n",
            "\tTrain Loss: 0.744 | Train PPL:   2.105\n",
            "\t Val. Loss: 0.825 |  Val. PPL:   2.282\n",
            "Epoch: 10 | Time: 0m 51s\n",
            "\tTrain Loss: 0.698 | Train PPL:   2.009\n",
            "\t Val. Loss: 0.803 |  Val. PPL:   2.232\n"
          ]
        }
      ],
      "source": [
        "N_EPOCHS = 10\n",
        "CLIP = 1\n",
        "\n",
        "best_valid_loss = float('inf')\n",
        "\n",
        "for epoch in range(N_EPOCHS):\n",
        "\n",
        "    start_time = time.time()\n",
        "\n",
        "    train_loss = train(model, train_iter, optimizer, criterion, CLIP)\n",
        "    valid_loss = evaluate(model, val_iter, criterion)\n",
        "\n",
        "    end_time = time.time()\n",
        "\n",
        "    epoch_mins, epoch_secs = epoch_time(start_time, end_time)\n",
        "\n",
        "    if valid_loss < best_valid_loss:\n",
        "        best_valid_loss = valid_loss\n",
        "        torch.save(model.state_dict(), 'tut6-model.pt')\n",
        "\n",
        "    print(f'Epoch: {epoch+1:02} | Time: {epoch_mins}m {epoch_secs}s')\n",
        "    print(f'\\tTrain Loss: {train_loss:.3f} | Train PPL: {math.exp(train_loss):7.3f}')\n",
        "    print(f'\\t Val. Loss: {valid_loss:.3f} |  Val. PPL: {math.exp(valid_loss):7.3f}')"
      ]
    },
    {
      "cell_type": "markdown",
      "metadata": {
        "id": "5otdslonA6Gc"
      },
      "source": [
        "Cargamos nuestros \"mejores\" parámetros y logramos lograr una mejor perplejidad de prueba que todos los modelos que probamos en clases anteriores."
      ]
    },
    {
      "cell_type": "code",
      "execution_count": null,
      "metadata": {
        "id": "R0ONyrtpA6Gd",
        "colab": {
          "base_uri": "https://localhost:8080/"
        },
        "outputId": "76a3d630-f028-4b5f-ac0e-55dadc21b6e3"
      },
      "outputs": [
        {
          "output_type": "stream",
          "name": "stdout",
          "text": [
            "| Test Loss: 0.805 | Test PPL:   2.238 |\n"
          ]
        }
      ],
      "source": [
        "model.load_state_dict(torch.load('tut6-model.pt',weights_only=True))\n",
        "\n",
        "test_loss = evaluate(model, test_iter, criterion)\n",
        "\n",
        "print(f'| Test Loss: {test_loss:.3f} | Test PPL: {math.exp(test_loss):7.3f} |')"
      ]
    },
    {
      "cell_type": "markdown",
      "metadata": {
        "id": "j9wF9q6SSNVv"
      },
      "source": [
        "## Inferencia"
      ]
    },
    {
      "cell_type": "markdown",
      "metadata": {
        "id": "UYbtH6AJA6Gd"
      },
      "source": [
        "\n",
        "\n",
        "Ahora con nuestro modelo podemos realizar traducciones con la función `translate_sentence` a continuación.\n",
        "\n",
        "Los pasos dados son:\n",
        "- tokenizar la oración origen si no se ha tokenizado\n",
        "- añadir los tokens `<bos>` y `<eos>`\n",
        "- numericalizar la oración fuente (asignarle un entero a cada token)\n",
        "- convertir en un tensor y agregar una dimensión de lote\n",
        "- crear la máscara de la oración fuente\n",
        "- alimentar la frase origen y la máscara en el encoder\n",
        "- crear una lista para contener la oración de salida, inicializada con un token `<sos>`\n",
        "- mientras no hayamos alcanzado una longitud máxima\n",
        "  - convertir la predicción actual de la oración de salida en un tensor con una dimensión de lote\n",
        "  - crear una máscara de oración de destino\n",
        "  - colocar la salida actual, la salida del encoder y ambas máscaras en el decoder\n",
        "  - obtener la próxima predicción del token de salida del decoder junto con la atención\n",
        "  - agregar predicción a la lista de predicciones de la oración de salida actual\n",
        "  - meter un break si la predicción fue un token `<eos>`\n",
        "- convertir la oración de salida de índices a tokens\n",
        "- devolver la oración de salida (con el token `<sos>` eliminado) y la atención de la última capa"
      ]
    },
    {
      "cell_type": "code",
      "execution_count": null,
      "metadata": {
        "id": "EdsX6btTA6Gd"
      },
      "outputs": [],
      "source": [
        "def translate_sentence(sentence, src_vocab, trg_vocab, model, device, max_len = 50):\n",
        "\n",
        "    model.eval()\n",
        "\n",
        "    tokens = [token.lower() for token in sentence]\n",
        "\n",
        "    tokens = tokens[:]\n",
        "\n",
        "    src_indexes = [src_vocab[token] for token in tokens]\n",
        "\n",
        "    src_tensor = torch.LongTensor(src_indexes).unsqueeze(0).to(device)\n",
        "\n",
        "    src_mask = model.make_src_mask(src_tensor)\n",
        "\n",
        "    with torch.no_grad():\n",
        "        enc_src = model.encoder(src_tensor, src_mask)\n",
        "\n",
        "    trg_indexes = [trg_vocab['<bos>']]\n",
        "\n",
        "    for i in range(max_len):\n",
        "\n",
        "        trg_tensor = torch.LongTensor(trg_indexes).unsqueeze(0).to(device)\n",
        "\n",
        "        trg_mask = model.make_trg_mask(trg_tensor)\n",
        "\n",
        "        with torch.no_grad():\n",
        "            output, attention = model.decoder(trg_tensor, enc_src, trg_mask, src_mask)\n",
        "\n",
        "        pred_token = output.argmax(2)[:,-1].item()\n",
        "\n",
        "        trg_indexes.append(pred_token)\n",
        "\n",
        "        if pred_token == trg_vocab['<eos>']:\n",
        "            break\n",
        "\n",
        "    trg_tokens = [trg_vocab.idx_to_token[i] for i in trg_indexes]\n",
        "\n",
        "    return trg_tokens[1:], attention"
      ]
    },
    {
      "cell_type": "markdown",
      "metadata": {
        "id": "DUAFtHzjA6Ge"
      },
      "source": [
        "Ahora definiremos una función que muestra la atención sobre la oración fuente para cada paso de la decodificación. Como este modelo tiene 8 cabezales podemos ver la atención para cada una de ellos."
      ]
    },
    {
      "cell_type": "code",
      "execution_count": null,
      "metadata": {
        "id": "JuBWFzL3A6Ge"
      },
      "outputs": [],
      "source": [
        "def display_attention(sentence, translation, attention, n_heads = 8, n_rows = 4, n_cols = 2):\n",
        "\n",
        "    assert n_rows * n_cols == n_heads\n",
        "\n",
        "    fig = plt.figure(figsize=(15,25))\n",
        "\n",
        "    for i in range(n_heads):\n",
        "\n",
        "        ax = fig.add_subplot(n_rows, n_cols, i+1)\n",
        "\n",
        "        _attention = attention.squeeze(0)[i].cpu().detach().numpy()\n",
        "\n",
        "        cax = ax.matshow(_attention, cmap='bone')\n",
        "\n",
        "        ax.tick_params(labelsize=12)\n",
        "        ax.set_xticklabels(['']+[t.lower() for t in sentence],\n",
        "                           rotation=45)\n",
        "        ax.set_yticklabels(['']+translation)\n",
        "\n",
        "        ax.xaxis.set_major_locator(ticker.MultipleLocator(1))\n",
        "        ax.yaxis.set_major_locator(ticker.MultipleLocator(1))\n",
        "\n",
        "    plt.show()\n",
        "    plt.close()"
      ]
    },
    {
      "cell_type": "markdown",
      "metadata": {
        "id": "-5YT-Q3FA6Ge"
      },
      "source": [
        "Primero, obtendremos un ejemplo del conjunto de entrenamiento."
      ]
    },
    {
      "cell_type": "code",
      "execution_count": null,
      "metadata": {
        "id": "o5h-0p-iWGO9",
        "colab": {
          "base_uri": "https://localhost:8080/"
        },
        "outputId": "309714d3-fe2a-47b9-8670-a95e3dacd784"
      },
      "outputs": [
        {
          "output_type": "stream",
          "name": "stdout",
          "text": [
            "src = ['Tom', 'is', 'a', 'very', 'close', 'friend', 'of', 'mine', '.', '<eos>']\n",
            "trg = ['<bos>', 'Tom', 'es', 'un', 'amigo', 'mío', 'muy', 'cercano', '.', '<eos>']\n"
          ]
        }
      ],
      "source": [
        "example_idx = 36\n",
        "\n",
        "src, length, trg  = dataset_train[example_idx]\n",
        "print(f'src = {src}')\n",
        "print(f'trg = {trg}')"
      ]
    },
    {
      "cell_type": "markdown",
      "metadata": {
        "id": "ZFIo-PIuA6Ge"
      },
      "source": [
        "Nuestra traducción se ve bastante bien, aunque nuestro modelo cambia *is walking by* por *walks by*. El significado sigue siendo el mismo."
      ]
    },
    {
      "cell_type": "code",
      "execution_count": null,
      "metadata": {
        "id": "YLRw8FVOA6Gf",
        "colab": {
          "base_uri": "https://localhost:8080/"
        },
        "outputId": "25023ce4-4c71-43ca-d688-39a3312edb1a"
      },
      "outputs": [
        {
          "output_type": "stream",
          "name": "stdout",
          "text": [
            "predicted trg = ['<unk>', 'es', 'un', 'amigo', 'muy', 'cercano', 'mío', '.', '<eos>']\n"
          ]
        }
      ],
      "source": [
        "translation, attention = translate_sentence(src, vocab_src, vocab_tgt, model, device)\n",
        "\n",
        "print(f'predicted trg = {translation}')"
      ]
    },
    {
      "cell_type": "markdown",
      "metadata": {
        "id": "vgzWSchUA6Gf"
      },
      "source": [
        "Podemos ver la atención de cada cabezal a continuación. Cada uno es ciertamente diferente, pero es difícil (quizás imposible) razonar sobre a qué ha aprendido realmente a prestar atención. Algunos cabezales prestan toda su atención a \"eine\" cuando traducen \"a\", otros no lo hacen en absoluto y otros lo hacen un poco. Todos parecen seguir el patrón similar de \"escalera descendente\" y la atención al sacar las dos últimas fichas se distribuye por igual entre las dos últimas fichas de la oración de entrada."
      ]
    },
    {
      "cell_type": "code",
      "execution_count": null,
      "metadata": {
        "id": "3_VBMcJaA6Gf",
        "colab": {
          "base_uri": "https://localhost:8080/",
          "height": 1000
        },
        "outputId": "0fb81b08-08a9-4465-e6eb-000ef0691e1a"
      },
      "outputs": [
        {
          "output_type": "stream",
          "name": "stderr",
          "text": [
            "<ipython-input-47-cfbacb0c00fc>:16: UserWarning: FixedFormatter should only be used together with FixedLocator\n",
            "  ax.set_xticklabels(['']+[t.lower() for t in sentence],\n",
            "<ipython-input-47-cfbacb0c00fc>:18: UserWarning: FixedFormatter should only be used together with FixedLocator\n",
            "  ax.set_yticklabels(['']+translation)\n"
          ]
        },
        {
          "output_type": "display_data",
          "data": {
            "text/plain": [
              "<Figure size 1500x2500 with 8 Axes>"
            ],
            "image/png": "[encoded data removed]"
          },
          "metadata": {}
        }
      ],
      "source": [
        "display_attention(src, translation, attention)"
      ]
    },
    {
      "cell_type": "markdown",
      "metadata": {
        "id": "sqpyN8iJA6Gg"
      },
      "source": [
        "A continuación, obtengamos un ejemplo con el que no se ha entrenado el modelo desde el conjunto de validación."
      ]
    },
    {
      "cell_type": "code",
      "execution_count": null,
      "metadata": {
        "id": "zqXAsupHA6Gg",
        "colab": {
          "base_uri": "https://localhost:8080/"
        },
        "outputId": "6e18191c-3420-4a36-fe20-9c3ebbd1ee03"
      },
      "outputs": [
        {
          "output_type": "stream",
          "name": "stdout",
          "text": [
            "src = ['Tom', 'is', 'a', 'skillful', 'carpenter', '.', '<eos>']\n",
            "trg = ['<bos>', 'Tom', 'es', 'un', 'carpintero', 'dotado', '.', '<eos>']\n"
          ]
        }
      ],
      "source": [
        "example_idx = 15\n",
        "\n",
        "src, length, trg  = dataset_val[example_idx]\n",
        "print(f'src = {src}')\n",
        "print(f'trg = {trg}')"
      ]
    },
    {
      "cell_type": "markdown",
      "metadata": {
        "id": "2gQiVLjqA6Gg"
      },
      "source": [
        "El modelo lo traduce cambiando \"*is running*\" a simplemente \"*runs*\", pero es un intercambio aceptable."
      ]
    },
    {
      "cell_type": "code",
      "execution_count": null,
      "metadata": {
        "id": "xnhuaDrsA6Gh",
        "colab": {
          "base_uri": "https://localhost:8080/"
        },
        "outputId": "43981a95-720d-457d-e4a6-80b01a3b8581"
      },
      "outputs": [
        {
          "output_type": "stream",
          "name": "stdout",
          "text": [
            "predicted trg = ['<unk>', 'es', 'un', 'hábil', 'carpintero', '.', '<eos>']\n"
          ]
        }
      ],
      "source": [
        "translation, attention = translate_sentence(src, vocab_src, vocab_tgt, model, device)\n",
        "\n",
        "print(f'predicted trg = {translation}')"
      ]
    },
    {
      "cell_type": "markdown",
      "metadata": {
        "id": "4LJ0gGPAA6Gh"
      },
      "source": [
        "Una vez más, algunos cabezales prestan total atención a \"ein\" mientras que otros no le prestan atención. Una vez más, la mayoría de los cabezales parecen extender su atención tanto al punto como a los tokens `<eos>` en la oración de origen cuando generan el punto y el token `<eos>` en la oración objetivo predicha, aunque algunos parecen prestar atención a tokens cercanos del comienzo de la oración."
      ]
    },
    {
      "cell_type": "code",
      "execution_count": null,
      "metadata": {
        "id": "qYJuvrTqA6Gh",
        "colab": {
          "base_uri": "https://localhost:8080/",
          "height": 1000
        },
        "outputId": "8d909680-2fad-40f7-fd3f-95ed295b0b94"
      },
      "outputs": [
        {
          "output_type": "stream",
          "name": "stderr",
          "text": [
            "<ipython-input-47-cfbacb0c00fc>:16: UserWarning: FixedFormatter should only be used together with FixedLocator\n",
            "  ax.set_xticklabels(['']+[t.lower() for t in sentence],\n",
            "<ipython-input-47-cfbacb0c00fc>:18: UserWarning: FixedFormatter should only be used together with FixedLocator\n",
            "  ax.set_yticklabels(['']+translation)\n"
          ]
        },
        {
          "output_type": "display_data",
          "data": {
            "text/plain": [
              "<Figure size 1500x2500 with 8 Axes>"
            ],
            "image/png": "[encoded data removed]"
          },
          "metadata": {}
        }
      ],
      "source": [
        "display_attention(src, translation, attention)"
      ]
    },
    {
      "cell_type": "markdown",
      "metadata": {
        "id": "enVxd6mNA6Gh"
      },
      "source": [
        "Finalmente, veremos un ejemplo de los datos de prueba."
      ]
    },
    {
      "cell_type": "code",
      "execution_count": null,
      "metadata": {
        "id": "kZTAn6cDA6Gh",
        "colab": {
          "base_uri": "https://localhost:8080/"
        },
        "outputId": "ba6c4ffb-e921-46b4-f9bf-81d9a1cf9a58"
      },
      "outputs": [
        {
          "output_type": "stream",
          "name": "stdout",
          "text": [
            "src = ['You', \"'re\", 'really', 'tall', ',', 'are', \"n't\", 'you', '?', '<eos>']\n",
            "trg = ['<bos>', 'Eres', 'realmente', 'alta', ',', '¿', 'no', '?', '<eos>']\n"
          ]
        }
      ],
      "source": [
        "example_idx = 8\n",
        "\n",
        "src, length, trg  = dataset_test[example_idx]\n",
        "print(f'src = {src}')\n",
        "print(f'trg = {trg}')"
      ]
    },
    {
      "cell_type": "markdown",
      "metadata": {
        "id": "AaWdg89NA6Gh"
      },
      "source": [
        "¡Una traducción perfecta!"
      ]
    },
    {
      "cell_type": "code",
      "execution_count": null,
      "metadata": {
        "id": "IWpkD9LBA6Gi",
        "colab": {
          "base_uri": "https://localhost:8080/"
        },
        "outputId": "61db3460-6b59-410e-acc1-609a9793a4e5"
      },
      "outputs": [
        {
          "output_type": "stream",
          "name": "stdout",
          "text": [
            "predicted trg = ['Eres', 'realmente', 'alto', ',', '¿', 'verdad', '?', '<eos>']\n"
          ]
        }
      ],
      "source": [
        "translation, attention = translate_sentence(src, vocab_src, vocab_tgt, model, device)\n",
        "\n",
        "print(f'predicted trg = {translation}')"
      ]
    },
    {
      "cell_type": "code",
      "execution_count": null,
      "metadata": {
        "id": "J2xftlpVA6Gj",
        "colab": {
          "base_uri": "https://localhost:8080/",
          "height": 1000
        },
        "outputId": "f0c3d5dd-c44e-42c3-c813-d4b6095cb585"
      },
      "outputs": [
        {
          "output_type": "stream",
          "name": "stderr",
          "text": [
            "<ipython-input-47-cfbacb0c00fc>:16: UserWarning: FixedFormatter should only be used together with FixedLocator\n",
            "  ax.set_xticklabels(['']+[t.lower() for t in sentence],\n",
            "<ipython-input-47-cfbacb0c00fc>:18: UserWarning: FixedFormatter should only be used together with FixedLocator\n",
            "  ax.set_yticklabels(['']+translation)\n"
          ]
        },
        {
          "output_type": "display_data",
          "data": {
            "text/plain": [
              "<Figure size 1500x2500 with 8 Axes>"
            ],
            "image/png": "[encoded data removed]"
          },
          "metadata": {}
        }
      ],
      "source": [
        "display_attention(src, translation, attention)"
      ]
    }
  ],
  "metadata": {
    "accelerator": "GPU",
    "colab": {
      "provenance": []
    },
    "gpuClass": "standard",
    "kernelspec": {
      "display_name": "Python 3",
      "language": "python",
      "name": "python3"
    },
    "language_info": {
      "codemirror_mode": {
        "name": "ipython",
        "version": 3
      },
      "file_extension": ".py",
      "mimetype": "text/x-python",
      "name": "python",
      "nbconvert_exporter": "python",
      "pygments_lexer": "ipython3",
      "version": "3.8.5"
    }
  },
  "nbformat": 4,
  "nbformat_minor": 0
}